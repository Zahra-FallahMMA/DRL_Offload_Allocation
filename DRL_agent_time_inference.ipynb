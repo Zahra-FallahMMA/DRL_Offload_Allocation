{
  "cells": [
    {
      "cell_type": "markdown",
      "metadata": {
        "id": "view-in-github",
        "colab_type": "text"
      },
      "source": [
        "<a href=\"https://colab.research.google.com/github/Zahra-FallahMMA/DRL_Offload_Allocation/blob/main/DRL_agent_time_inference.ipynb\" target=\"_parent\"><img src=\"https://colab.research.google.com/assets/colab-badge.svg\" alt=\"Open In Colab\"/></a>"
      ]
    },
    {
      "cell_type": "markdown",
      "metadata": {
        "id": "PcuUUZU1G5k4"
      },
      "source": [
        "# import Libraries"
      ]
    },
    {
      "cell_type": "code",
      "execution_count": 2,
      "metadata": {
        "colab": {
          "base_uri": "https://localhost:8080/"
        },
        "id": "LIP4GlsbGwAx",
        "outputId": "c6b85daf-a408-4333-a0e7-2d18eab122bc"
      },
      "outputs": [
        {
          "output_type": "stream",
          "name": "stdout",
          "text": [
            "Collecting simpy\n",
            "  Downloading simpy-4.1.1-py3-none-any.whl.metadata (6.1 kB)\n",
            "Downloading simpy-4.1.1-py3-none-any.whl (27 kB)\n",
            "Installing collected packages: simpy\n",
            "Successfully installed simpy-4.1.1\n"
          ]
        }
      ],
      "source": [
        "import xml.etree.ElementTree as ET\n",
        "from io import StringIO\n",
        "import os\n",
        "import re\n",
        "import numpy as np\n",
        "from collections import deque, defaultdict\n",
        "import random\n",
        "from keras.models import Sequential\n",
        "from keras.layers import Dense, Dropout\n",
        "from keras.optimizers import Adam\n",
        "from keras.models import load_model\n",
        "from itertools import product\n",
        "import tensorflow as tf\n",
        "!pip install simpy\n",
        "import simpy\n",
        "\n",
        "# Set TensorFlow logging level to suppress detailed logs\n",
        "os.environ['TF_CPP_MIN_LOG_LEVEL'] = '3'\n",
        "tf.get_logger().setLevel('ERROR')"
      ]
    },
    {
      "cell_type": "markdown",
      "metadata": {
        "id": "O1zMfxAcro7o"
      },
      "source": [
        "Class random agent"
      ]
    },
    {
      "cell_type": "code",
      "execution_count": 3,
      "metadata": {
        "id": "IMFxL4KkrnTA"
      },
      "outputs": [],
      "source": [
        "class RandomAgent:\n",
        "\n",
        "   def __init__(self, action_size):\n",
        "      self.action_size = action_size\n",
        "\n",
        "   def choose_action(self):\n",
        "        return random.randrange(self.action_size)"
      ]
    },
    {
      "cell_type": "markdown",
      "metadata": {
        "id": "lCfIwrJDHK33"
      },
      "source": [
        "# Class DQNAgent"
      ]
    },
    {
      "cell_type": "code",
      "execution_count": 4,
      "metadata": {
        "id": "qreTNfv_HP9X"
      },
      "outputs": [],
      "source": [
        "class DQNAgent:\n",
        "    def __init__(self, state_size, action_size, learning_rate=0.001, discount_factor=0.95, exploration_rate=1.0,\n",
        "                 exploration_decay=0.995, exploration_min=0.01, batch_size=64, memory_size=2000, model_path = None):\n",
        "        self.state_size = state_size\n",
        "        self.action_size = action_size\n",
        "        self.learning_rate = learning_rate\n",
        "        self.discount_factor = discount_factor\n",
        "        self.exploration_rate = exploration_rate\n",
        "        self.exploration_decay = exploration_decay\n",
        "        self.exploration_min = exploration_min\n",
        "        self.batch_size = batch_size\n",
        "\n",
        "        if model_path is not None:\n",
        "            self.model = load_model(model_path)\n",
        "        else:\n",
        "            self.model = self._build_model()\n",
        "\n",
        "\n",
        "    def _build_model(self):\n",
        "        model = Sequential()\n",
        "\n",
        "        # Input layer\n",
        "        model.add(Dense(128, input_dim=self.state_size, activation='relu'))\n",
        "        model.add(Dropout(0.4))  # Slightly reduced dropout to retain more information\n",
        "\n",
        "        # Hidden layers\n",
        "        model.add(Dense(128, activation='relu'))\n",
        "        model.add(Dropout(0.4))\n",
        "\n",
        "        model.add(Dense(64, activation='relu'))\n",
        "        model.add(Dropout(0.3))\n",
        "\n",
        "        # Output layer\n",
        "        model.add(Dense(self.action_size, activation='linear'))\n",
        "\n",
        "        # Compile the model with a custom learning rate scheduler\n",
        "        model.compile(optimizer=Adam(learning_rate=self.learning_rate), loss='mse')\n",
        "        return model\n",
        "\n",
        "    def choose_action(self, state):\n",
        "        if np.random.rand() <= self.exploration_rate:\n",
        "            return random.randrange(self.action_size)\n",
        "        state = np.array(state).reshape(1, -1)  # Ensure state is 2D\n",
        "        q_values = self.model.predict(state, verbose=0)\n",
        "        return np.argmax(q_values[0])\n",
        "\n",
        "    def save_model(self, path):\n",
        "        self.model.save(path)"
      ]
    },
    {
      "cell_type": "markdown",
      "metadata": {
        "id": "sc5cwMB6HUAZ"
      },
      "source": [
        "# class Task"
      ]
    },
    {
      "cell_type": "code",
      "execution_count": 5,
      "metadata": {
        "id": "dWqg63i_HW5y"
      },
      "outputs": [],
      "source": [
        "class Task:\n",
        "    def __init__(self, id, instructions, workflow_id):\n",
        "        self.id = id\n",
        "        self.instructions = instructions  # Execution time or computational instructions\n",
        "        self.children = []  # List of tasks that depend on this task\n",
        "        self.parents = []  # List of tasks this task depends on\n",
        "\n",
        "        self.input_files = []   # list of (filename, size)\n",
        "        self.output_files = []  # list of (filename, size)\n",
        "\n",
        "        self.executed = False  # Status of execution\n",
        "        self.executed_on = None  # Node this task was executed on\n",
        "        self.execution_time = 0  # Time taken to execute the task\n",
        "        self.cost = 0  # Cost of executing the task\n",
        "        self.comm_delay = 0  # Communication delay in seconds\n",
        "        self.workflow_id = workflow_id  # Workflow identifier to which this task belongs\n",
        "        self.total_transfer_files_size = 0\n"
      ]
    },
    {
      "cell_type": "markdown",
      "metadata": {
        "id": "V6GeROhDHben"
      },
      "source": [
        "# Class Workflow"
      ]
    },
    {
      "cell_type": "code",
      "execution_count": 6,
      "metadata": {
        "id": "l1dvEPosHyYn"
      },
      "outputs": [],
      "source": [
        "class Workflow:\n",
        "    def __init__(self, id):\n",
        "        self.id = id  # Workflow identifier\n",
        "        self.tasks = {}  # Dictionary of tasks in the workflow\n",
        "\n",
        "    def add_task(self, task_id, instructions, parent_ids=[], input_files=[], output_files=[]):\n",
        "        if task_id not in self.tasks:\n",
        "            self.tasks[task_id] = Task(task_id, instructions, self.id)\n",
        "        task = self.tasks[task_id]\n",
        "        for parent_id in parent_ids:\n",
        "            if parent_id not in self.tasks:\n",
        "                self.tasks[parent_id] = Task(parent_id, 0, self.id)\n",
        "            parent_task = self.tasks[parent_id]\n",
        "            parent_task.children.append(task)\n",
        "            task.parents.append(parent_task)\n",
        "\n",
        "        task.input_files.extend(input_files)\n",
        "        task.output_files.extend(output_files)"
      ]
    },
    {
      "cell_type": "markdown",
      "metadata": {
        "id": "sOhKq478H4_X"
      },
      "source": [
        "# class parse_dax"
      ]
    },
    {
      "cell_type": "code",
      "execution_count": 7,
      "metadata": {
        "id": "92rkJc8AH3Bd"
      },
      "outputs": [],
      "source": [
        "def parse_dax(file_path, workflow_id):\n",
        "    tree = ET.parse(file_path)\n",
        "    root = tree.getroot()\n",
        "\n",
        "    workflow_id = workflow_id\n",
        "    workflow = Workflow(workflow_id)\n",
        "\n",
        "    # Pegasus DAX namespace\n",
        "    dax_ns = '{http://pegasus.isi.edu/schema/DAX}'\n",
        "\n",
        "    # Parse jobs\n",
        "    jobs = {job.attrib['id']: job for job in root.findall(f'{dax_ns}job')}\n",
        "\n",
        "    # Add jobs to workflow\n",
        "    for job_id, job_elem in jobs.items():\n",
        "        instructions = float(job_elem.attrib.get('runtime', 0))\n",
        "\n",
        "        # NEW: Gather input/output files from <uses link=\"input\" ...> or <uses link=\"output\" ...>\n",
        "        input_files = []\n",
        "        output_files = []\n",
        "        for uses_elem in job_elem.findall(f'.//{dax_ns}uses'):\n",
        "            link_type = uses_elem.attrib.get('link', '')\n",
        "            file_name = uses_elem.attrib.get('file', '')\n",
        "            file_size_str = uses_elem.attrib.get('size', '0')\n",
        "            file_size = int(file_size_str)\n",
        "\n",
        "            if link_type == 'input':\n",
        "                input_files.append((file_name, file_size))  # e.g. (\"FFI_0_2_subfx.sgt\", 262360916)\n",
        "            elif link_type == 'output':\n",
        "                output_files.append((file_name, file_size))\n",
        "\n",
        "        workflow.add_task(job_id,\n",
        "                          instructions,\n",
        "                          parent_ids=[],  # We'll handle parents in a moment,\n",
        "                          input_files=input_files,\n",
        "                          output_files=output_files)\n",
        "\n",
        "    # Parse dependencies\n",
        "    for child in root.findall(f'{dax_ns}child'):\n",
        "        child_id = child.attrib['ref']\n",
        "        parent_ids = [parent.attrib['ref'] for parent in child.findall(f'{dax_ns}parent')]\n",
        "        workflow.add_task(child_id, 0, parent_ids)  # Adds a child node with its parent nodes, setting instructions to 0 to avoid overwrite\n",
        "\n",
        "    return workflow\n",
        "\n",
        "\n",
        "def ensemble_of_workflows(name, size=10, distribution='constant', dax_path=''):\n",
        "    ws = []\n",
        "    ensemble = []\n",
        "    directory_path = dax_path  # Directory containing DAX files\n",
        "\n",
        "    # List and filter files in directory\n",
        "    files = os.listdir(directory_path)\n",
        "    filtered_files = [file for file in files if name in file]\n",
        "\n",
        "    if distribution == 'constant':\n",
        "        pattern = r'100(?!\\d)'\n",
        "        for s in filtered_files:\n",
        "            if re.search(pattern, s):\n",
        "                ensemble = [s] * size  # Replicate the matched file 'size' times\n",
        "                break\n",
        "    else:\n",
        "        if(name == 'CyberShake'):\n",
        "          if(size == 10):\n",
        "            numbers =[3 ,2, 0, 3, 4, 1, 2 ,0 ,3, 4]\n",
        "          elif(size == 20):\n",
        "            numbers = [0 ,3, 4, 0 ,0 ,0, 3, 3 ,0 ,0, 4, 4, 2, 0, 4, 2, 0, 2, 0 ,3]\n",
        "          elif(size == 30):\n",
        "            numbers =  [0, 2, 2, 0, 2, 2, 2, 1, 1, 2, 4, 2, 2, 3, 0 ,4 ,3 ,4 ,3 ,4 ,2 ,2 ,4 ,3 ,3 ,2, 3, 2, 4, 3]\n",
        "          elif(size == 40):\n",
        "            numbers = [2, 4, 1, 0, 0, 2, 0, 2, 1, 4, 0, 0, 3, 1, 0 ,2 ,1, 0, 3, 1, 1, 4, 3, 2, 0, 1, 2, 4, 2, 3 ,1, 2, 4, 2, 2, 1, 0, 2, 3, 1]\n",
        "          elif(size == 50):\n",
        "            numbers = [4, 2, 1, 3, 1, 2, 2, 0, 0, 3, 3, 2, 0, 4, 1, 2, 1, 3, 1, 2, 2, 4 ,3, 0, 2, 4, 2, 0, 3, 2 ,3 ,2, 0, 2, 4, 1, 2, 2, 0, 4, 3, 0, 2, 0, 1, 2, 3, 1, 4, 4]\n",
        "          elif(size == 60):\n",
        "            numbers =  [4, 3, 2, 4, 2, 2, 3, 4, 4, 2, 0, 1, 4, 4, 0, 0, 3, 0, 4, 3 ,4, 1, 0, 0, 4, 0, 4, 0, 3, 4 ,0 ,3, 1, 2, 2, 0, 3, 3, 3, 4, 2, 3, 1, 2, 0, 4, 3, 0, 3, 0, 2, 4, 1, 4, 4, 3, 2, 2, 2, 1]\n",
        "          elif(size == 70):\n",
        "            numbers = [3, 2, 1, 1, 4, 3, 0, 3, 2, 0, 3, 0, 4 ,2 ,1 ,4, 0, 1, 0, 1, 0, 2, 3, 3, 0, 1, 0, 3, 0, 1, 3, 4, 0, 0, 0, 2 ,1, 2 ,1, 3, 0, 4, 1, 2, 1, 4, 1, 2, 2, 4, 3, 0, 2, 0, 4, 0, 3, 1, 0, 3, 2, 1, 1, 3, 2, 3, 4, 0, 2, 3]\n",
        "          elif(size == 80):\n",
        "            numbers =[1, 0, 0, 4, 1, 3, 3, 4, 4, 3, 0, 4, 4, 2, 1, 4, 3, 1 ,0 ,1, 0, 3, 4, 4, 3, 2, 1, 2, 0, 0, 3, 2, 2, 1, 4, 2, 3, 1, 2, 4 ,0 ,2, 4, 4, 2, 0, 3, 2, 1, 2, 0, 3, 3, 2, 4, 2, 2, 3, 1, 4, 1, 1, 4, 1, 3, 2, 2, 3, 0, 2, 2, 3, 2, 4, 2, 0, 3, 0, 2, 2]\n",
        "          elif(size == 90):\n",
        "            numbers = [4, 0, 0, 0, 1, 4, 3, 0, 3, 3, 1, 1, 3, 1, 2, 0, 4, 3, 3, 1, 4, 2, 2, 1, 4, 2, 4, 4, 1, 3, 4, 1, 1, 1, 3, 0, 4, 0, 4, 0, 1, 0, 4, 1, 0, 1, 1, 2, 3, 1, 3, 1, 1, 0, 3, 2, 3, 2, 1, 4, 2, 0, 4, 0, 0, 1, 3, 2, 2, 2, 0, 4, 4, 2, 4, 4, 2, 1, 4, 3, 4, 1, 3, 3, 4, 4, 0, 0, 3, 0]\n",
        "          elif(size == 100):\n",
        "            numbers = [3, 3, 4, 2, 2, 2, 3, 4, 4, 4, 1, 3, 2, 2, 2, 1, 3, 1, 4, 0, 3, 2, 3, 3, 1, 2, 1, 1, 1, 0, 3, 2, 1, 2, 1, 0, 1, 3, 1, 2, 1, 0, 0, 1, 2, 0, 1, 1, 3, 1, 1, 0, 1, 2, 3, 1, 1, 1, 3, 0, 3, 1, 1, 3, 1, 1, 3, 4, 1, 3, 2, 2, 4, 4, 3, 2, 1, 4, 1, 2, 2, 4, 0, 1, 1, 1, 0, 1, 1, 0, 2, 3, 4, 2, 1, 1, 0, 0, 2, 2]\n",
        "\n",
        "        elif(name == 'Montage'):\n",
        "          if(size == 10):\n",
        "              numbers = [4, 5, 0, 4, 2, 0, 2, 3, 2, 4]\n",
        "          elif(size == 20):\n",
        "              numbers = [2, 0, 2, 4, 6, 5, 4, 0, 4, 0, 1, 5, 2, 0, 5, 2, 6, 4, 0, 6]\n",
        "          elif(size == 30):\n",
        "              numbers = [6, 6, 4, 0, 2, 0, 0, 4, 0, 1, 4, 5, 5, 4, 2, 4, 5, 6, 2, 1, 4, 0, 3, 1, 4, 0, 6, 5, 4, 6]\n",
        "          elif(size == 40):\n",
        "              numbers = [4, 4, 5, 0, 2, 5, 1, 1, 4, 0, 2, 1, 3, 4, 4, 0, 4, 1, 1, 0, 1, 0, 4, 3, 4, 0, 4, 4, 4, 0, 2, 1, 0, 6, 2, 5, 0, 6, 5, 0]\n",
        "          elif(size == 50):\n",
        "              numbers = [1, 1, 5, 0, 1, 2, 3, 1, 6, 3, 6, 2, 2, 4, 0, 6, 3, 6, 4, 4, 6, 1, 2, 2, 0, 5, 3, 5, 3, 2, 0, 1, 1, 4, 5, 0, 4, 0, 5, 3, 2, 0, 2, 6, 3, 0, 0, 2, 5, 5]\n",
        "          elif(size == 60):\n",
        "              numbers = [3, 6, 4, 0, 3, 0, 1, 5, 4, 5, 5, 3, 0, 2, 0, 0, 6, 5, 0, 2, 1, 6, 6, 1, 0, 0, 4, 4, 0, 3, 4, 1, 0, 3, 6, 3, 1, 1, 4, 3, 0, 1, 1, 0, 6, 6, 0, 6, 6, 4, 2, 5, 5, 1, 6, 0, 5, 5, 1, 4]\n",
        "          elif(size == 70):\n",
        "              numbers = [1, 5, 6, 3, 0, 6, 5, 6, 2, 2, 6, 0, 4, 2, 3, 6, 5, 6, 6, 2, 6, 4, 4, 1, 2, 6, 4, 6, 1, 2, 4, 2, 3, 2, 6, 3, 3, 5, 3, 6, 4, 5, 3, 2, 4, 1, 2, 3, 6, 3, 6, 6, 4, 6, 5, 0, 5, 0, 4, 0, 4, 5, 4, 3, 2, 3, 5, 5, 2, 0]\n",
        "          elif(size == 80):\n",
        "              numbers = [1, 2, 3, 2, 2, 4, 5, 0, 0, 2, 4, 4, 4, 4, 5, 5, 1, 1, 3, 3, 3, 4, 3, 3, 5, 2, 0, 4, 2, 4, 5, 6, 4, 1, 3, 2, 5, 6, 1, 0, 4, 1, 6, 5, 0, 2, 5, 1, 3, 4, 3, 0, 4, 5, 2, 0, 5, 4, 0, 1, 6, 2, 5, 5, 2, 4, 3, 2, 3, 5, 3, 1, 2, 0, 5, 2, 1, 0, 5, 6]\n",
        "          elif(size == 90):\n",
        "              numbers = [2, 4, 3, 3, 3, 5, 5, 2, 3, 2, 0, 1, 6, 0, 6, 0, 2, 1, 5, 5, 5, 2, 0, 2, 5, 5, 5, 5, 4, 0, 1, 3, 6, 3, 1, 2, 4, 2, 2, 3, 0, 4, 0, 4, 2, 5, 2, 4, 6, 3, 6, 5, 2, 3, 5, 5, 2, 5, 5, 2, 0, 0, 3, 5, 1, 2, 1, 0, 0, 4, 0, 5, 5, 4, 3, 6, 0, 1, 1, 2, 2, 4, 1, 6, 4, 6, 5, 0, 4, 2]\n",
        "          elif(size == 100):\n",
        "              numbers = [5, 2, 3, 1, 6, 5, 6, 0, 5, 6, 5, 0, 0, 6, 0, 6, 2, 4, 4, 6, 0, 5, 4, 6, 6, 5, 5, 1, 2, 5, 2, 4, 3, 3, 3, 5, 2, 4, 0, 0, 4, 0, 4, 6, 1, 5, 5, 4, 3, 2, 5, 2, 4, 6, 3, 4, 4, 3, 6, 5, 3, 0, 2, 3, 1, 0, 2, 4, 6, 6, 4, 5, 6, 6, 5, 3, 5, 0, 1, 0, 3, 1, 4, 0, 6, 3, 0, 6, 5, 5, 6, 4, 3, 4, 0, 4, 0, 6, 5, 3]\n",
        "\n",
        "        elif(name == 'Sipht'):\n",
        "          if(size == 10):\n",
        "              numbers = [1, 2, 4, 4, 1, 2, 0, 0, 2, 2]\n",
        "          elif(size == 20):\n",
        "              numbers = [3, 0, 0, 3, 1, 2, 4, 3, 4, 2, 1, 0, 3, 0, 1, 0, 3, 0, 3, 2]\n",
        "          elif(size == 30):\n",
        "              numbers = [3, 2, 0, 1, 3, 2, 2, 3, 1, 3, 1, 0, 3, 4, 0, 3, 2, 0, 2, 2, 2, 0, 1, 1, 0, 3, 0, 1, 4, 1]\n",
        "          elif(size == 40):\n",
        "              numbers = [2, 3, 0, 2, 3, 0, 4, 3, 3, 0, 1, 2, 2, 0, 3, 4, 4, 0, 0, 1, 1, 0, 4, 0, 4, 0, 3, 3, 4, 2, 4, 2, 3, 0, 4, 0, 3, 0, 4, 3]\n",
        "          elif(size == 50):\n",
        "              numbers = [2, 3, 4, 0, 2, 3, 0, 4, 3, 2, 4, 4, 0, 1, 0, 4, 3, 3, 4, 3, 4, 0, 4, 2, 0, 0, 2, 2, 1, 3, 3, 4, 4, 1, 3, 4, 0, 2, 3, 1, 1, 1, 4, 0, 4, 4, 3, 1, 2, 2]\n",
        "          elif(size == 60):\n",
        "              numbers = [2, 1, 1, 3, 2, 3, 2, 0, 2, 0, 0, 3, 2, 2, 1, 3, 4, 3, 0, 1, 1, 3, 3, 2, 4, 4, 4, 1, 1, 3, 2, 1, 0, 2, 0, 0, 3, 0, 1, 3, 0, 0, 3, 4, 3, 1, 1, 1, 4, 3, 0, 1, 2, 1, 3, 2, 2, 4, 0, 0]\n",
        "          elif(size == 70):\n",
        "              numbers = [1, 2, 1, 3, 2, 3, 3, 4, 3, 1, 2, 1, 2, 4, 4, 3, 3, 2, 0, 1, 3, 1, 1, 3, 4, 1, 1, 4, 2, 0, 2, 4, 1, 4, 0, 0, 1, 4, 0, 1, 2, 1, 2, 3, 4, 0, 2, 0, 1, 0, 0, 2, 0, 4, 4, 0, 4, 0, 1, 2, 0, 1, 0, 4, 4, 2, 0, 2, 2, 2]\n",
        "          elif(size == 80):\n",
        "              numbers = [1, 2, 1, 3, 2, 3, 3, 4, 3, 1, 2, 1, 2, 4, 4, 3, 3, 2, 0, 1, 3, 1, 1, 3, 4, 1, 1, 4, 2, 0, 2, 4, 1, 4, 0, 0, 1, 4, 0, 1, 2, 1, 2, 3, 4, 0, 2, 0, 1, 0, 0, 2, 0, 4, 4, 0, 4, 0, 1, 2, 0, 1, 0, 4, 4, 2, 0, 2, 2, 2]\n",
        "          elif(size == 90):\n",
        "              numbers = [4, 4, 4, 0, 2, 1, 1, 1, 4, 2, 0, 2, 0, 4, 3, 0, 1, 2, 2, 4, 0, 1, 4, 4, 3, 2, 1, 3, 2, 0, 0, 0, 2, 0, 1, 1, 4, 3, 0, 0, 3, 1, 4, 0, 1, 4, 1, 4, 1, 3, 3, 1, 1, 1, 4, 1, 3, 3, 1, 1, 3, 2, 3, 2, 4, 0, 1, 0, 0, 1, 3, 0, 0, 2, 1, 1, 2, 3, 4, 1, 1, 0, 4, 4, 2, 0, 0, 0, 1, 2]\n",
        "          elif(size == 100):\n",
        "              numbers = [1, 4, 3, 3, 3, 0, 2, 3, 2, 1, 1, 4, 3, 0, 0, 4, 4, 0, 3, 0, 0, 1, 1, 3, 2, 3, 2, 4, 1, 2, 2, 2, 2, 3, 1, 1, 3, 2, 4, 4, 2, 3, 0, 0, 2, 0, 1, 2, 2, 3, 3, 3, 2, 0, 4, 2, 1, 1, 3, 2, 4, 1, 3, 1, 0, 2, 4, 0, 2, 0, 0, 0, 4, 2, 4, 2, 0, 4, 4, 1, 0, 2, 0, 0, 2, 0, 2, 2, 4, 1, 4, 2, 4, 3, 0, 3, 4, 2, 1, 0]\n",
        "\n",
        "        elif(name == 'Inspiral'):\n",
        "            if(size == 10):\n",
        "              numbers = [3, 3, 0, 2, 1, 3, 2 ,3 ,0, 1]\n",
        "            elif(size == 20):\n",
        "              numbers = [0, 1, 1, 3, 2, 2, 2 ,0, 3, 0, 1, 3, 3, 2, 3, 2, 3, 2, 1, 2]\n",
        "            elif(size == 30):\n",
        "              numbers = [1, 2, 3, 1, 0, 3, 1, 1, 1, 0, 1, 0, 3, 0, 0, 1, 3, 3, 3, 2, 0, 3, 3, 1, 1, 0, 2, 3, 0, 2]\n",
        "            elif(size == 40):\n",
        "              numbers = [1, 2, 2, 3, 2, 2, 3, 0, 0, 3, 1, 2, 1, 3, 3, 0, 2, 1, 1, 3, 2, 0, 2, 2, 0, 3, 1, 3, 2, 0, 0, 1, 1, 1, 3, 0, 2, 1, 3, 3]\n",
        "            elif(size == 50):\n",
        "              numbers = [0, 3, 0, 1, 1, 2, 0, 2, 3, 3, 1, 2, 2, 1, 3, 0, 0, 1, 3, 2, 3, 2, 0, 1, 3, 1, 1, 0, 3, 0, 2, 3, 0, 3, 0, 2, 2, 3, 2, 1, 2, 2, 2, 2, 1, 2, 2, 1, 3, 0]\n",
        "            elif(size == 60):\n",
        "              numbers = [3, 0, 0, 2, 2, 1, 1, 0, 1, 3, 0, 1, 2, 2, 3, 2, 0, 3, 3, 2, 1, 1, 0, 2, 3, 3, 0, 1, 0, 1, 0, 1, 0, 1, 2, 2, 0, 2, 0, 1, 1, 0, 2, 0, 1, 2, 0, 1, 3, 2, 0, 2, 3, 1, 0, 1, 2, 3, 2, 0]\n",
        "            elif(size == 70):\n",
        "                numbers = [1, 0, 3, 1, 0, 3, 0, 3, 0, 2, 2, 2, 2, 2, 3, 1, 3, 1, 2, 2, 3, 2, 1, 1, 2, 2, 1, 2, 2, 3, 3, 3, 2, 3, 0, 2, 1, 1, 3, 0, 2, 3, 0, 2, 3, 2, 3, 3, 3, 0, 3, 1, 1, 2, 0, 2, 0, 3, 3, 1, 3, 1, 1, 3, 2, 0, 3, 3, 3, 0]\n",
        "            elif(size == 80):\n",
        "                numbers = [1, 2, 1, 0, 1, 2, 2, 2, 0, 3, 1, 0, 0, 0, 2, 1, 1, 0, 2, 0, 0, 1, 2, 1, 0, 3, 3, 2, 1, 2, 1, 3, 3, 2, 2, 2, 3, 3, 3, 1, 0, 2, 3, 1, 0, 3, 0, 0, 3, 1, 2, 2, 0, 3, 1, 1, 2, 0, 1, 0, 3, 1, 3, 2, 3, 2, 1, 2, 0, 0, 2, 1, 1, 1, 1, 3, 0, 3, 1, 2]\n",
        "            elif(size == 90):\n",
        "                numbers = [3, 2, 3, 0, 0, 3, 0, 3, 1, 0, 0, 0, 3, 1, 3, 3, 2, 2, 0, 1, 1, 1, 1, 0, 2, 1, 0, 0, 2, 0, 1, 0, 3, 2, 1, 2, 0, 2, 3, 0, 2, 2, 3, 1, 3, 1, 0, 1, 3, 2, 2, 1, 3, 2, 3, 3, 1, 1, 1, 1, 2, 3, 1, 3, 2, 1, 3, 1, 2, 3, 3, 1, 3, 0, 3, 3, 3, 1, 3, 0, 2, 1, 1, 0, 1, 2, 1, 1, 2, 0]\n",
        "            elif(size == 100):\n",
        "              numbers = [1, 3, 2, 0, 2, 0, 1, 0, 2, 1, 1, 3, 1, 2, 3, 2, 0, 1, 0, 0, 3, 0, 2, 3, 1, 1, 3, 2, 3, 1, 0, 3, 3, 0, 1, 1, 1, 0, 3, 3, 0, 2, 1, 0, 2, 3, 0, 1, 0, 2, 1, 3, 2, 3, 1, 1, 2, 0, 0, 2, 3, 0, 0, 0, 2, 2, 0, 3, 3, 0, 1, 0, 1, 2, 0, 0, 2, 1, 0, 2, 0, 1, 3, 1, 3, 3, 1, 1, 2, 3, 3, 2, 3, 1, 2, 2, 3, 0, 0, 2]\n",
        "\n",
        "        ensemble = [filtered_files[i] for i in numbers]  # Select random files based on uniform distribution\n",
        "    w_id = 0\n",
        "    for name in ensemble:\n",
        "        ws.append(parse_dax(dax_path+name,w_id))\n",
        "        w_id = w_id + 1\n",
        "\n",
        "    return ws"
      ]
    },
    {
      "cell_type": "markdown",
      "metadata": {
        "id": "u8oPYhPOIF39"
      },
      "source": [
        "# Loading dax files"
      ]
    },
    {
      "cell_type": "code",
      "execution_count": 8,
      "metadata": {
        "colab": {
          "base_uri": "https://localhost:8080/"
        },
        "id": "z69MgkfSH81N",
        "outputId": "1dfeb917-d14b-41d8-eb69-45def1ca8d6e"
      },
      "outputs": [
        {
          "output_type": "stream",
          "name": "stdout",
          "text": [
            "Mounted at /content/drive\n"
          ]
        }
      ],
      "source": [
        "from google.colab import drive\n",
        "import glob\n",
        "\n",
        "drive.mount('/content/drive')\n",
        "folder_path = '/content/drive/My Drive/Zahra/dax/'"
      ]
    },
    {
      "cell_type": "markdown",
      "metadata": {
        "id": "3x5Y4MN-IMLe"
      },
      "source": [
        "# class Device"
      ]
    },
    {
      "cell_type": "code",
      "execution_count": 9,
      "metadata": {
        "id": "kK7fXmQeIPIW"
      },
      "outputs": [],
      "source": [
        "class Device:\n",
        "    def __init__(self, id, mips, cost_per_hour, env):\n",
        "        self.id = id\n",
        "        self.mips = mips\n",
        "        self.cost_per_hour = cost_per_hour\n",
        "        self.queue = deque()\n",
        "        self.runnig_queue = deque()\n",
        "        self.resource = simpy.Resource(env, capacity=1)\n",
        "        self.dev_type = id.split('_')[0]\n",
        "\n",
        "    def add_task_to_queue(self, task):\n",
        "        self.queue.append(task)\n",
        "\n",
        "    def get_next_task(self):\n",
        "        return self.queue.popleft() if self.queue else None\n",
        "\n",
        "    def waiting_time(self):\n",
        "        waiting_time = 0\n",
        "        for t in self.queue:\n",
        "            waiting_time += t.instructions / self.mips\n",
        "        return waiting_time\n"
      ]
    },
    {
      "cell_type": "markdown",
      "metadata": {
        "id": "cUV48C7AImGY"
      },
      "source": [
        "# class FogEnv"
      ]
    },
    {
      "cell_type": "code",
      "execution_count": 10,
      "metadata": {
        "id": "A8B_f_ZNIovb"
      },
      "outputs": [],
      "source": [
        "import simpy\n",
        "\n",
        "class FogEnv:\n",
        "    def __init__(self, env, iot_devices, fog_nodes, cloud_servers, workflows):\n",
        "        self.env = env\n",
        "        self.iot_devices = iot_devices\n",
        "        self.fog_nodes = fog_nodes\n",
        "        self.cloud_servers = cloud_servers\n",
        "        self.cost = 0\n",
        "        self.completed_workflows = 0\n",
        "        self.workflows = workflows\n",
        "        self.total_delay = 0\n",
        "\n",
        "        # NEW: Track file origins\n",
        "        self.file_origins = {}  # { file_name: device_id }\n",
        "\n",
        "        # Example bandwidth table (Mb/s)\n",
        "        self.bandwidth_matrix = {\n",
        "            ('iot', 'iot'): 2000,\n",
        "            ('iot', 'fog'): 500,\n",
        "            ('iot', 'cloud'): 500,\n",
        "            ('fog', 'iot'): 500,\n",
        "            ('fog', 'fog'): 4000,\n",
        "            ('fog', 'cloud'): 1000,\n",
        "            ('cloud', 'iot'): 500,\n",
        "            ('cloud', 'fog'): 1000,\n",
        "            ('cloud', 'cloud'): 1000\n",
        "        }\n",
        "    # Storage cost rate per GB per hour for each device type (in dollars)\n",
        "        self.storage_cost_rate = {\n",
        "            'iot': 0.0007,  # $ per GB per hour for IoT devices\n",
        "            'fog': 0.00042,  # $ per GB per hour for Fog nodes\n",
        "            'cloud': 0.00003  # $ per GB per hour for Cloud servers\n",
        "        }\n",
        "\n",
        "    def assign_task(self, task, device):\n",
        "        with device.resource.request() as req:\n",
        "            yield req\n",
        "\n",
        "            # Set the arrival time when the task is added to the queue\n",
        "            task.arrival_time = self.env.now\n",
        "\n",
        "            # 1) Transfer each input file if needed\n",
        "            for file_name, file_size_bytes in task.input_files:\n",
        "                yield self.env.process(self.handle_file_transfer(task, file_name, file_size_bytes, device))\n",
        "\n",
        "\n",
        "            # 2) Execute the task on this device\n",
        "            execution_time = task.instructions * 6000 / device.mips\n",
        "            self.total_delay += execution_time\n",
        "            task.execution_time = execution_time\n",
        "            yield self.env.timeout(execution_time)\n",
        "\n",
        "            # 3) Calculate waiting time (difference between current time and arrival time)\n",
        "            waiting_time = self.env.now - task.arrival_time\n",
        "\n",
        "            # 4) Update cost\n",
        "            task.cost = execution_time * device.cost_per_hour\n",
        "            self.cost += task.cost\n",
        "\n",
        "            # 5) Calculate and add storage cost (including waiting time)\n",
        "            storage_cost = self.calculate_storage_cost(task, device, waiting_time, execution_time)\n",
        "            task.storage_cost = storage_cost\n",
        "            self.cost += storage_cost\n",
        "\n",
        "            task.executed = True\n",
        "            task.executed_on = device.id\n",
        "            task.execution_time = execution_time\n",
        "\n",
        "\n",
        "            # 4) Mark output files as originating from this device\n",
        "            for out_file, _sz in task.output_files:\n",
        "                self.file_origins[out_file] = device.id\n",
        "\n",
        "            # 5) Check if this workflow is now complete\n",
        "            wf = next(w for w in self.workflows if w.id == task.workflow_id)\n",
        "            self.check_workflow_completion(wf)\n",
        "            device.queue.popleft()\n",
        "\n",
        "    def calculate_storage_cost(self, task, device, waiting_time, execution_time):\n",
        "        total_file_size = 0\n",
        "\n",
        "        # Add the size of input files\n",
        "        for file_name, file_size_bytes in task.input_files:\n",
        "            total_file_size += file_size_bytes\n",
        "\n",
        "        # Add the size of output files\n",
        "        for out_file, file_size_bytes in task.output_files:\n",
        "            total_file_size += file_size_bytes\n",
        "\n",
        "        # Convert total size to GB\n",
        "        total_file_size_gb = total_file_size / (1024 ** 3)  # Convert bytes to GB\n",
        "\n",
        "        # Get the storage cost rate for the device type\n",
        "        device_type = device.dev_type\n",
        "        storage_cost_per_hour = self.storage_cost_rate.get(device_type, 0)\n",
        "\n",
        "        # Calculate the total storage time (waiting time + execution time)\n",
        "        total_storage_time = waiting_time + execution_time\n",
        "\n",
        "        # Convert total time from seconds to hours\n",
        "        total_time_in_hours = total_storage_time / 3600  # Convert seconds to hours\n",
        "\n",
        "\n",
        "        # Calculate the storage cost for this task (based on total storage time)\n",
        "        storage_cost = total_file_size_gb * storage_cost_per_hour * total_storage_time  # cost per GB per hour * time\n",
        "        return storage_cost\n",
        "\n",
        "    # Function to handle transfer\n",
        "    def handle_file_transfer(self,task, file_name, file_size_bytes, destination_device):\n",
        "        # If we don't know the file origin, assume it's \"local\" or from some default place\n",
        "        if file_name not in self.file_origins:\n",
        "            return  # no transfer needed\n",
        "\n",
        "        source_dev_id = self.file_origins[file_name]\n",
        "        if source_dev_id == destination_device.id:\n",
        "            return  # already local\n",
        "\n",
        "        # Get device types for bandwidth lookup\n",
        "        source_dev = self.get_device_by_id(source_dev_id)\n",
        "        if source_dev is None:\n",
        "            return  # fallback: no known device\n",
        "\n",
        "        task.total_transfer_files_size += file_size_bytes\n",
        "\n",
        "        source_type = source_dev.dev_type\n",
        "        dest_type = destination_device.dev_type\n",
        "\n",
        "        # bandwidth_matrix gives us Mb/s. Convert bytes -> megabits\n",
        "        # 1 byte = 8 bits, so:\n",
        "        file_megabits = file_size_bytes * 8 / 1e6\n",
        "\n",
        "        # Look up or fallback\n",
        "        band_mbps = self.bandwidth_matrix.get((source_type, dest_type), 1000.0)\n",
        "\n",
        "        # Transfer time (seconds)\n",
        "        transfer_time = file_megabits / band_mbps\n",
        "\n",
        "\n",
        "        # Optional: add base communication latency\n",
        "        comm_latency = 0.01  # 10 ms, for example\n",
        "        total_delay = comm_latency + transfer_time\n",
        "        self.total_delay += total_delay\n",
        "        task.comm_delay = total_delay\n",
        "\n",
        "        # Wait out the transfer in simulation time\n",
        "        yield self.env.timeout(total_delay)\n",
        "\n",
        "    def get_state(self, task):\n",
        "        return [self.cost] + [d.waiting_time() for d in self.iot_devices + self.fog_nodes + self.cloud_servers] + [task.instructions, task.total_transfer_files_size]\n",
        "\n",
        "    def get_device_by_id(self, device_id):\n",
        "        for device in self.iot_devices + self.fog_nodes + self.cloud_servers:\n",
        "            if device.id == device_id:\n",
        "                return device\n",
        "        return None\n",
        "\n",
        "    def check_workflow_completion(self, workflow):\n",
        "        # Check if all tasks in the workflow are executed\n",
        "        if all(task.executed for task in workflow.tasks.values()):\n",
        "            self.completed_workflows += 1  # Increment completed workflows counter\n",
        "            # print(f\"Workflow {workflow.id} is completed! Total completed workflows: {self.completed_workflows}\")\n",
        "\n",
        "\n",
        "\n",
        "\n",
        "\n",
        "def process_workflow(env, workflow, fog_env, agent):\n",
        "      # A list to hold all the processes (tasks)\n",
        "      processes = []\n",
        "\n",
        "      for task in workflow.tasks.values():\n",
        "          if task.executed:\n",
        "            continue\n",
        "          if all([parent.executed for parent in task.parents]) or task.parents == []:\n",
        "              state = np.array(fog_env.get_state(task)).reshape(1, -1)\n",
        "              action = agent.choose_action(state)\n",
        "\n",
        "              devices = fog_env.iot_devices + fog_env.fog_nodes + fog_env.cloud_servers\n",
        "              device = devices[action]\n",
        "\n",
        "              device.add_task_to_queue(task)\n",
        "              task.executed_on = device.id\n",
        "\n",
        "              # Start the task assignment process in SimPy\n",
        "              process = env.process(fog_env.assign_task(task, device))\n",
        "              processes.append(process)  # Add the process to the list for tracking\n",
        "\n",
        "      # Wait until all the processes finish (concurrent execution)\n",
        "      yield env.all_of(processes)\n"
      ]
    },
    {
      "cell_type": "markdown",
      "metadata": {
        "id": "Swj5rrsAJZV8"
      },
      "source": [
        "# class NewSim\n",
        "\n"
      ]
    },
    {
      "cell_type": "code",
      "execution_count": 11,
      "metadata": {
        "id": "SB2sfq22JcBF"
      },
      "outputs": [],
      "source": [
        "class  NewSim:\n",
        "    def __init__(self, num_iot, num_fog, num_server, learning_rate=0.001, discount_factor=0.95,\n",
        "                 exploration_rate=1.0, exploration_decay=0.995, exploration_min=0.01, batch_size=64, memory_size=2000, model_path=None):\n",
        "        self.num_iot = num_iot\n",
        "        self.num_fog = num_fog\n",
        "        self.num_server = num_server\n",
        "        self.num_totla_dev = num_iot + num_fog + num_server\n",
        "        self.learning_rate = learning_rate\n",
        "        self.discount_factor = discount_factor\n",
        "        self.exploration_rate = exploration_rate\n",
        "        self.exploration_decay = exploration_decay\n",
        "        self.exploration_min = exploration_min\n",
        "        self.batch_size = batch_size\n",
        "        self.memory_size = memory_size\n",
        "        self.model_path = model_path\n",
        "        self.env = simpy.Environment()\n",
        "        self.reset()\n",
        "        self.run()\n",
        "\n",
        "    def reset(self):\n",
        "        self.iot_devices = [Device(f'iot_{i}', 500, 0, self.env) for i in range(self.num_iot)]\n",
        "        self.fog_devices = [Device(f'fog_{i}', 4000, 1/3600, self.env) for i in range(self.num_fog)]\n",
        "        self.server_devices = [Device(f'server_{i}', 6000, 8/3600, self.env) for i in range(self.num_server)]\n",
        "        self.agent = DQNAgent(state_size=3+self.num_totla_dev, action_size=self.num_totla_dev, learning_rate=self.learning_rate, discount_factor=self.discount_factor,\n",
        "                                  exploration_rate=self.exploration_rate, exploration_decay=self.exploration_decay,\n",
        "                                  exploration_min=self.exploration_min, batch_size=self.batch_size, memory_size=self.memory_size, model_path = self.model_path)\n",
        "\n",
        "        self.workflows = ensemble_of_workflows(name = 'CyberShake', size=100, distribution = 'constant', dax_path=\"/content/drive/My Drive/Zahra/dax/\")\n",
        "    def run(self):\n",
        "        self.fog_env = FogEnv(self.env, self.iot_devices, self.fog_devices, self.server_devices,self.workflows)\n",
        "        for workflow in self.workflows:\n",
        "            self.env.process(process_workflow(self.env, workflow, self.fog_env, self.agent))\n",
        "\n",
        "        self.env.run()  # Run simulation for a time period\n"
      ]
    },
    {
      "cell_type": "markdown",
      "metadata": {
        "id": "8m16rQswH07A"
      },
      "source": [
        "# Data Collection\n"
      ]
    },
    {
      "cell_type": "markdown",
      "metadata": {
        "id": "pRiUawjwavRO"
      },
      "source": [
        "## The Config of Workflows"
      ]
    },
    {
      "cell_type": "code",
      "execution_count": 12,
      "metadata": {
        "id": "pi6ASMtxau1Y"
      },
      "outputs": [],
      "source": [
        "# Workflow configurations with specific sizes\n",
        "workflow_configs = {\n",
        "        'CyberShake': [30, 50, 100, 1000],\n",
        "        'Montage': [20, 40, 60, 80, 100, 200, 300],\n",
        "        'Inspiral': [30, 50, 100, 1000],\n",
        "        'Sipht': [29, 58, 100, 968]\n",
        "    }\n",
        "workflow_distributions = ['constant', 'uniform']"
      ]
    },
    {
      "cell_type": "code",
      "execution_count": 13,
      "metadata": {
        "id": "BrXkI2OeLjOO"
      },
      "outputs": [],
      "source": [
        "def run_simulation_with_results_tracking(workflow_name, workflow_size, workflow_distribution, model_path):\n",
        "    learning_rate = 0.001\n",
        "    discount_factor = 0.99\n",
        "    exploration_rate = 0.5\n",
        "    exploration_decay = 0.995\n",
        "    exploration_min = 0.05\n",
        "\n",
        "    dax_path = \"/content/drive/My Drive/Zahra/dax/\"\n",
        "\n",
        "    print(f\"Running simulation for Workflow: {workflow_name}, Size: {workflow_size}, Distribution: {workflow_distribution}\")\n",
        "\n",
        "    # Set up the simulation with the current parameters\n",
        "    simulation = NewSim(\n",
        "        num_iot=10,\n",
        "        num_fog=8,\n",
        "        num_server=5,\n",
        "        learning_rate=learning_rate,\n",
        "        discount_factor=discount_factor,\n",
        "        exploration_rate=exploration_rate,\n",
        "        exploration_decay=exploration_decay,\n",
        "        exploration_min=exploration_min,\n",
        "        model_path = model_path\n",
        "    )\n",
        "\n",
        "    # Update the workflow parameters\n",
        "    simulation.workflows = ensemble_of_workflows(\n",
        "        name=workflow_name,\n",
        "        size=workflow_size,\n",
        "        distribution=workflow_distribution,\n",
        "        dax_path=dax_path\n",
        "    )\n",
        "\n",
        "    # Run the simulation\n",
        "    simulation.run()\n",
        "\n",
        "    # Print results for current run\n",
        "    print(f\"Total time for Workflow {workflow_name} ({workflow_distribution}, size={workflow_size}): {simulation.env.now}\")\n",
        "\n",
        "\n"
      ]
    },
    {
      "cell_type": "markdown",
      "metadata": {
        "id": "lLU8FKZT2elj"
      },
      "source": [
        "# Results"
      ]
    },
    {
      "cell_type": "markdown",
      "metadata": {
        "id": "_XeITaLMw79l"
      },
      "source": [
        "## Cybershake - constant"
      ]
    },
    {
      "cell_type": "code",
      "execution_count": null,
      "metadata": {
        "colab": {
          "base_uri": "https://localhost:8080/"
        },
        "id": "D6NHXFqyw2Oz",
        "outputId": "ba113064-5322-412e-de3f-36caaf6d65d0"
      },
      "outputs": [
        {
          "output_type": "stream",
          "name": "stdout",
          "text": [
            "Running simulation for Workflow: CyberShake, Size: 10, Distribution: constant\n",
            "Total time for Workflow CyberShake (constant, size=10): 72000.84999999986\n",
            "Running simulation for Workflow: CyberShake, Size: 20, Distribution: constant\n",
            "Total time for Workflow CyberShake (constant, size=20): 78288.30999999985\n",
            "Running simulation for Workflow: CyberShake, Size: 30, Distribution: constant\n",
            "Total time for Workflow CyberShake (constant, size=30): 79963.82999999975\n",
            "Running simulation for Workflow: CyberShake, Size: 40, Distribution: constant\n"
          ]
        }
      ],
      "source": [
        "for i in range(1, 11):\n",
        "  run_simulation_with_results_tracking('CyberShake',10*i, 'constant', '/content/drive/My Drive/Zahra/Models/model_CyberShake_constant_10_delay.keras' )"
      ]
    },
    {
      "cell_type": "markdown",
      "metadata": {
        "id": "gR0TdNcs1qHQ"
      },
      "source": [
        "## Cybershake - uniform"
      ]
    },
    {
      "cell_type": "code",
      "execution_count": 14,
      "metadata": {
        "id": "wDrLPm5E2BMz",
        "colab": {
          "base_uri": "https://localhost:8080/"
        },
        "outputId": "f0075301-cdba-4e81-8d2c-1daf2dbcda19"
      },
      "outputs": [
        {
          "output_type": "stream",
          "name": "stdout",
          "text": [
            "Running simulation for Workflow: CyberShake, Size: 10, Distribution: uniform\n",
            "Total time for Workflow CyberShake (uniform, size=10): 30602.483333333308\n",
            "Running simulation for Workflow: CyberShake, Size: 20, Distribution: uniform\n",
            "Total time for Workflow CyberShake (uniform, size=20): 31446.595833333304\n",
            "Running simulation for Workflow: CyberShake, Size: 30, Distribution: uniform\n",
            "Total time for Workflow CyberShake (uniform, size=30): 30958.96249999996\n",
            "Running simulation for Workflow: CyberShake, Size: 40, Distribution: uniform\n",
            "Total time for Workflow CyberShake (uniform, size=40): 32240.84583333331\n",
            "Running simulation for Workflow: CyberShake, Size: 50, Distribution: uniform\n",
            "Total time for Workflow CyberShake (uniform, size=50): 32777.52916666664\n",
            "Running simulation for Workflow: CyberShake, Size: 60, Distribution: uniform\n",
            "Total time for Workflow CyberShake (uniform, size=60): 36818.37499999988\n",
            "Running simulation for Workflow: CyberShake, Size: 70, Distribution: uniform\n",
            "Total time for Workflow CyberShake (uniform, size=70): 39260.183333333196\n",
            "Running simulation for Workflow: CyberShake, Size: 80, Distribution: uniform\n",
            "Total time for Workflow CyberShake (uniform, size=80): 39017.16666666648\n",
            "Running simulation for Workflow: CyberShake, Size: 90, Distribution: uniform\n",
            "Total time for Workflow CyberShake (uniform, size=90): 40069.69999999982\n",
            "Running simulation for Workflow: CyberShake, Size: 100, Distribution: uniform\n",
            "Total time for Workflow CyberShake (uniform, size=100): 41683.23333333321\n"
          ]
        }
      ],
      "source": [
        "for i in range(1, 11):\n",
        "  run_simulation_with_results_tracking('CyberShake',10*i, 'uniform', '/content/drive/My Drive/Zahra/Models/model_CyberShake_constant_10_delay.keras' )"
      ]
    },
    {
      "cell_type": "markdown",
      "metadata": {
        "id": "xmy3_T952Yuk"
      },
      "source": [
        "## Montage - constant"
      ]
    },
    {
      "cell_type": "code",
      "execution_count": 15,
      "metadata": {
        "id": "h1i-P0kL2pjV",
        "colab": {
          "base_uri": "https://localhost:8080/"
        },
        "outputId": "de11d12a-f78d-403d-ec8d-71036f7b40d4"
      },
      "outputs": [
        {
          "output_type": "stream",
          "name": "stdout",
          "text": [
            "Running simulation for Workflow: Montage, Size: 10, Distribution: constant\n",
            "Total time for Workflow Montage (constant, size=10): 25836.733333333315\n",
            "Running simulation for Workflow: Montage, Size: 20, Distribution: constant\n",
            "Total time for Workflow Montage (constant, size=20): 27803.52916666665\n",
            "Running simulation for Workflow: Montage, Size: 30, Distribution: constant\n",
            "Total time for Workflow Montage (constant, size=30): 28740.93333333332\n",
            "Running simulation for Workflow: Montage, Size: 40, Distribution: constant\n",
            "Total time for Workflow Montage (constant, size=40): 27011.92499999997\n",
            "Running simulation for Workflow: Montage, Size: 50, Distribution: constant\n",
            "Total time for Workflow Montage (constant, size=50): 29004.858333333337\n",
            "Running simulation for Workflow: Montage, Size: 60, Distribution: constant\n",
            "Total time for Workflow Montage (constant, size=60): 28842.433333333356\n",
            "Running simulation for Workflow: Montage, Size: 70, Distribution: constant\n",
            "Total time for Workflow Montage (constant, size=70): 30098.920833333334\n",
            "Running simulation for Workflow: Montage, Size: 80, Distribution: constant\n",
            "Total time for Workflow Montage (constant, size=80): 30226.462500000052\n",
            "Running simulation for Workflow: Montage, Size: 90, Distribution: constant\n",
            "Total time for Workflow Montage (constant, size=90): 29842.587499999987\n",
            "Running simulation for Workflow: Montage, Size: 100, Distribution: constant\n",
            "Total time for Workflow Montage (constant, size=100): 32756.595833333293\n"
          ]
        }
      ],
      "source": [
        "for i in range(1, 11):\n",
        "  run_simulation_with_results_tracking('Montage',10*i, 'constant', '/content/drive/My Drive/Zahra/Models/model_CyberShake_constant_10_delay.keras' )"
      ]
    },
    {
      "cell_type": "markdown",
      "metadata": {
        "id": "Lpvpbfmr2_9M"
      },
      "source": [
        "## Montage - uniform"
      ]
    },
    {
      "cell_type": "code",
      "execution_count": 16,
      "metadata": {
        "id": "5j7GJQun3GTh",
        "colab": {
          "base_uri": "https://localhost:8080/"
        },
        "outputId": "ab9e32da-fa80-4309-db43-32c5d08e3ae2"
      },
      "outputs": [
        {
          "output_type": "stream",
          "name": "stdout",
          "text": [
            "Running simulation for Workflow: Montage, Size: 10, Distribution: uniform\n",
            "Total time for Workflow Montage (uniform, size=10): 26993.09166666665\n",
            "Running simulation for Workflow: Montage, Size: 20, Distribution: uniform\n",
            "Total time for Workflow Montage (uniform, size=20): 27150.616666666658\n",
            "Running simulation for Workflow: Montage, Size: 30, Distribution: uniform\n",
            "Total time for Workflow Montage (uniform, size=30): 27527.633333333328\n",
            "Running simulation for Workflow: Montage, Size: 40, Distribution: uniform\n",
            "Total time for Workflow Montage (uniform, size=40): 28318.266666666656\n",
            "Running simulation for Workflow: Montage, Size: 50, Distribution: uniform\n",
            "Total time for Workflow Montage (uniform, size=50): 28586.48333333331\n",
            "Running simulation for Workflow: Montage, Size: 60, Distribution: uniform\n",
            "Total time for Workflow Montage (uniform, size=60): 28656.774999999958\n",
            "Running simulation for Workflow: Montage, Size: 70, Distribution: uniform\n",
            "Total time for Workflow Montage (uniform, size=70): 30689.237499999977\n",
            "Running simulation for Workflow: Montage, Size: 80, Distribution: uniform\n",
            "Total time for Workflow Montage (uniform, size=80): 31544.73333333327\n",
            "Running simulation for Workflow: Montage, Size: 90, Distribution: uniform\n",
            "Total time for Workflow Montage (uniform, size=90): 32920.33749999994\n",
            "Running simulation for Workflow: Montage, Size: 100, Distribution: uniform\n",
            "Total time for Workflow Montage (uniform, size=100): 31765.879166666655\n"
          ]
        }
      ],
      "source": [
        "for i in range(1, 11):\n",
        "  run_simulation_with_results_tracking('Montage',10*i, 'uniform', '/content/drive/My Drive/Zahra/Models/model_CyberShake_constant_10_delay.keras' )"
      ]
    },
    {
      "cell_type": "markdown",
      "metadata": {
        "id": "WWpstixI3WNq"
      },
      "source": [
        "## Sipht - constant"
      ]
    },
    {
      "cell_type": "code",
      "execution_count": 17,
      "metadata": {
        "id": "AngfK6hh3bOO",
        "colab": {
          "base_uri": "https://localhost:8080/"
        },
        "outputId": "ca66b7aa-f9ec-4aea-8d73-b186b1fa8b2d"
      },
      "outputs": [
        {
          "output_type": "stream",
          "name": "stdout",
          "text": [
            "Running simulation for Workflow: Sipht, Size: 10, Distribution: constant\n",
            "Total time for Workflow Sipht (constant, size=10): 58544.72145833321\n",
            "Running simulation for Workflow: Sipht, Size: 20, Distribution: constant\n",
            "Total time for Workflow Sipht (constant, size=20): 111920.066\n",
            "Running simulation for Workflow: Sipht, Size: 30, Distribution: constant\n",
            "Total time for Workflow Sipht (constant, size=30): 111274.58274999997\n",
            "Running simulation for Workflow: Sipht, Size: 40, Distribution: constant\n",
            "Total time for Workflow Sipht (constant, size=40): 136342.52799999996\n",
            "Running simulation for Workflow: Sipht, Size: 50, Distribution: constant\n",
            "Total time for Workflow Sipht (constant, size=50): 170799.47820833395\n",
            "Running simulation for Workflow: Sipht, Size: 60, Distribution: constant\n",
            "Total time for Workflow Sipht (constant, size=60): 183689.7699166682\n",
            "Running simulation for Workflow: Sipht, Size: 70, Distribution: constant\n",
            "Total time for Workflow Sipht (constant, size=70): 207771.18737500184\n",
            "Running simulation for Workflow: Sipht, Size: 80, Distribution: constant\n",
            "Total time for Workflow Sipht (constant, size=80): 231081.22041666965\n",
            "Running simulation for Workflow: Sipht, Size: 90, Distribution: constant\n",
            "Total time for Workflow Sipht (constant, size=90): 257328.6403333363\n",
            "Running simulation for Workflow: Sipht, Size: 100, Distribution: constant\n",
            "Total time for Workflow Sipht (constant, size=100): 298130.61616666877\n"
          ]
        }
      ],
      "source": [
        "for i in range(1, 11):\n",
        "  run_simulation_with_results_tracking('Sipht',10*i, 'constant', '/content/drive/My Drive/Zahra/Models/model_CyberShake_constant_10_delay.keras' )"
      ]
    },
    {
      "cell_type": "markdown",
      "metadata": {
        "id": "D81dg-wV3rJ3"
      },
      "source": [
        "## Sipht - uniform"
      ]
    },
    {
      "cell_type": "code",
      "execution_count": 18,
      "metadata": {
        "id": "77roJqmI3vhj",
        "colab": {
          "base_uri": "https://localhost:8080/"
        },
        "outputId": "74e58dd6-e3ab-456c-fbb7-7577c9860a57"
      },
      "outputs": [
        {
          "output_type": "stream",
          "name": "stdout",
          "text": [
            "Running simulation for Workflow: Sipht, Size: 10, Distribution: uniform\n",
            "Total time for Workflow Sipht (uniform, size=10): 88681.90166666664\n",
            "Running simulation for Workflow: Sipht, Size: 20, Distribution: uniform\n",
            "Total time for Workflow Sipht (uniform, size=20): 129142.67166666662\n",
            "Running simulation for Workflow: Sipht, Size: 30, Distribution: uniform\n",
            "Total time for Workflow Sipht (uniform, size=30): 248561.88016666577\n",
            "Running simulation for Workflow: Sipht, Size: 40, Distribution: uniform\n",
            "Total time for Workflow Sipht (uniform, size=40): 162078.63420833333\n",
            "Running simulation for Workflow: Sipht, Size: 50, Distribution: uniform\n",
            "Total time for Workflow Sipht (uniform, size=50): 252074.43304166614\n",
            "Running simulation for Workflow: Sipht, Size: 60, Distribution: uniform\n",
            "Total time for Workflow Sipht (uniform, size=60): 472051.90462500066\n",
            "Running simulation for Workflow: Sipht, Size: 70, Distribution: uniform\n",
            "Total time for Workflow Sipht (uniform, size=70): 516508.0790833337\n",
            "Running simulation for Workflow: Sipht, Size: 80, Distribution: uniform\n",
            "Total time for Workflow Sipht (uniform, size=80): 518423.85624999984\n",
            "Running simulation for Workflow: Sipht, Size: 90, Distribution: uniform\n",
            "Total time for Workflow Sipht (uniform, size=90): 713474.3914166662\n",
            "Running simulation for Workflow: Sipht, Size: 100, Distribution: uniform\n",
            "Total time for Workflow Sipht (uniform, size=100): 556371.5238749973\n"
          ]
        }
      ],
      "source": [
        "for i in range(1, 11):\n",
        "  run_simulation_with_results_tracking('Sipht',10*i, 'uniform', '/content/drive/My Drive/Zahra/Models/model_CyberShake_constant_10_delay.keras' )"
      ]
    },
    {
      "cell_type": "markdown",
      "metadata": {
        "id": "8h-h3V5w4NXP"
      },
      "source": [
        "## Inspiral - constant"
      ]
    },
    {
      "cell_type": "code",
      "execution_count": 19,
      "metadata": {
        "id": "dr-AgY2X4Vh8",
        "colab": {
          "base_uri": "https://localhost:8080/"
        },
        "outputId": "75805a96-c7de-4705-d6d8-ed8a223fc0b2"
      },
      "outputs": [
        {
          "output_type": "stream",
          "name": "stdout",
          "text": [
            "Running simulation for Workflow: Inspiral, Size: 10, Distribution: constant\n",
            "Total time for Workflow Inspiral (constant, size=10): 28249.129166666633\n",
            "Running simulation for Workflow: Inspiral, Size: 20, Distribution: constant\n",
            "Total time for Workflow Inspiral (constant, size=20): 28651.904166666638\n",
            "Running simulation for Workflow: Inspiral, Size: 30, Distribution: constant\n",
            "Total time for Workflow Inspiral (constant, size=30): 29692.212499999954\n",
            "Running simulation for Workflow: Inspiral, Size: 40, Distribution: constant\n",
            "Total time for Workflow Inspiral (constant, size=40): 29900.258333333306\n",
            "Running simulation for Workflow: Inspiral, Size: 50, Distribution: constant\n",
            "Total time for Workflow Inspiral (constant, size=50): 32122.23333333327\n",
            "Running simulation for Workflow: Inspiral, Size: 60, Distribution: constant\n",
            "Total time for Workflow Inspiral (constant, size=60): 30633.154166666638\n",
            "Running simulation for Workflow: Inspiral, Size: 70, Distribution: constant\n",
            "Total time for Workflow Inspiral (constant, size=70): 34858.67083333338\n",
            "Running simulation for Workflow: Inspiral, Size: 80, Distribution: constant\n",
            "Total time for Workflow Inspiral (constant, size=80): 34174.28333333334\n",
            "Running simulation for Workflow: Inspiral, Size: 90, Distribution: constant\n",
            "Total time for Workflow Inspiral (constant, size=90): 33167.53749999994\n",
            "Running simulation for Workflow: Inspiral, Size: 100, Distribution: constant\n",
            "Total time for Workflow Inspiral (constant, size=100): 36725.47916666672\n"
          ]
        }
      ],
      "source": [
        "for i in range(1, 11):\n",
        "  run_simulation_with_results_tracking('Inspiral',10*i, 'constant', '/content/drive/My Drive/Zahra/Models/model_CyberShake_constant_10_delay.keras' )"
      ]
    },
    {
      "cell_type": "markdown",
      "metadata": {
        "id": "YHOfdObx4fIx"
      },
      "source": [
        "## Inspiral - uniform"
      ]
    },
    {
      "cell_type": "code",
      "execution_count": 20,
      "metadata": {
        "id": "70ubjjbz4kR7",
        "colab": {
          "base_uri": "https://localhost:8080/"
        },
        "outputId": "b42647f5-e892-4835-fc1c-2dd61875f553"
      },
      "outputs": [
        {
          "output_type": "stream",
          "name": "stdout",
          "text": [
            "Running simulation for Workflow: Inspiral, Size: 10, Distribution: uniform\n",
            "Total time for Workflow Inspiral (uniform, size=10): 28844.92499999999\n",
            "Running simulation for Workflow: Inspiral, Size: 20, Distribution: uniform\n",
            "Total time for Workflow Inspiral (uniform, size=20): 29879.979166666646\n",
            "Running simulation for Workflow: Inspiral, Size: 30, Distribution: uniform\n",
            "Total time for Workflow Inspiral (uniform, size=30): 34386.56250000004\n",
            "Running simulation for Workflow: Inspiral, Size: 40, Distribution: uniform\n",
            "Total time for Workflow Inspiral (uniform, size=40): 33563.6083333334\n",
            "Running simulation for Workflow: Inspiral, Size: 50, Distribution: uniform\n",
            "Total time for Workflow Inspiral (uniform, size=50): 38124.7083333335\n",
            "Running simulation for Workflow: Inspiral, Size: 60, Distribution: uniform\n",
            "Total time for Workflow Inspiral (uniform, size=60): 44156.608333333555\n",
            "Running simulation for Workflow: Inspiral, Size: 70, Distribution: uniform\n",
            "Total time for Workflow Inspiral (uniform, size=70): 41663.350000000144\n",
            "Running simulation for Workflow: Inspiral, Size: 80, Distribution: uniform\n",
            "Total time for Workflow Inspiral (uniform, size=80): 49065.43750000018\n",
            "Running simulation for Workflow: Inspiral, Size: 90, Distribution: uniform\n",
            "Total time for Workflow Inspiral (uniform, size=90): 48389.64583333348\n",
            "Running simulation for Workflow: Inspiral, Size: 100, Distribution: uniform\n",
            "Total time for Workflow Inspiral (uniform, size=100): 56146.587500000285\n"
          ]
        }
      ],
      "source": [
        "for i in range(1, 11):\n",
        "  run_simulation_with_results_tracking('Inspiral',10*i, 'uniform', '/content/drive/My Drive/Zahra/Models/model_CyberShake_constant_10_delay.keras' )"
      ]
    }
  ],
  "metadata": {
    "colab": {
      "provenance": [],
      "gpuType": "T4",
      "include_colab_link": true
    },
    "kernelspec": {
      "display_name": "Python 3",
      "name": "python3"
    },
    "language_info": {
      "name": "python"
    },
    "accelerator": "GPU"
  },
  "nbformat": 4,
  "nbformat_minor": 0
}