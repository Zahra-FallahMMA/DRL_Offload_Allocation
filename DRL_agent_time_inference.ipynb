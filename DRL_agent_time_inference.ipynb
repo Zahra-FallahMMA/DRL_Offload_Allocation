{
  "cells": [
    {
      "cell_type": "markdown",
      "metadata": {
        "id": "view-in-github",
        "colab_type": "text"
      },
      "source": [
        "<a href=\"https://colab.research.google.com/github/Zahra-FallahMMA/DRL_Offload_Allocation/blob/main/DRL_agent_time_inference.ipynb\" target=\"_parent\"><img src=\"https://colab.research.google.com/assets/colab-badge.svg\" alt=\"Open In Colab\"/></a>"
      ]
    },
    {
      "cell_type": "markdown",
      "metadata": {
        "id": "PcuUUZU1G5k4"
      },
      "source": [
        "# import Libraries"
      ]
    },
    {
      "cell_type": "code",
      "execution_count": null,
      "metadata": {
        "colab": {
          "base_uri": "https://localhost:8080/"
        },
        "id": "LIP4GlsbGwAx",
        "outputId": "8fbc347e-7ef7-4aed-a251-cb947265debb"
      },
      "outputs": [
        {
          "output_type": "stream",
          "name": "stdout",
          "text": [
            "Collecting simpy\n",
            "  Downloading simpy-4.1.1-py3-none-any.whl.metadata (6.1 kB)\n",
            "Downloading simpy-4.1.1-py3-none-any.whl (27 kB)\n",
            "Installing collected packages: simpy\n",
            "Successfully installed simpy-4.1.1\n"
          ]
        }
      ],
      "source": [
        "import xml.etree.ElementTree as ET\n",
        "from io import StringIO\n",
        "import os\n",
        "import re\n",
        "import numpy as np\n",
        "from collections import deque, defaultdict\n",
        "import random\n",
        "from keras.models import Sequential\n",
        "from keras.layers import Dense, Dropout\n",
        "from keras.optimizers import Adam\n",
        "from keras.models import load_model\n",
        "from itertools import product\n",
        "import tensorflow as tf\n",
        "!pip install simpy\n",
        "import simpy\n",
        "\n",
        "# Set TensorFlow logging level to suppress detailed logs\n",
        "os.environ['TF_CPP_MIN_LOG_LEVEL'] = '3'\n",
        "tf.get_logger().setLevel('ERROR')"
      ]
    },
    {
      "cell_type": "markdown",
      "metadata": {
        "id": "O1zMfxAcro7o"
      },
      "source": [
        "Class random agent"
      ]
    },
    {
      "cell_type": "code",
      "execution_count": null,
      "metadata": {
        "id": "IMFxL4KkrnTA"
      },
      "outputs": [],
      "source": [
        "class RandomAgent:\n",
        "\n",
        "   def __init__(self, action_size):\n",
        "      self.action_size = action_size\n",
        "\n",
        "   def choose_action(self):\n",
        "        return random.randrange(self.action_size)"
      ]
    },
    {
      "cell_type": "markdown",
      "metadata": {
        "id": "lCfIwrJDHK33"
      },
      "source": [
        "# Class DQNAgent"
      ]
    },
    {
      "cell_type": "code",
      "execution_count": null,
      "metadata": {
        "id": "qreTNfv_HP9X"
      },
      "outputs": [],
      "source": [
        "class DQNAgent:\n",
        "    def __init__(self, state_size, action_size, learning_rate=0.001, discount_factor=0.95, exploration_rate=1.0,\n",
        "                 exploration_decay=0.995, exploration_min=0.01, batch_size=64, memory_size=2000, model_path = None):\n",
        "        self.state_size = state_size\n",
        "        self.action_size = action_size\n",
        "        self.learning_rate = learning_rate\n",
        "        self.discount_factor = discount_factor\n",
        "        self.exploration_rate = exploration_rate\n",
        "        self.exploration_decay = exploration_decay\n",
        "        self.exploration_min = exploration_min\n",
        "        self.batch_size = batch_size\n",
        "\n",
        "        if model_path is not None:\n",
        "            self.model = load_model(model_path)\n",
        "        else:\n",
        "            self.model = self._build_model()\n",
        "\n",
        "\n",
        "    def _build_model(self):\n",
        "        model = Sequential()\n",
        "\n",
        "        # Input layer\n",
        "        model.add(Dense(128, input_dim=self.state_size, activation='relu'))\n",
        "        model.add(Dropout(0.4))  # Slightly reduced dropout to retain more information\n",
        "\n",
        "        # Hidden layers\n",
        "        model.add(Dense(128, activation='relu'))\n",
        "        model.add(Dropout(0.4))\n",
        "\n",
        "        model.add(Dense(64, activation='relu'))\n",
        "        model.add(Dropout(0.3))\n",
        "\n",
        "        # Output layer\n",
        "        model.add(Dense(self.action_size, activation='linear'))\n",
        "\n",
        "        # Compile the model with a custom learning rate scheduler\n",
        "        model.compile(optimizer=Adam(learning_rate=self.learning_rate), loss='mse')\n",
        "        return model\n",
        "\n",
        "    def choose_action(self, state):\n",
        "        if np.random.rand() <= self.exploration_rate:\n",
        "            return random.randrange(self.action_size)\n",
        "        state = np.array(state).reshape(1, -1)  # Ensure state is 2D\n",
        "        q_values = self.model.predict(state, verbose=0)\n",
        "        return np.argmax(q_values[0])\n",
        "\n",
        "    def save_model(self, path):\n",
        "        self.model.save(path)"
      ]
    },
    {
      "cell_type": "markdown",
      "metadata": {
        "id": "sc5cwMB6HUAZ"
      },
      "source": [
        "# class Task"
      ]
    },
    {
      "cell_type": "code",
      "execution_count": null,
      "metadata": {
        "id": "dWqg63i_HW5y"
      },
      "outputs": [],
      "source": [
        "class Task:\n",
        "    def __init__(self, id, instructions, workflow_id):\n",
        "        self.id = id\n",
        "        self.instructions = instructions  # Execution time or computational instructions\n",
        "        self.children = []  # List of tasks that depend on this task\n",
        "        self.parents = []  # List of tasks this task depends on\n",
        "\n",
        "        self.input_files = []   # list of (filename, size)\n",
        "        self.output_files = []  # list of (filename, size)\n",
        "\n",
        "        self.executed = False  # Status of execution\n",
        "        self.executed_on = None  # Node this task was executed on\n",
        "        self.execution_time = 0  # Time taken to execute the task\n",
        "        self.cost = 0  # Cost of executing the task\n",
        "        self.comm_delay = 0  # Communication delay in seconds\n",
        "        self.workflow_id = workflow_id  # Workflow identifier to which this task belongs\n",
        "        self.total_transfer_files_size = 0\n"
      ]
    },
    {
      "cell_type": "markdown",
      "metadata": {
        "id": "V6GeROhDHben"
      },
      "source": [
        "# Class Workflow"
      ]
    },
    {
      "cell_type": "code",
      "execution_count": null,
      "metadata": {
        "id": "l1dvEPosHyYn"
      },
      "outputs": [],
      "source": [
        "class Workflow:\n",
        "    def __init__(self, id):\n",
        "        self.id = id  # Workflow identifier\n",
        "        self.tasks = {}  # Dictionary of tasks in the workflow\n",
        "\n",
        "    def add_task(self, task_id, instructions, parent_ids=[], input_files=[], output_files=[]):\n",
        "        if task_id not in self.tasks:\n",
        "            self.tasks[task_id] = Task(task_id, instructions, self.id)\n",
        "        task = self.tasks[task_id]\n",
        "        for parent_id in parent_ids:\n",
        "            if parent_id not in self.tasks:\n",
        "                self.tasks[parent_id] = Task(parent_id, 0, self.id)\n",
        "            parent_task = self.tasks[parent_id]\n",
        "            parent_task.children.append(task)\n",
        "            task.parents.append(parent_task)\n",
        "\n",
        "        task.input_files.extend(input_files)\n",
        "        task.output_files.extend(output_files)"
      ]
    },
    {
      "cell_type": "markdown",
      "metadata": {
        "id": "sOhKq478H4_X"
      },
      "source": [
        "# class parse_dax"
      ]
    },
    {
      "cell_type": "code",
      "execution_count": null,
      "metadata": {
        "id": "92rkJc8AH3Bd"
      },
      "outputs": [],
      "source": [
        "def parse_dax(file_path, workflow_id):\n",
        "    tree = ET.parse(file_path)\n",
        "    root = tree.getroot()\n",
        "\n",
        "    workflow_id = workflow_id\n",
        "    workflow = Workflow(workflow_id)\n",
        "\n",
        "    # Pegasus DAX namespace\n",
        "    dax_ns = '{http://pegasus.isi.edu/schema/DAX}'\n",
        "\n",
        "    # Parse jobs\n",
        "    jobs = {job.attrib['id']: job for job in root.findall(f'{dax_ns}job')}\n",
        "\n",
        "    # Add jobs to workflow\n",
        "    for job_id, job_elem in jobs.items():\n",
        "        instructions = float(job_elem.attrib.get('runtime', 0))\n",
        "\n",
        "        # NEW: Gather input/output files from <uses link=\"input\" ...> or <uses link=\"output\" ...>\n",
        "        input_files = []\n",
        "        output_files = []\n",
        "        for uses_elem in job_elem.findall(f'.//{dax_ns}uses'):\n",
        "            link_type = uses_elem.attrib.get('link', '')\n",
        "            file_name = uses_elem.attrib.get('file', '')\n",
        "            file_size_str = uses_elem.attrib.get('size', '0')\n",
        "            file_size = int(file_size_str)\n",
        "\n",
        "            if link_type == 'input':\n",
        "                input_files.append((file_name, file_size))  # e.g. (\"FFI_0_2_subfx.sgt\", 262360916)\n",
        "            elif link_type == 'output':\n",
        "                output_files.append((file_name, file_size))\n",
        "\n",
        "        workflow.add_task(job_id,\n",
        "                          instructions,\n",
        "                          parent_ids=[],  # We'll handle parents in a moment,\n",
        "                          input_files=input_files,\n",
        "                          output_files=output_files)\n",
        "\n",
        "    # Parse dependencies\n",
        "    for child in root.findall(f'{dax_ns}child'):\n",
        "        child_id = child.attrib['ref']\n",
        "        parent_ids = [parent.attrib['ref'] for parent in child.findall(f'{dax_ns}parent')]\n",
        "        workflow.add_task(child_id, 0, parent_ids)  # Adds a child node with its parent nodes, setting instructions to 0 to avoid overwrite\n",
        "\n",
        "    return workflow\n",
        "\n",
        "\n",
        "def ensemble_of_workflows(name, size=10, distribution='constant', dax_path=''):\n",
        "    ws = []\n",
        "    ensemble = []\n",
        "    directory_path = dax_path  # Directory containing DAX files\n",
        "\n",
        "    # List and filter files in directory\n",
        "    files = os.listdir(directory_path)\n",
        "    filtered_files = [file for file in files if name in file]\n",
        "\n",
        "    if distribution == 'constant':\n",
        "        pattern = r'100(?!\\d)'\n",
        "        for s in filtered_files:\n",
        "            if re.search(pattern, s):\n",
        "                ensemble = [s] * size  # Replicate the matched file 'size' times\n",
        "                break\n",
        "    else:\n",
        "        if(name == 'CyberShake'):\n",
        "          if(size == 10):\n",
        "            numbers =[3 ,2, 0, 3, 4, 1, 2 ,0 ,3, 4]\n",
        "          elif(size == 20):\n",
        "            numbers = [0 ,3, 4, 0 ,0 ,0, 3, 3 ,0 ,0, 4, 4, 2, 0, 4, 2, 0, 2, 0 ,3]\n",
        "          elif(size == 30):\n",
        "            numbers =  [0, 2, 2, 0, 2, 2, 2, 1, 1, 2, 4, 2, 2, 3, 0 ,4 ,3 ,4 ,3 ,4 ,2 ,2 ,4 ,3 ,3 ,2, 3, 2, 4, 3]\n",
        "          elif(size == 40):\n",
        "            numbers = [2, 4, 1, 0, 0, 2, 0, 2, 1, 4, 0, 0, 3, 1, 0 ,2 ,1, 0, 3, 1, 1, 4, 3, 2, 0, 1, 2, 4, 2, 3 ,1, 2, 4, 2, 2, 1, 0, 2, 3, 1]\n",
        "          elif(size == 50):\n",
        "            numbers = [4, 2, 1, 3, 1, 2, 2, 0, 0, 3, 3, 2, 0, 4, 1, 2, 1, 3, 1, 2, 2, 4 ,3, 0, 2, 4, 2, 0, 3, 2 ,3 ,2, 0, 2, 4, 1, 2, 2, 0, 4, 3, 0, 2, 0, 1, 2, 3, 1, 4, 4]\n",
        "          elif(size == 60):\n",
        "            numbers =  [4, 3, 2, 4, 2, 2, 3, 4, 4, 2, 0, 1, 4, 4, 0, 0, 3, 0, 4, 3 ,4, 1, 0, 0, 4, 0, 4, 0, 3, 4 ,0 ,3, 1, 2, 2, 0, 3, 3, 3, 4, 2, 3, 1, 2, 0, 4, 3, 0, 3, 0, 2, 4, 1, 4, 4, 3, 2, 2, 2, 1]\n",
        "          elif(size == 70):\n",
        "            numbers = [3, 2, 1, 1, 4, 3, 0, 3, 2, 0, 3, 0, 4 ,2 ,1 ,4, 0, 1, 0, 1, 0, 2, 3, 3, 0, 1, 0, 3, 0, 1, 3, 4, 0, 0, 0, 2 ,1, 2 ,1, 3, 0, 4, 1, 2, 1, 4, 1, 2, 2, 4, 3, 0, 2, 0, 4, 0, 3, 1, 0, 3, 2, 1, 1, 3, 2, 3, 4, 0, 2, 3]\n",
        "          elif(size == 80):\n",
        "            numbers =[1, 0, 0, 4, 1, 3, 3, 4, 4, 3, 0, 4, 4, 2, 1, 4, 3, 1 ,0 ,1, 0, 3, 4, 4, 3, 2, 1, 2, 0, 0, 3, 2, 2, 1, 4, 2, 3, 1, 2, 4 ,0 ,2, 4, 4, 2, 0, 3, 2, 1, 2, 0, 3, 3, 2, 4, 2, 2, 3, 1, 4, 1, 1, 4, 1, 3, 2, 2, 3, 0, 2, 2, 3, 2, 4, 2, 0, 3, 0, 2, 2]\n",
        "          elif(size == 90):\n",
        "            numbers = [4, 0, 0, 0, 1, 4, 3, 0, 3, 3, 1, 1, 3, 1, 2, 0, 4, 3, 3, 1, 4, 2, 2, 1, 4, 2, 4, 4, 1, 3, 4, 1, 1, 1, 3, 0, 4, 0, 4, 0, 1, 0, 4, 1, 0, 1, 1, 2, 3, 1, 3, 1, 1, 0, 3, 2, 3, 2, 1, 4, 2, 0, 4, 0, 0, 1, 3, 2, 2, 2, 0, 4, 4, 2, 4, 4, 2, 1, 4, 3, 4, 1, 3, 3, 4, 4, 0, 0, 3, 0]\n",
        "          elif(size == 100):\n",
        "            numbers = [3, 3, 4, 2, 2, 2, 3, 4, 4, 4, 1, 3, 2, 2, 2, 1, 3, 1, 4, 0, 3, 2, 3, 3, 1, 2, 1, 1, 1, 0, 3, 2, 1, 2, 1, 0, 1, 3, 1, 2, 1, 0, 0, 1, 2, 0, 1, 1, 3, 1, 1, 0, 1, 2, 3, 1, 1, 1, 3, 0, 3, 1, 1, 3, 1, 1, 3, 4, 1, 3, 2, 2, 4, 4, 3, 2, 1, 4, 1, 2, 2, 4, 0, 1, 1, 1, 0, 1, 1, 0, 2, 3, 4, 2, 1, 1, 0, 0, 2, 2]\n",
        "\n",
        "        elif(name == 'Montage'):\n",
        "          if(size == 10):\n",
        "              numbers = [4, 5, 0, 4, 2, 0, 2, 3, 2, 4]\n",
        "          elif(size == 20):\n",
        "              numbers = [2, 0, 2, 4, 6, 5, 4, 0, 4, 0, 1, 5, 2, 0, 5, 2, 6, 4, 0, 6]\n",
        "          elif(size == 30):\n",
        "              numbers = [6, 6, 4, 0, 2, 0, 0, 4, 0, 1, 4, 5, 5, 4, 2, 4, 5, 6, 2, 1, 4, 0, 3, 1, 4, 0, 6, 5, 4, 6]\n",
        "          elif(size == 40):\n",
        "              numbers = [4, 4, 5, 0, 2, 5, 1, 1, 4, 0, 2, 1, 3, 4, 4, 0, 4, 1, 1, 0, 1, 0, 4, 3, 4, 0, 4, 4, 4, 0, 2, 1, 0, 6, 2, 5, 0, 6, 5, 0]\n",
        "          elif(size == 50):\n",
        "              numbers = [1, 1, 5, 0, 1, 2, 3, 1, 6, 3, 6, 2, 2, 4, 0, 6, 3, 6, 4, 4, 6, 1, 2, 2, 0, 5, 3, 5, 3, 2, 0, 1, 1, 4, 5, 0, 4, 0, 5, 3, 2, 0, 2, 6, 3, 0, 0, 2, 5, 5]\n",
        "          elif(size == 60):\n",
        "              numbers = [3, 6, 4, 0, 3, 0, 1, 5, 4, 5, 5, 3, 0, 2, 0, 0, 6, 5, 0, 2, 1, 6, 6, 1, 0, 0, 4, 4, 0, 3, 4, 1, 0, 3, 6, 3, 1, 1, 4, 3, 0, 1, 1, 0, 6, 6, 0, 6, 6, 4, 2, 5, 5, 1, 6, 0, 5, 5, 1, 4]\n",
        "          elif(size == 70):\n",
        "              numbers = [1, 5, 6, 3, 0, 6, 5, 6, 2, 2, 6, 0, 4, 2, 3, 6, 5, 6, 6, 2, 6, 4, 4, 1, 2, 6, 4, 6, 1, 2, 4, 2, 3, 2, 6, 3, 3, 5, 3, 6, 4, 5, 3, 2, 4, 1, 2, 3, 6, 3, 6, 6, 4, 6, 5, 0, 5, 0, 4, 0, 4, 5, 4, 3, 2, 3, 5, 5, 2, 0]\n",
        "          elif(size == 80):\n",
        "              numbers = [1, 2, 3, 2, 2, 4, 5, 0, 0, 2, 4, 4, 4, 4, 5, 5, 1, 1, 3, 3, 3, 4, 3, 3, 5, 2, 0, 4, 2, 4, 5, 6, 4, 1, 3, 2, 5, 6, 1, 0, 4, 1, 6, 5, 0, 2, 5, 1, 3, 4, 3, 0, 4, 5, 2, 0, 5, 4, 0, 1, 6, 2, 5, 5, 2, 4, 3, 2, 3, 5, 3, 1, 2, 0, 5, 2, 1, 0, 5, 6]\n",
        "          elif(size == 90):\n",
        "              numbers = [2, 4, 3, 3, 3, 5, 5, 2, 3, 2, 0, 1, 6, 0, 6, 0, 2, 1, 5, 5, 5, 2, 0, 2, 5, 5, 5, 5, 4, 0, 1, 3, 6, 3, 1, 2, 4, 2, 2, 3, 0, 4, 0, 4, 2, 5, 2, 4, 6, 3, 6, 5, 2, 3, 5, 5, 2, 5, 5, 2, 0, 0, 3, 5, 1, 2, 1, 0, 0, 4, 0, 5, 5, 4, 3, 6, 0, 1, 1, 2, 2, 4, 1, 6, 4, 6, 5, 0, 4, 2]\n",
        "          elif(size == 100):\n",
        "              numbers = [5, 2, 3, 1, 6, 5, 6, 0, 5, 6, 5, 0, 0, 6, 0, 6, 2, 4, 4, 6, 0, 5, 4, 6, 6, 5, 5, 1, 2, 5, 2, 4, 3, 3, 3, 5, 2, 4, 0, 0, 4, 0, 4, 6, 1, 5, 5, 4, 3, 2, 5, 2, 4, 6, 3, 4, 4, 3, 6, 5, 3, 0, 2, 3, 1, 0, 2, 4, 6, 6, 4, 5, 6, 6, 5, 3, 5, 0, 1, 0, 3, 1, 4, 0, 6, 3, 0, 6, 5, 5, 6, 4, 3, 4, 0, 4, 0, 6, 5, 3]\n",
        "\n",
        "        elif(name == 'Sipht'):\n",
        "          if(size == 10):\n",
        "              numbers = [1, 2, 4, 4, 1, 2, 0, 0, 2, 2]\n",
        "          elif(size == 20):\n",
        "              numbers = [3, 0, 0, 3, 1, 2, 4, 3, 4, 2, 1, 0, 3, 0, 1, 0, 3, 0, 3, 2]\n",
        "          elif(size == 30):\n",
        "              numbers = [3, 2, 0, 1, 3, 2, 2, 3, 1, 3, 1, 0, 3, 4, 0, 3, 2, 0, 2, 2, 2, 0, 1, 1, 0, 3, 0, 1, 4, 1]\n",
        "          elif(size == 40):\n",
        "              numbers = [2, 3, 0, 2, 3, 0, 4, 3, 3, 0, 1, 2, 2, 0, 3, 4, 4, 0, 0, 1, 1, 0, 4, 0, 4, 0, 3, 3, 4, 2, 4, 2, 3, 0, 4, 0, 3, 0, 4, 3]\n",
        "          elif(size == 50):\n",
        "              numbers = [2, 3, 4, 0, 2, 3, 0, 4, 3, 2, 4, 4, 0, 1, 0, 4, 3, 3, 4, 3, 4, 0, 4, 2, 0, 0, 2, 2, 1, 3, 3, 4, 4, 1, 3, 4, 0, 2, 3, 1, 1, 1, 4, 0, 4, 4, 3, 1, 2, 2]\n",
        "          elif(size == 60):\n",
        "              numbers = [2, 1, 1, 3, 2, 3, 2, 0, 2, 0, 0, 3, 2, 2, 1, 3, 4, 3, 0, 1, 1, 3, 3, 2, 4, 4, 4, 1, 1, 3, 2, 1, 0, 2, 0, 0, 3, 0, 1, 3, 0, 0, 3, 4, 3, 1, 1, 1, 4, 3, 0, 1, 2, 1, 3, 2, 2, 4, 0, 0]\n",
        "          elif(size == 70):\n",
        "              numbers = [1, 2, 1, 3, 2, 3, 3, 4, 3, 1, 2, 1, 2, 4, 4, 3, 3, 2, 0, 1, 3, 1, 1, 3, 4, 1, 1, 4, 2, 0, 2, 4, 1, 4, 0, 0, 1, 4, 0, 1, 2, 1, 2, 3, 4, 0, 2, 0, 1, 0, 0, 2, 0, 4, 4, 0, 4, 0, 1, 2, 0, 1, 0, 4, 4, 2, 0, 2, 2, 2]\n",
        "          elif(size == 80):\n",
        "              numbers = [1, 2, 1, 3, 2, 3, 3, 4, 3, 1, 2, 1, 2, 4, 4, 3, 3, 2, 0, 1, 3, 1, 1, 3, 4, 1, 1, 4, 2, 0, 2, 4, 1, 4, 0, 0, 1, 4, 0, 1, 2, 1, 2, 3, 4, 0, 2, 0, 1, 0, 0, 2, 0, 4, 4, 0, 4, 0, 1, 2, 0, 1, 0, 4, 4, 2, 0, 2, 2, 2]\n",
        "          elif(size == 90):\n",
        "              numbers = [4, 4, 4, 0, 2, 1, 1, 1, 4, 2, 0, 2, 0, 4, 3, 0, 1, 2, 2, 4, 0, 1, 4, 4, 3, 2, 1, 3, 2, 0, 0, 0, 2, 0, 1, 1, 4, 3, 0, 0, 3, 1, 4, 0, 1, 4, 1, 4, 1, 3, 3, 1, 1, 1, 4, 1, 3, 3, 1, 1, 3, 2, 3, 2, 4, 0, 1, 0, 0, 1, 3, 0, 0, 2, 1, 1, 2, 3, 4, 1, 1, 0, 4, 4, 2, 0, 0, 0, 1, 2]\n",
        "          elif(size == 100):\n",
        "              numbers = [1, 4, 3, 3, 3, 0, 2, 3, 2, 1, 1, 4, 3, 0, 0, 4, 4, 0, 3, 0, 0, 1, 1, 3, 2, 3, 2, 4, 1, 2, 2, 2, 2, 3, 1, 1, 3, 2, 4, 4, 2, 3, 0, 0, 2, 0, 1, 2, 2, 3, 3, 3, 2, 0, 4, 2, 1, 1, 3, 2, 4, 1, 3, 1, 0, 2, 4, 0, 2, 0, 0, 0, 4, 2, 4, 2, 0, 4, 4, 1, 0, 2, 0, 0, 2, 0, 2, 2, 4, 1, 4, 2, 4, 3, 0, 3, 4, 2, 1, 0]\n",
        "\n",
        "        elif(name == 'Inspiral'):\n",
        "            if(size == 10):\n",
        "              numbers = [3, 3, 0, 2, 1, 3, 2 ,3 ,0, 1]\n",
        "            elif(size == 20):\n",
        "              numbers = [0, 1, 1, 3, 2, 2, 2 ,0, 3, 0, 1, 3, 3, 2, 3, 2, 3, 2, 1, 2]\n",
        "            elif(size == 30):\n",
        "              numbers = [1, 2, 3, 1, 0, 3, 1, 1, 1, 0, 1, 0, 3, 0, 0, 1, 3, 3, 3, 2, 0, 3, 3, 1, 1, 0, 2, 3, 0, 2]\n",
        "            elif(size == 40):\n",
        "              numbers = [1, 2, 2, 3, 2, 2, 3, 0, 0, 3, 1, 2, 1, 3, 3, 0, 2, 1, 1, 3, 2, 0, 2, 2, 0, 3, 1, 3, 2, 0, 0, 1, 1, 1, 3, 0, 2, 1, 3, 3]\n",
        "            elif(size == 50):\n",
        "              numbers = [0, 3, 0, 1, 1, 2, 0, 2, 3, 3, 1, 2, 2, 1, 3, 0, 0, 1, 3, 2, 3, 2, 0, 1, 3, 1, 1, 0, 3, 0, 2, 3, 0, 3, 0, 2, 2, 3, 2, 1, 2, 2, 2, 2, 1, 2, 2, 1, 3, 0]\n",
        "            elif(size == 60):\n",
        "              numbers = [3, 0, 0, 2, 2, 1, 1, 0, 1, 3, 0, 1, 2, 2, 3, 2, 0, 3, 3, 2, 1, 1, 0, 2, 3, 3, 0, 1, 0, 1, 0, 1, 0, 1, 2, 2, 0, 2, 0, 1, 1, 0, 2, 0, 1, 2, 0, 1, 3, 2, 0, 2, 3, 1, 0, 1, 2, 3, 2, 0]\n",
        "            elif(size == 70):\n",
        "                numbers = [1, 0, 3, 1, 0, 3, 0, 3, 0, 2, 2, 2, 2, 2, 3, 1, 3, 1, 2, 2, 3, 2, 1, 1, 2, 2, 1, 2, 2, 3, 3, 3, 2, 3, 0, 2, 1, 1, 3, 0, 2, 3, 0, 2, 3, 2, 3, 3, 3, 0, 3, 1, 1, 2, 0, 2, 0, 3, 3, 1, 3, 1, 1, 3, 2, 0, 3, 3, 3, 0]\n",
        "            elif(size == 80):\n",
        "                numbers = [1, 2, 1, 0, 1, 2, 2, 2, 0, 3, 1, 0, 0, 0, 2, 1, 1, 0, 2, 0, 0, 1, 2, 1, 0, 3, 3, 2, 1, 2, 1, 3, 3, 2, 2, 2, 3, 3, 3, 1, 0, 2, 3, 1, 0, 3, 0, 0, 3, 1, 2, 2, 0, 3, 1, 1, 2, 0, 1, 0, 3, 1, 3, 2, 3, 2, 1, 2, 0, 0, 2, 1, 1, 1, 1, 3, 0, 3, 1, 2]\n",
        "            elif(size == 90):\n",
        "                numbers = [3, 2, 3, 0, 0, 3, 0, 3, 1, 0, 0, 0, 3, 1, 3, 3, 2, 2, 0, 1, 1, 1, 1, 0, 2, 1, 0, 0, 2, 0, 1, 0, 3, 2, 1, 2, 0, 2, 3, 0, 2, 2, 3, 1, 3, 1, 0, 1, 3, 2, 2, 1, 3, 2, 3, 3, 1, 1, 1, 1, 2, 3, 1, 3, 2, 1, 3, 1, 2, 3, 3, 1, 3, 0, 3, 3, 3, 1, 3, 0, 2, 1, 1, 0, 1, 2, 1, 1, 2, 0]\n",
        "            elif(size == 100):\n",
        "              numbers = [1, 3, 2, 0, 2, 0, 1, 0, 2, 1, 1, 3, 1, 2, 3, 2, 0, 1, 0, 0, 3, 0, 2, 3, 1, 1, 3, 2, 3, 1, 0, 3, 3, 0, 1, 1, 1, 0, 3, 3, 0, 2, 1, 0, 2, 3, 0, 1, 0, 2, 1, 3, 2, 3, 1, 1, 2, 0, 0, 2, 3, 0, 0, 0, 2, 2, 0, 3, 3, 0, 1, 0, 1, 2, 0, 0, 2, 1, 0, 2, 0, 1, 3, 1, 3, 3, 1, 1, 2, 3, 3, 2, 3, 1, 2, 2, 3, 0, 0, 2]\n",
        "\n",
        "        ensemble = [filtered_files[i] for i in numbers]  # Select random files based on uniform distribution\n",
        "    w_id = 0\n",
        "    for name in ensemble:\n",
        "        ws.append(parse_dax(dax_path+name,w_id))\n",
        "        w_id = w_id + 1\n",
        "\n",
        "    return ws"
      ]
    },
    {
      "cell_type": "markdown",
      "metadata": {
        "id": "u8oPYhPOIF39"
      },
      "source": [
        "# Loading dax files"
      ]
    },
    {
      "cell_type": "code",
      "execution_count": null,
      "metadata": {
        "colab": {
          "base_uri": "https://localhost:8080/"
        },
        "id": "z69MgkfSH81N",
        "outputId": "46c991c1-5dab-4045-e025-76038624f6ca"
      },
      "outputs": [
        {
          "output_type": "stream",
          "name": "stdout",
          "text": [
            "Mounted at /content/drive\n"
          ]
        }
      ],
      "source": [
        "from google.colab import drive\n",
        "import glob\n",
        "\n",
        "drive.mount('/content/drive')\n",
        "folder_path = '/content/drive/My Drive/Zahra/dax/'"
      ]
    },
    {
      "cell_type": "markdown",
      "metadata": {
        "id": "3x5Y4MN-IMLe"
      },
      "source": [
        "# class Device"
      ]
    },
    {
      "cell_type": "code",
      "execution_count": null,
      "metadata": {
        "id": "kK7fXmQeIPIW"
      },
      "outputs": [],
      "source": [
        "class Device:\n",
        "    def __init__(self, id, mips, cost_per_hour, env):\n",
        "        self.id = id\n",
        "        self.mips = mips\n",
        "        self.cost_per_hour = cost_per_hour\n",
        "        self.queue = deque()\n",
        "        self.runnig_queue = deque()\n",
        "        self.resource = simpy.Resource(env, capacity=1)\n",
        "\n",
        "    def add_task_to_queue(self, task):\n",
        "        self.queue.append(task)\n",
        "\n",
        "    def get_next_task(self):\n",
        "        return self.queue.popleft() if self.queue else None\n",
        "\n",
        "    def waiting_time(self):\n",
        "        waiting_time = 0\n",
        "        for t in self.queue:\n",
        "            waiting_time += t.instructions / self.mips\n",
        "        return waiting_time\n"
      ]
    },
    {
      "cell_type": "markdown",
      "metadata": {
        "id": "cUV48C7AImGY"
      },
      "source": [
        "# class FogEnv"
      ]
    },
    {
      "cell_type": "code",
      "execution_count": null,
      "metadata": {
        "id": "A8B_f_ZNIovb"
      },
      "outputs": [],
      "source": [
        "import simpy\n",
        "\n",
        "class FogEnv:\n",
        "    def __init__(self, env, iot_devices, fog_nodes, cloud_servers, workflows):\n",
        "        self.env = env\n",
        "        self.iot_devices = iot_devices\n",
        "        self.fog_nodes = fog_nodes\n",
        "        self.cloud_servers = cloud_servers\n",
        "        self.cost = 0\n",
        "        self.completed_workflows = 0\n",
        "        self.workflows = workflows\n",
        "        self.total_delay = 0\n",
        "\n",
        "        # NEW: Track file origins\n",
        "        self.file_origins = {}  # { file_name: device_id }\n",
        "\n",
        "        # Example bandwidth table (Mb/s)\n",
        "        self.bandwidth_matrix = {\n",
        "            ('iot', 'iot'): 2000,\n",
        "            ('iot', 'fog'): 500,\n",
        "            ('iot', 'cloud'): 500,\n",
        "            ('fog', 'iot'): 500,\n",
        "            ('fog', 'fog'): 4000,\n",
        "            ('fog', 'cloud'): 1000,\n",
        "            ('cloud', 'iot'): 500,\n",
        "            ('cloud', 'fog'): 1000,\n",
        "            ('cloud', 'cloud'): 1000\n",
        "        }\n",
        "\n",
        "    def assign_task(self, task, device):\n",
        "        with device.resource.request() as req:\n",
        "            yield req\n",
        "\n",
        "            # 1) Transfer each input file if needed\n",
        "            for file_name, file_size_bytes in task.input_files:\n",
        "                self.handle_file_transfer(task, file_name, file_size_bytes, device)\n",
        "                task.total_transfer_files_size += file_size_bytes\n",
        "\n",
        "            # 2) Execute the task on this device\n",
        "            execution_time = task.instructions / device.mips\n",
        "            self.total_delay += execution_time\n",
        "            task.execution_time = execution_time\n",
        "            yield self.env.timeout(execution_time)\n",
        "\n",
        "            # 3) Update cost\n",
        "            self.cost += (execution_time * device.cost_per_hour)\n",
        "            task.executed = True\n",
        "            task.executed_on = device.id\n",
        "            task.execution_time = execution_time\n",
        "\n",
        "            # 4) Mark output files as originating from this device\n",
        "            for out_file, _sz in task.output_files:\n",
        "                self.file_origins[out_file] = device.id\n",
        "\n",
        "            # 5) Check if this workflow is now complete\n",
        "            wf = next(w for w in self.workflows if w.id == task.workflow_id)\n",
        "            self.check_workflow_completion(wf)\n",
        "            device.queue.popleft()\n",
        "\n",
        "    # NEW: Function to handle transfer\n",
        "    def handle_file_transfer(self,task, file_name, file_size_bytes, destination_device):\n",
        "        # If we don't know the file origin, assume it's \"local\" or from some default place\n",
        "        if file_name not in self.file_origins:\n",
        "            return  # no transfer needed\n",
        "\n",
        "        source_dev_id = self.file_origins[file_name]\n",
        "        if source_dev_id == destination_device.id:\n",
        "            return  # already local\n",
        "\n",
        "        # Get device types for bandwidth lookup\n",
        "        source_dev = self.get_device_by_id(source_dev_id)\n",
        "        if source_dev is None:\n",
        "            return  # fallback: no known device\n",
        "\n",
        "        source_type = source_dev.dev_type\n",
        "        dest_type = destination_device.dev_type\n",
        "\n",
        "        # bandwidth_matrix gives us Mb/s. Convert bytes -> megabits\n",
        "        # 1 byte = 8 bits, so:\n",
        "        file_megabits = file_size_bytes * 8 / 1e6\n",
        "\n",
        "        # Look up or fallback\n",
        "        band_mbps = self.bandwidth_matrix.get((source_type, dest_type), 1000.0)\n",
        "\n",
        "        # Transfer time (seconds)\n",
        "        transfer_time = file_megabits / band_mbps\n",
        "\n",
        "        # Optional: add base communication latency\n",
        "        comm_latency = 0.01  # 10 ms, for example\n",
        "        total_delay = comm_latency + transfer_time\n",
        "        self.total_delay += total_delay\n",
        "        task.comm_delay = total_delay\n",
        "\n",
        "        # Wait out the transfer in simulation time\n",
        "        yield self.env.timeout(total_delay)\n",
        "\n",
        "    def get_state(self, task):\n",
        "        return [self.cost] + [d.waiting_time() for d in self.iot_devices + self.fog_nodes + self.cloud_servers] + [task.instructions, task.total_transfer_files_size]\n",
        "\n",
        "    def get_device_by_id(self, device_id):\n",
        "        for device in self.iot_devices + self.fog_nodes + self.cloud_servers:\n",
        "            if device.id == device_id:\n",
        "                return device\n",
        "        return None\n",
        "\n",
        "    def check_workflow_completion(self, workflow):\n",
        "        # Check if all tasks in the workflow are executed\n",
        "        if all(task.executed for task in workflow.tasks.values()):\n",
        "            self.completed_workflows += 1  # Increment completed workflows counter\n",
        "            # print(f\"Workflow {workflow.id} is completed! Total completed workflows: {self.completed_workflows}\")\n",
        "\n",
        "\n",
        "\n",
        "\n",
        "\n",
        "def process_workflow(env, workflow, fog_env, agent):\n",
        "      while(True):\n",
        "        if all([task.executed for task in workflow.tasks.values()]):\n",
        "          break\n",
        "        for task in workflow.tasks.values():\n",
        "            if task.executed:\n",
        "              continue\n",
        "            if all([parent.executed for parent in task.parents]) or task.parents == []:\n",
        "                state = np.array(fog_env.get_state(task)).reshape(1, -1)\n",
        "                action = agent.choose_action(state)\n",
        "                devices = fog_env.iot_devices + fog_env.fog_nodes + fog_env.cloud_servers\n",
        "                device = devices[action]\n",
        "                device.add_task_to_queue(task)\n",
        "                task.executed_on = device.id\n",
        "                yield env.process(fog_env.assign_task(task, device))\n"
      ]
    },
    {
      "cell_type": "markdown",
      "metadata": {
        "id": "Swj5rrsAJZV8"
      },
      "source": [
        "# class NewSim\n",
        "\n"
      ]
    },
    {
      "cell_type": "code",
      "execution_count": null,
      "metadata": {
        "id": "SB2sfq22JcBF"
      },
      "outputs": [],
      "source": [
        "class  NewSim:\n",
        "    def __init__(self, num_iot, num_fog, num_server, learning_rate=0.001, discount_factor=0.95,\n",
        "                 exploration_rate=1.0, exploration_decay=0.995, exploration_min=0.01, batch_size=64, memory_size=2000, model_path=None):\n",
        "        self.num_iot = num_iot\n",
        "        self.num_fog = num_fog\n",
        "        self.num_server = num_server\n",
        "        self.num_totla_dev = num_iot + num_fog + num_server\n",
        "        self.learning_rate = learning_rate\n",
        "        self.discount_factor = discount_factor\n",
        "        self.exploration_rate = exploration_rate\n",
        "        self.exploration_decay = exploration_decay\n",
        "        self.exploration_min = exploration_min\n",
        "        self.batch_size = batch_size\n",
        "        self.memory_size = memory_size\n",
        "        self.model_path = model_path\n",
        "        self.env = simpy.Environment()\n",
        "        self.reset()\n",
        "        self.run()\n",
        "\n",
        "    def reset(self):\n",
        "        self.iot_devices = [Device(f'iot_{i}', 500, 0, self.env) for i in range(self.num_iot)]\n",
        "        self.fog_devices = [Device(f'fog_{i}', 4000, 1/3600, self.env) for i in range(self.num_fog)]\n",
        "        self.server_devices = [Device(f'server_{i}', 6000, 8/3600, self.env) for i in range(self.num_server)]\n",
        "        self.agent = DQNAgent(state_size=3+self.num_totla_dev, action_size=self.num_totla_dev, learning_rate=self.learning_rate, discount_factor=self.discount_factor,\n",
        "                                  exploration_rate=self.exploration_rate, exploration_decay=self.exploration_decay,\n",
        "                                  exploration_min=self.exploration_min, batch_size=self.batch_size, memory_size=self.memory_size, model_path = self.model_path)\n",
        "\n",
        "        self.workflows = ensemble_of_workflows(name = 'CyberShake', size=100, distribution = 'constant', dax_path=\"/content/drive/My Drive/Zahra/dax/\")\n",
        "    def run(self):\n",
        "        self.fog_env = FogEnv(self.env, self.iot_devices, self.fog_devices, self.server_devices,self.workflows)\n",
        "        for workflow in self.workflows:\n",
        "            self.env.process(process_workflow(self.env, workflow, self.fog_env, self.agent))\n",
        "\n",
        "        self.env.run()  # Run simulation for a time period\n"
      ]
    },
    {
      "cell_type": "markdown",
      "metadata": {
        "id": "8m16rQswH07A"
      },
      "source": [
        "# Data Collection\n"
      ]
    },
    {
      "cell_type": "markdown",
      "metadata": {
        "id": "pRiUawjwavRO"
      },
      "source": [
        "## The Config of Workflows"
      ]
    },
    {
      "cell_type": "code",
      "execution_count": null,
      "metadata": {
        "id": "pi6ASMtxau1Y"
      },
      "outputs": [],
      "source": [
        "# Workflow configurations with specific sizes\n",
        "workflow_configs = {\n",
        "        'CyberShake': [30, 50, 100, 1000],\n",
        "        'Montage': [20, 40, 60, 80, 100, 200, 300],\n",
        "        'Inspiral': [30, 50, 100, 1000],\n",
        "        'Sipht': [29, 58, 100, 968]\n",
        "    }\n",
        "workflow_distributions = ['constant', 'uniform']"
      ]
    },
    {
      "cell_type": "code",
      "execution_count": null,
      "metadata": {
        "id": "BrXkI2OeLjOO"
      },
      "outputs": [],
      "source": [
        "def run_simulation_with_results_tracking(workflow_name, workflow_size, workflow_distribution, model_path):\n",
        "    learning_rate = 0.001\n",
        "    discount_factor = 0.99\n",
        "    exploration_rate = 0.5\n",
        "    exploration_decay = 0.995\n",
        "    exploration_min = 0.05\n",
        "\n",
        "    dax_path = \"/content/drive/My Drive/Zahra/dax/\"\n",
        "\n",
        "    print(f\"Running simulation for Workflow: {workflow_name}, Size: {workflow_size}, Distribution: {workflow_distribution}\")\n",
        "\n",
        "    # Set up the simulation with the current parameters\n",
        "    simulation = NewSim(\n",
        "        num_iot=10,\n",
        "        num_fog=8,\n",
        "        num_server=5,\n",
        "        learning_rate=learning_rate,\n",
        "        discount_factor=discount_factor,\n",
        "        exploration_rate=exploration_rate,\n",
        "        exploration_decay=exploration_decay,\n",
        "        exploration_min=exploration_min,\n",
        "        model_path = model_path\n",
        "    )\n",
        "\n",
        "    # Update the workflow parameters\n",
        "    simulation.workflows = ensemble_of_workflows(\n",
        "        name=workflow_name,\n",
        "        size=workflow_size,\n",
        "        distribution=workflow_distribution,\n",
        "        dax_path=dax_path\n",
        "    )\n",
        "\n",
        "    # Run the simulation\n",
        "    simulation.run()\n",
        "\n",
        "    # Print results for current run\n",
        "    print(f\"Total time for Workflow {workflow_name} ({workflow_distribution}, size={workflow_size}): {simulation.env.now}\")\n",
        "\n",
        "\n"
      ]
    },
    {
      "cell_type": "markdown",
      "metadata": {
        "id": "lLU8FKZT2elj"
      },
      "source": [
        "# Results"
      ]
    },
    {
      "cell_type": "markdown",
      "metadata": {
        "id": "_XeITaLMw79l"
      },
      "source": [
        "## Cybershake - constant"
      ]
    },
    {
      "cell_type": "code",
      "execution_count": null,
      "metadata": {
        "colab": {
          "background_save": true,
          "base_uri": "https://localhost:8080/"
        },
        "id": "D6NHXFqyw2Oz",
        "outputId": "6ea2b2b0-c642-4746-ff3e-1626092adf87"
      },
      "outputs": [
        {
          "name": "stdout",
          "output_type": "stream",
          "text": [
            "Running simulation for Workflow: CyberShake, Size: 10, Distribution: constant\n",
            "Total cost for Workflow CyberShake (constant, size=10): 0.007557628472222226\n",
            "Total time for Workflow CyberShake (constant, size=10): 33.26703083333282\n",
            "Running simulation for Workflow: CyberShake, Size: 20, Distribution: constant\n",
            "Total cost for Workflow CyberShake (constant, size=20): 0.015008827777777812\n",
            "Total time for Workflow CyberShake (constant, size=20): 35.40071666666623\n",
            "Running simulation for Workflow: CyberShake, Size: 30, Distribution: constant\n",
            "Total cost for Workflow CyberShake (constant, size=30): 0.02262527615740742\n",
            "Total time for Workflow CyberShake (constant, size=30): 37.54289916666608\n",
            "Running simulation for Workflow: CyberShake, Size: 40, Distribution: constant\n",
            "Total cost for Workflow CyberShake (constant, size=40): 0.029782393055555682\n",
            "Total time for Workflow CyberShake (constant, size=40): 39.77082999999916\n",
            "Running simulation for Workflow: CyberShake, Size: 50, Distribution: constant\n",
            "Total cost for Workflow CyberShake (constant, size=50): 0.03773922569444428\n",
            "Total time for Workflow CyberShake (constant, size=50): 42.4846916666657\n",
            "Running simulation for Workflow: CyberShake, Size: 60, Distribution: constant\n",
            "Total cost for Workflow CyberShake (constant, size=60): 0.045411227777777154\n",
            "Total time for Workflow CyberShake (constant, size=60): 45.520806666665734\n",
            "Running simulation for Workflow: CyberShake, Size: 70, Distribution: constant\n",
            "Total cost for Workflow CyberShake (constant, size=70): 0.05408923101851745\n",
            "Total time for Workflow CyberShake (constant, size=70): 48.08934166666549\n",
            "Running simulation for Workflow: CyberShake, Size: 80, Distribution: constant\n",
            "Total cost for Workflow CyberShake (constant, size=80): 0.06133122407407291\n",
            "Total time for Workflow CyberShake (constant, size=80): 51.11351916666536\n",
            "Running simulation for Workflow: CyberShake, Size: 90, Distribution: constant\n",
            "Total cost for Workflow CyberShake (constant, size=90): 0.06881180069444413\n",
            "Total time for Workflow CyberShake (constant, size=90): 53.858507499998545\n",
            "Running simulation for Workflow: CyberShake, Size: 100, Distribution: constant\n",
            "Total cost for Workflow CyberShake (constant, size=100): 0.07619767129629627\n",
            "Total time for Workflow CyberShake (constant, size=100): 55.75515083333168\n"
          ]
        }
      ],
      "source": [
        "for i in range(1, 11):\n",
        "  run_simulation_with_results_tracking('CyberShake',10*i, 'constant', '/content/drive/My Drive/Zahra/Models/model_CyberShake_constant_10_delay.keras' )"
      ]
    },
    {
      "cell_type": "markdown",
      "metadata": {
        "id": "gR0TdNcs1qHQ"
      },
      "source": [
        "## Cybershake - uniform"
      ]
    },
    {
      "cell_type": "code",
      "execution_count": null,
      "metadata": {
        "colab": {
          "background_save": true,
          "base_uri": "https://localhost:8080/"
        },
        "id": "wDrLPm5E2BMz",
        "outputId": "5eb7424f-63b9-4eee-8df0-1e5cc2914eff"
      },
      "outputs": [
        {
          "name": "stdout",
          "output_type": "stream",
          "text": [
            "Running simulation for Workflow: CyberShake, Size: 10, Distribution: uniform\n",
            "Total time for Workflow CyberShake (uniform, size=10): 42.619881666666366\n",
            "Running simulation for Workflow: CyberShake, Size: 20, Distribution: uniform\n",
            "Total time for Workflow CyberShake (uniform, size=20): 33.666159166666205\n",
            "Running simulation for Workflow: CyberShake, Size: 30, Distribution: uniform\n",
            "Total time for Workflow CyberShake (uniform, size=30): 47.72894999999949\n",
            "Running simulation for Workflow: CyberShake, Size: 40, Distribution: uniform\n",
            "Total time for Workflow CyberShake (uniform, size=40): 58.541219999999555\n",
            "Running simulation for Workflow: CyberShake, Size: 50, Distribution: uniform\n",
            "Total time for Workflow CyberShake (uniform, size=50): 58.681204999999444\n",
            "Running simulation for Workflow: CyberShake, Size: 60, Distribution: uniform\n",
            "Total time for Workflow CyberShake (uniform, size=60): 56.474409999999324\n",
            "Running simulation for Workflow: CyberShake, Size: 70, Distribution: uniform\n",
            "Total time for Workflow CyberShake (uniform, size=70): 71.67622833333239\n",
            "Running simulation for Workflow: CyberShake, Size: 80, Distribution: uniform\n",
            "Total time for Workflow CyberShake (uniform, size=80): 70.93505666666563\n",
            "Running simulation for Workflow: CyberShake, Size: 90, Distribution: uniform\n",
            "Total time for Workflow CyberShake (uniform, size=90): 84.11811083333195\n",
            "Running simulation for Workflow: CyberShake, Size: 100, Distribution: uniform\n",
            "Total time for Workflow CyberShake (uniform, size=100): 109.60071333333045\n"
          ]
        }
      ],
      "source": [
        "for i in range(1, 11):\n",
        "  run_simulation_with_results_tracking('CyberShake',10*i, 'uniform', '/content/drive/My Drive/Zahra/Models/model_CyberShake_constant_10_delay.keras' )"
      ]
    },
    {
      "cell_type": "markdown",
      "metadata": {
        "id": "xmy3_T952Yuk"
      },
      "source": [
        "## Montage - constant"
      ]
    },
    {
      "cell_type": "code",
      "execution_count": null,
      "metadata": {
        "colab": {
          "base_uri": "https://localhost:8080/"
        },
        "id": "h1i-P0kL2pjV",
        "outputId": "cb6e3040-660b-4e6e-9912-c3352d6f4eef"
      },
      "outputs": [
        {
          "name": "stdout",
          "output_type": "stream",
          "text": [
            "Running simulation for Workflow: Montage, Size: 10, Distribution: constant\n",
            "Total cost for Workflow Montage (constant, size=10): 0.002601963425925926\n",
            "Total time for Workflow Montage (constant, size=10): 30.237374999999563\n",
            "Running simulation for Workflow: Montage, Size: 20, Distribution: constant\n",
            "Total cost for Workflow Montage (constant, size=20): 0.005089276851851852\n",
            "Total time for Workflow Montage (constant, size=20): 30.093610833332857\n",
            "Running simulation for Workflow: Montage, Size: 30, Distribution: constant\n",
            "Total cost for Workflow Montage (constant, size=30): 0.007700603472222187\n",
            "Total time for Workflow Montage (constant, size=30): 30.760553333332663\n",
            "Running simulation for Workflow: Montage, Size: 40, Distribution: constant\n",
            "Total cost for Workflow Montage (constant, size=40): 0.010387239120370468\n",
            "Total time for Workflow Montage (constant, size=40): 31.92838166666601\n",
            "Running simulation for Workflow: Montage, Size: 50, Distribution: constant\n",
            "Total cost for Workflow Montage (constant, size=50): 0.012776043750000196\n",
            "Total time for Workflow Montage (constant, size=50): 32.602205833332434\n",
            "Running simulation for Workflow: Montage, Size: 60, Distribution: constant\n",
            "Total cost for Workflow Montage (constant, size=60): 0.015467085185185438\n",
            "Total time for Workflow Montage (constant, size=60): 34.261728333332805\n",
            "Running simulation for Workflow: Montage, Size: 70, Distribution: constant\n",
            "Total cost for Workflow Montage (constant, size=70): 0.01811791296296285\n",
            "Total time for Workflow Montage (constant, size=70): 34.68412916666577\n",
            "Running simulation for Workflow: Montage, Size: 80, Distribution: constant\n",
            "Total cost for Workflow Montage (constant, size=80): 0.02059883078703687\n",
            "Total time for Workflow Montage (constant, size=80): 35.25936749999893\n",
            "Running simulation for Workflow: Montage, Size: 90, Distribution: constant\n",
            "Total cost for Workflow Montage (constant, size=90): 0.023386080787036665\n",
            "Total time for Workflow Montage (constant, size=90): 36.04424499999885\n",
            "Running simulation for Workflow: Montage, Size: 100, Distribution: constant\n",
            "Total cost for Workflow Montage (constant, size=100): 0.02565172615740699\n",
            "Total time for Workflow Montage (constant, size=100): 37.2402808333321\n"
          ]
        }
      ],
      "source": [
        "for i in range(1, 11):\n",
        "  run_simulation_with_results_tracking('Montage',10*i, 'constant', '/content/drive/My Drive/Zahra/Models/model_CyberShake_constant_10_delay.keras' )"
      ]
    },
    {
      "cell_type": "markdown",
      "metadata": {
        "id": "Lpvpbfmr2_9M"
      },
      "source": [
        "## Montage - uniform"
      ]
    },
    {
      "cell_type": "code",
      "execution_count": null,
      "metadata": {
        "colab": {
          "base_uri": "https://localhost:8080/"
        },
        "id": "5j7GJQun3GTh",
        "outputId": "e68a2637-9daa-489d-8ff1-1f757339706e"
      },
      "outputs": [
        {
          "output_type": "stream",
          "name": "stdout",
          "text": [
            "Running simulation for Workflow: Montage, Size: 10, Distribution: uniform\n",
            "Total time for Workflow Montage (uniform, size=10): 30.1976966666662\n",
            "Running simulation for Workflow: Montage, Size: 20, Distribution: uniform\n",
            "Total time for Workflow Montage (uniform, size=20): 30.38107666666633\n",
            "Running simulation for Workflow: Montage, Size: 30, Distribution: uniform\n",
            "Total time for Workflow Montage (uniform, size=30): 31.56343583333299\n",
            "Running simulation for Workflow: Montage, Size: 40, Distribution: uniform\n",
            "Total time for Workflow Montage (uniform, size=40): 32.78496499999974\n",
            "Running simulation for Workflow: Montage, Size: 50, Distribution: uniform\n",
            "Total time for Workflow Montage (uniform, size=50): 33.831708333332834\n",
            "Running simulation for Workflow: Montage, Size: 60, Distribution: uniform\n",
            "Total time for Workflow Montage (uniform, size=60): 35.56663666666616\n",
            "Running simulation for Workflow: Montage, Size: 70, Distribution: uniform\n",
            "Total time for Workflow Montage (uniform, size=70): 36.4975483333328\n",
            "Running simulation for Workflow: Montage, Size: 80, Distribution: uniform\n",
            "Total time for Workflow Montage (uniform, size=80): 36.49644249999947\n",
            "Running simulation for Workflow: Montage, Size: 90, Distribution: uniform\n",
            "Total time for Workflow Montage (uniform, size=90): 38.93801916666627\n",
            "Running simulation for Workflow: Montage, Size: 100, Distribution: uniform\n",
            "Total time for Workflow Montage (uniform, size=100): 39.80287583333301\n"
          ]
        }
      ],
      "source": [
        "for i in range(1, 11):\n",
        "  run_simulation_with_results_tracking('Montage',10*i, 'uniform', '/content/drive/My Drive/Zahra/Models/model_CyberShake_constant_10_delay.keras' )"
      ]
    },
    {
      "cell_type": "markdown",
      "metadata": {
        "id": "WWpstixI3WNq"
      },
      "source": [
        "## Sipht - constant"
      ]
    },
    {
      "cell_type": "code",
      "execution_count": null,
      "metadata": {
        "colab": {
          "base_uri": "https://localhost:8080/"
        },
        "id": "AngfK6hh3bOO",
        "outputId": "9a41935d-3164-49f5-9929-58c069b7bde1"
      },
      "outputs": [
        {
          "name": "stdout",
          "output_type": "stream",
          "text": [
            "Running simulation for Workflow: Sipht, Size: 10, Distribution: constant\n",
            "Total cost for Workflow Sipht (constant, size=10): 0.041470172391203694\n",
            "Total time for Workflow Sipht (constant, size=10): 59.121403241666215\n",
            "Running simulation for Workflow: Sipht, Size: 20, Distribution: constant\n",
            "Total cost for Workflow Sipht (constant, size=20): 0.07850656632175923\n",
            "Total time for Workflow Sipht (constant, size=20): 78.81070487499954\n",
            "Running simulation for Workflow: Sipht, Size: 30, Distribution: constant\n",
            "Total cost for Workflow Sipht (constant, size=30): 0.12027385102083311\n",
            "Total time for Workflow Sipht (constant, size=30): 86.77258092499962\n",
            "Running simulation for Workflow: Sipht, Size: 40, Distribution: constant\n",
            "Total cost for Workflow Sipht (constant, size=40): 0.15944709090277737\n",
            "Total time for Workflow Sipht (constant, size=40): 94.638137766666\n",
            "Running simulation for Workflow: Sipht, Size: 50, Distribution: constant\n",
            "Total cost for Workflow Sipht (constant, size=50): 0.20268700156018538\n",
            "Total time for Workflow Sipht (constant, size=50): 108.85493400833265\n",
            "Running simulation for Workflow: Sipht, Size: 60, Distribution: constant\n",
            "Total cost for Workflow Sipht (constant, size=60): 0.24532296159027764\n",
            "Total time for Workflow Sipht (constant, size=60): 127.07985911666569\n",
            "Running simulation for Workflow: Sipht, Size: 70, Distribution: constant\n",
            "Total cost for Workflow Sipht (constant, size=70): 0.2849229568402751\n",
            "Total time for Workflow Sipht (constant, size=70): 139.27264629166595\n",
            "Running simulation for Workflow: Sipht, Size: 80, Distribution: constant\n",
            "Total cost for Workflow Sipht (constant, size=80): 0.3310923113911988\n",
            "Total time for Workflow Sipht (constant, size=80): 158.16473658333277\n",
            "Running simulation for Workflow: Sipht, Size: 90, Distribution: constant\n",
            "Total cost for Workflow Sipht (constant, size=90): 0.37410469185647377\n",
            "Total time for Workflow Sipht (constant, size=90): 167.53293716666906\n",
            "Running simulation for Workflow: Sipht, Size: 100, Distribution: constant\n",
            "Total cost for Workflow Sipht (constant, size=100): 0.41594094039119195\n",
            "Total time for Workflow Sipht (constant, size=100): 190.03537836666902\n"
          ]
        }
      ],
      "source": [
        "for i in range(1, 11):\n",
        "  run_simulation_with_results_tracking('Sipht',10*i, 'constant', '/content/drive/My Drive/Zahra/Models/model_CyberShake_constant_10_delay.keras' )"
      ]
    },
    {
      "cell_type": "markdown",
      "metadata": {
        "id": "D81dg-wV3rJ3"
      },
      "source": [
        "## Sipht - uniform"
      ]
    },
    {
      "cell_type": "code",
      "execution_count": null,
      "metadata": {
        "id": "77roJqmI3vhj",
        "colab": {
          "base_uri": "https://localhost:8080/"
        },
        "outputId": "ddb8c432-0356-46b9-f125-a2f5bf13bfbf"
      },
      "outputs": [
        {
          "output_type": "stream",
          "name": "stdout",
          "text": [
            "Running simulation for Workflow: Sipht, Size: 10, Distribution: uniform\n",
            "Total time for Workflow Sipht (uniform, size=10): 157.23180513333298\n",
            "Running simulation for Workflow: Sipht, Size: 20, Distribution: uniform\n",
            "Total time for Workflow Sipht (uniform, size=20): 203.9238603583327\n",
            "Running simulation for Workflow: Sipht, Size: 30, Distribution: uniform\n",
            "Total time for Workflow Sipht (uniform, size=30): 263.2150981666652\n",
            "Running simulation for Workflow: Sipht, Size: 40, Distribution: uniform\n",
            "Total time for Workflow Sipht (uniform, size=40): 204.5266208083327\n",
            "Running simulation for Workflow: Sipht, Size: 50, Distribution: uniform\n",
            "Total time for Workflow Sipht (uniform, size=50): 268.9177889583324\n",
            "Running simulation for Workflow: Sipht, Size: 60, Distribution: uniform\n",
            "Total time for Workflow Sipht (uniform, size=60): 401.9386610583304\n",
            "Running simulation for Workflow: Sipht, Size: 70, Distribution: uniform\n",
            "Total time for Workflow Sipht (uniform, size=70): 425.4528040666639\n",
            "Running simulation for Workflow: Sipht, Size: 80, Distribution: uniform\n",
            "Total time for Workflow Sipht (uniform, size=80): 405.8544705499973\n",
            "Running simulation for Workflow: Sipht, Size: 90, Distribution: uniform\n",
            "Total time for Workflow Sipht (uniform, size=90): 550.797926824995\n",
            "Running simulation for Workflow: Sipht, Size: 100, Distribution: uniform\n",
            "Total time for Workflow Sipht (uniform, size=100): 439.04289238333047\n"
          ]
        }
      ],
      "source": [
        "for i in range(1, 11):\n",
        "  run_simulation_with_results_tracking('Sipht',10*i, 'uniform', '/content/drive/My Drive/Zahra/Models/model_CyberShake_constant_10_delay.keras' )"
      ]
    },
    {
      "cell_type": "markdown",
      "metadata": {
        "id": "8h-h3V5w4NXP"
      },
      "source": [
        "## Inspiral - constant"
      ]
    },
    {
      "cell_type": "code",
      "execution_count": null,
      "metadata": {
        "colab": {
          "background_save": true,
          "base_uri": "https://localhost:8080/"
        },
        "id": "dr-AgY2X4Vh8",
        "outputId": "00dd0508-43f0-46f0-d1f4-70a2eaaa3a0e"
      },
      "outputs": [
        {
          "name": "stdout",
          "output_type": "stream",
          "text": [
            "Running simulation for Workflow: Inspiral, Size: 10, Distribution: constant\n",
            "Total cost for Workflow Inspiral (constant, size=10): 0.05049436851851847\n",
            "Total time for Workflow Inspiral (constant, size=10): 53.554117499999634\n",
            "Running simulation for Workflow: Inspiral, Size: 20, Distribution: constant\n",
            "Total cost for Workflow Inspiral (constant, size=20): 0.09763572962962966\n",
            "Total time for Workflow Inspiral (constant, size=20): 68.06736749999946\n",
            "Running simulation for Workflow: Inspiral, Size: 30, Distribution: constant\n",
            "Total cost for Workflow Inspiral (constant, size=30): 0.15091267337962974\n",
            "Total time for Workflow Inspiral (constant, size=30): 86.24749333333318\n",
            "Running simulation for Workflow: Inspiral, Size: 40, Distribution: constant\n",
            "Total cost for Workflow Inspiral (constant, size=40): 0.20393802777777836\n",
            "Total time for Workflow Inspiral (constant, size=40): 107.04977916666621\n",
            "Running simulation for Workflow: Inspiral, Size: 50, Distribution: constant\n",
            "Total cost for Workflow Inspiral (constant, size=50): 0.24177416111111205\n",
            "Total time for Workflow Inspiral (constant, size=50): 118.65522499999929\n",
            "Running simulation for Workflow: Inspiral, Size: 60, Distribution: constant\n",
            "Total cost for Workflow Inspiral (constant, size=60): 0.2971498252314855\n",
            "Total time for Workflow Inspiral (constant, size=60): 140.72553999999855\n",
            "Running simulation for Workflow: Inspiral, Size: 70, Distribution: constant\n",
            "Total cost for Workflow Inspiral (constant, size=70): 0.3578843798611176\n",
            "Total time for Workflow Inspiral (constant, size=70): 163.62143666666398\n",
            "Running simulation for Workflow: Inspiral, Size: 80, Distribution: constant\n",
            "Total cost for Workflow Inspiral (constant, size=80): 0.3973900879629697\n",
            "Total time for Workflow Inspiral (constant, size=80): 177.82203166666415\n",
            "Running simulation for Workflow: Inspiral, Size: 90, Distribution: constant\n",
            "Total cost for Workflow Inspiral (constant, size=90): 0.45632014444444985\n",
            "Total time for Workflow Inspiral (constant, size=90): 200.02619083333082\n",
            "Running simulation for Workflow: Inspiral, Size: 100, Distribution: constant\n",
            "Total cost for Workflow Inspiral (constant, size=100): 0.4944369347222266\n",
            "Total time for Workflow Inspiral (constant, size=100): 211.80393416666377\n"
          ]
        }
      ],
      "source": [
        "for i in range(1, 11):\n",
        "  run_simulation_with_results_tracking('Inspiral',10*i, 'constant', '/content/drive/My Drive/Zahra/Models/model_CyberShake_constant_10_delay.keras' )"
      ]
    },
    {
      "cell_type": "markdown",
      "metadata": {
        "id": "YHOfdObx4fIx"
      },
      "source": [
        "## Inspiral - uniform"
      ]
    },
    {
      "cell_type": "code",
      "execution_count": null,
      "metadata": {
        "id": "70ubjjbz4kR7",
        "colab": {
          "base_uri": "https://localhost:8080/"
        },
        "outputId": "e02f00da-a5b1-4ced-ae97-011431585fb2"
      },
      "outputs": [
        {
          "output_type": "stream",
          "name": "stdout",
          "text": [
            "Running simulation for Workflow: Inspiral, Size: 10, Distribution: uniform\n",
            "Total time for Workflow Inspiral (uniform, size=10): 181.78977416666615\n",
            "Running simulation for Workflow: Inspiral, Size: 20, Distribution: uniform\n",
            "Total time for Workflow Inspiral (uniform, size=20): 215.43503166666616\n",
            "Running simulation for Workflow: Inspiral, Size: 30, Distribution: uniform\n",
            "Total time for Workflow Inspiral (uniform, size=30): 277.2620158333329\n",
            "Running simulation for Workflow: Inspiral, Size: 40, Distribution: uniform\n",
            "Total time for Workflow Inspiral (uniform, size=40): 272.83395749999937\n",
            "Running simulation for Workflow: Inspiral, Size: 50, Distribution: uniform\n",
            "Total time for Workflow Inspiral (uniform, size=50): 337.59007416666657\n",
            "Running simulation for Workflow: Inspiral, Size: 60, Distribution: uniform\n",
            "Total time for Workflow Inspiral (uniform, size=60): 470.31489249999765\n",
            "Running simulation for Workflow: Inspiral, Size: 70, Distribution: uniform\n",
            "Total time for Workflow Inspiral (uniform, size=70): 364.31855666666576\n",
            "Running simulation for Workflow: Inspiral, Size: 80, Distribution: uniform\n",
            "Total time for Workflow Inspiral (uniform, size=80): 511.4316324999956\n",
            "Running simulation for Workflow: Inspiral, Size: 90, Distribution: uniform\n",
            "Total time for Workflow Inspiral (uniform, size=90): 515.1642849999986\n",
            "Running simulation for Workflow: Inspiral, Size: 100, Distribution: uniform\n",
            "Total time for Workflow Inspiral (uniform, size=100): 696.4444466666562\n"
          ]
        }
      ],
      "source": [
        "for i in range(1, 11):\n",
        "  run_simulation_with_results_tracking('Inspiral',10*i, 'uniform', '/content/drive/My Drive/Zahra/Models/model_CyberShake_constant_10_delay.keras' )"
      ]
    }
  ],
  "metadata": {
    "colab": {
      "provenance": [],
      "include_colab_link": true
    },
    "kernelspec": {
      "display_name": "Python 3",
      "name": "python3"
    },
    "language_info": {
      "name": "python"
    }
  },
  "nbformat": 4,
  "nbformat_minor": 0
}