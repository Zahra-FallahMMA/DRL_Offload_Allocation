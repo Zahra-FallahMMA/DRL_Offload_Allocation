{
  "cells": [
    {
      "cell_type": "markdown",
      "metadata": {
        "id": "view-in-github",
        "colab_type": "text"
      },
      "source": [
        "<a href=\"https://colab.research.google.com/github/Zahra-FallahMMA/DRL_Offload_Allocation/blob/main/Random_Agent.ipynb\" target=\"_parent\"><img src=\"https://colab.research.google.com/assets/colab-badge.svg\" alt=\"Open In Colab\"/></a>"
      ]
    },
    {
      "cell_type": "markdown",
      "metadata": {
        "id": "PcuUUZU1G5k4"
      },
      "source": [
        "# import Libraries"
      ]
    },
    {
      "cell_type": "code",
      "execution_count": 1,
      "metadata": {
        "colab": {
          "base_uri": "https://localhost:8080/"
        },
        "id": "LIP4GlsbGwAx",
        "outputId": "07488c9b-3e03-4a21-e642-8a18dfe7b6bf"
      },
      "outputs": [
        {
          "output_type": "stream",
          "name": "stdout",
          "text": [
            "Collecting simpy\n",
            "  Downloading simpy-4.1.1-py3-none-any.whl.metadata (6.1 kB)\n",
            "Downloading simpy-4.1.1-py3-none-any.whl (27 kB)\n",
            "Installing collected packages: simpy\n",
            "Successfully installed simpy-4.1.1\n"
          ]
        }
      ],
      "source": [
        "import xml.etree.ElementTree as ET\n",
        "from io import StringIO\n",
        "import os\n",
        "import re\n",
        "import numpy as np\n",
        "from collections import deque, defaultdict\n",
        "import random\n",
        "from keras.models import Sequential\n",
        "from keras.layers import Dense, Dropout\n",
        "from keras.optimizers import Adam\n",
        "from keras.models import load_model\n",
        "from itertools import product\n",
        "import tensorflow as tf\n",
        "!pip install simpy\n",
        "import simpy\n",
        "\n",
        "# Set TensorFlow logging level to suppress detailed logs\n",
        "os.environ['TF_CPP_MIN_LOG_LEVEL'] = '3'\n",
        "tf.get_logger().setLevel('ERROR')"
      ]
    },
    {
      "cell_type": "markdown",
      "metadata": {
        "id": "lCfIwrJDHK33"
      },
      "source": [
        "# Class Random Agent"
      ]
    },
    {
      "cell_type": "code",
      "execution_count": 2,
      "metadata": {
        "id": "qreTNfv_HP9X"
      },
      "outputs": [],
      "source": [
        "class RandomAgent:\n",
        "\n",
        "   def __init__(self, action_size):\n",
        "      self.action_size = action_size\n",
        "\n",
        "   def choose_action(self):\n",
        "        return random.randrange(self.action_size)"
      ]
    },
    {
      "cell_type": "markdown",
      "metadata": {
        "id": "sc5cwMB6HUAZ"
      },
      "source": [
        "# class Task"
      ]
    },
    {
      "cell_type": "code",
      "execution_count": 3,
      "metadata": {
        "id": "dWqg63i_HW5y"
      },
      "outputs": [],
      "source": [
        "class Task:\n",
        "    def __init__(self, id, instructions, workflow_id):\n",
        "        self.id = id\n",
        "        self.instructions = instructions  # Execution time or computational instructions\n",
        "        self.children = []  # List of tasks that depend on this task\n",
        "        self.parents = []  # List of tasks this task depends on\n",
        "\n",
        "        self.input_files = []   # list of (filename, size)\n",
        "        self.output_files = []  # list of (filename, size)\n",
        "\n",
        "        self.executed = False  # Status of execution\n",
        "        self.executed_on = None  # Node this task was executed on\n",
        "        self.execution_time = 0  # Time taken to execute the task\n",
        "        self.cost = 0  # Cost of executing the task\n",
        "        self.comm_delay = 0  # Communication delay in seconds\n",
        "        self.workflow_id = workflow_id  # Workflow identifier to which this task belongs\n",
        "        self.total_transfer_files_size = 0\n",
        "        self.waiting_time = 0\n"
      ]
    },
    {
      "cell_type": "markdown",
      "metadata": {
        "id": "V6GeROhDHben"
      },
      "source": [
        "# Class Workflow"
      ]
    },
    {
      "cell_type": "code",
      "execution_count": 4,
      "metadata": {
        "id": "l1dvEPosHyYn"
      },
      "outputs": [],
      "source": [
        "class Workflow:\n",
        "    def __init__(self, id):\n",
        "        self.id = id  # Workflow identifier\n",
        "        self.tasks = {}  # Dictionary of tasks in the workflow\n",
        "\n",
        "    def add_task(self, task_id, instructions, parent_ids=[], input_files=[], output_files=[]):\n",
        "        if task_id not in self.tasks:\n",
        "            self.tasks[task_id] = Task(task_id, instructions, self.id)\n",
        "        task = self.tasks[task_id]\n",
        "        for parent_id in parent_ids:\n",
        "            if parent_id not in self.tasks:\n",
        "                self.tasks[parent_id] = Task(parent_id, 0, self.id)\n",
        "            parent_task = self.tasks[parent_id]\n",
        "            parent_task.children.append(task)\n",
        "            task.parents.append(parent_task)\n",
        "\n",
        "        task.input_files.extend(input_files)\n",
        "        task.output_files.extend(output_files)"
      ]
    },
    {
      "cell_type": "markdown",
      "metadata": {
        "id": "sOhKq478H4_X"
      },
      "source": [
        "# class parse_dax"
      ]
    },
    {
      "cell_type": "code",
      "execution_count": 5,
      "metadata": {
        "id": "92rkJc8AH3Bd"
      },
      "outputs": [],
      "source": [
        "def parse_dax(file_path, workflow_id):\n",
        "    tree = ET.parse(file_path)\n",
        "    root = tree.getroot()\n",
        "\n",
        "    workflow_id = workflow_id\n",
        "    workflow = Workflow(workflow_id)\n",
        "\n",
        "    # Pegasus DAX namespace\n",
        "    dax_ns = '{http://pegasus.isi.edu/schema/DAX}'\n",
        "\n",
        "    # Parse jobs\n",
        "    jobs = {job.attrib['id']: job for job in root.findall(f'{dax_ns}job')}\n",
        "\n",
        "    # Add jobs to workflow\n",
        "    for job_id, job_elem in jobs.items():\n",
        "        instructions = float(job_elem.attrib.get('runtime', 0))\n",
        "\n",
        "        # NEW: Gather input/output files from <uses link=\"input\" ...> or <uses link=\"output\" ...>\n",
        "        input_files = []\n",
        "        output_files = []\n",
        "        for uses_elem in job_elem.findall(f'.//{dax_ns}uses'):\n",
        "            link_type = uses_elem.attrib.get('link', '')\n",
        "            file_name = uses_elem.attrib.get('file', '')\n",
        "            file_size_str = uses_elem.attrib.get('size', '0')\n",
        "            file_size = int(file_size_str)\n",
        "\n",
        "            if link_type == 'input':\n",
        "                input_files.append((file_name, file_size))  # e.g. (\"FFI_0_2_subfx.sgt\", 262360916)\n",
        "            elif link_type == 'output':\n",
        "                output_files.append((file_name, file_size))\n",
        "\n",
        "        workflow.add_task(job_id,\n",
        "                          instructions,\n",
        "                          parent_ids=[],  # We'll handle parents in a moment,\n",
        "                          input_files=input_files,\n",
        "                          output_files=output_files)\n",
        "\n",
        "    # Parse dependencies\n",
        "    for child in root.findall(f'{dax_ns}child'):\n",
        "        child_id = child.attrib['ref']\n",
        "        parent_ids = [parent.attrib['ref'] for parent in child.findall(f'{dax_ns}parent')]\n",
        "        workflow.add_task(child_id, 0, parent_ids)  # Adds a child node with its parent nodes, setting instructions to 0 to avoid overwrite\n",
        "\n",
        "    return workflow\n",
        "\n",
        "\n",
        "def ensemble_of_workflows(name, size=10, distribution='constant', dax_path=''):\n",
        "    ws = []\n",
        "    ensemble = []\n",
        "    directory_path = dax_path  # Directory containing DAX files\n",
        "\n",
        "    # List and filter files in directory\n",
        "    files = os.listdir(directory_path)\n",
        "    filtered_files = [file for file in files if name in file]\n",
        "\n",
        "    if distribution == 'constant':\n",
        "        pattern = r'100(?!\\d)'\n",
        "        for s in filtered_files:\n",
        "            if re.search(pattern, s):\n",
        "                ensemble = [s] * size  # Replicate the matched file 'size' times\n",
        "                break\n",
        "    else:\n",
        "        numbers = np.random.randint(0, len(filtered_files), size)\n",
        "        print('numbers: ', numbers)\n",
        "        ensemble = [filtered_files[i] for i in numbers]  # Select random files based on uniform distribution\n",
        "\n",
        "    w_id = 0\n",
        "    for name in ensemble:\n",
        "        ws.append(parse_dax(dax_path+name,w_id))\n",
        "        w_id = w_id + 1\n",
        "\n",
        "    return ws"
      ]
    },
    {
      "cell_type": "markdown",
      "metadata": {
        "id": "u8oPYhPOIF39"
      },
      "source": [
        "# Loading dax files"
      ]
    },
    {
      "cell_type": "code",
      "execution_count": 6,
      "metadata": {
        "colab": {
          "base_uri": "https://localhost:8080/"
        },
        "id": "z69MgkfSH81N",
        "outputId": "7e127def-1db3-4a63-9d3e-b4a1a352d329"
      },
      "outputs": [
        {
          "output_type": "stream",
          "name": "stdout",
          "text": [
            "Mounted at /content/drive\n"
          ]
        }
      ],
      "source": [
        "from google.colab import drive\n",
        "import glob\n",
        "\n",
        "drive.mount('/content/drive')\n",
        "folder_path = '/content/drive/My Drive/Zahra/dax/'"
      ]
    },
    {
      "cell_type": "markdown",
      "metadata": {
        "id": "3x5Y4MN-IMLe"
      },
      "source": [
        "# class Device"
      ]
    },
    {
      "cell_type": "code",
      "execution_count": 7,
      "metadata": {
        "id": "kK7fXmQeIPIW"
      },
      "outputs": [],
      "source": [
        "class Device:\n",
        "    def __init__(self, id, mips, cost_per_hour, env):\n",
        "        self.id = id\n",
        "        self.mips = mips\n",
        "        self.cost_per_hour = cost_per_hour\n",
        "        self.queue = deque()\n",
        "        self.runnig_queue = deque()\n",
        "        self.resource = simpy.Resource(env, capacity=1)\n",
        "        self.dev_type = id.split('_')[0]\n",
        "\n",
        "    def add_task_to_queue(self, task):\n",
        "        self.queue.append(task)\n",
        "\n",
        "    def get_next_task(self):\n",
        "        return self.queue.popleft() if self.queue else None\n",
        "\n",
        "    def waiting_time(self):\n",
        "        waiting_time = 0\n",
        "        for t in self.queue:\n",
        "            waiting_time += t.instructions / self.mips\n",
        "        return waiting_time\n"
      ]
    },
    {
      "cell_type": "markdown",
      "metadata": {
        "id": "cUV48C7AImGY"
      },
      "source": [
        "# class FogEnv"
      ]
    },
    {
      "cell_type": "code",
      "execution_count": 8,
      "metadata": {
        "id": "A8B_f_ZNIovb"
      },
      "outputs": [],
      "source": [
        "import simpy\n",
        "\n",
        "class FogEnv:\n",
        "    def __init__(self, env, iot_devices, fog_nodes, cloud_servers, workflows):\n",
        "        self.env = env\n",
        "        self.iot_devices = iot_devices\n",
        "        self.fog_nodes = fog_nodes\n",
        "        self.cloud_servers = cloud_servers\n",
        "        self.cost = 0\n",
        "        self.completed_workflows = 0\n",
        "        self.workflows = workflows\n",
        "        self.total_delay = 0\n",
        "\n",
        "        # NEW: Track file origins\n",
        "        self.file_origins = {}  # { file_name: device_id }\n",
        "\n",
        "        # Example bandwidth table (Mb/s)\n",
        "        self.bandwidth_matrix = {\n",
        "            ('iot', 'iot'): 2000,\n",
        "            ('iot', 'fog'): 500,\n",
        "            ('iot', 'cloud'): 500,\n",
        "            ('fog', 'iot'): 500,\n",
        "            ('fog', 'fog'): 4000,\n",
        "            ('fog', 'cloud'): 1000,\n",
        "            ('cloud', 'iot'): 500,\n",
        "            ('cloud', 'fog'): 1000,\n",
        "            ('cloud', 'cloud'): 1000\n",
        "        }\n",
        "\n",
        "\n",
        "        # Storage cost rate per GB per hour for each device type (in dollars)\n",
        "        self.storage_cost_rate = {\n",
        "            'iot': 0.0007,  # $ per GB per hour for IoT devices\n",
        "            'fog': 0.00042,  # $ per GB per hour for Fog nodes\n",
        "            'cloud': 0.00003  # $ per GB per hour for Cloud servers\n",
        "        }\n",
        "\n",
        "\n",
        "    def assign_task(self, task, device):\n",
        "        with device.resource.request() as req:\n",
        "            yield req\n",
        "\n",
        "            # Set the arrival time when the task is added to the queue\n",
        "            task.arrival_time = self.env.now\n",
        "\n",
        "            # 1) Transfer each input file if needed\n",
        "            for file_name, file_size_bytes in task.input_files:\n",
        "                yield self.env.process(self.handle_file_transfer(task, file_name, file_size_bytes, device))\n",
        "\n",
        "\n",
        "            # 2) Execute the task on this device\n",
        "            execution_time = task.instructions * 6000/ device.mips\n",
        "            self.total_delay += execution_time\n",
        "            task.execution_time = execution_time\n",
        "            yield self.env.timeout(execution_time)\n",
        "\n",
        "            # 3) Calculate waiting time (difference between current time and arrival time)\n",
        "            waiting_time = self.env.now - task.arrival_time\n",
        "\n",
        "            # 4) Update cost\n",
        "            task.cost = execution_time * device.cost_per_hour\n",
        "            self.cost += task.cost\n",
        "\n",
        "            # 5) Calculate and add storage cost (including waiting time)\n",
        "            storage_cost = self.calculate_storage_cost(task, device, waiting_time, execution_time)\n",
        "            task.storage_cost = storage_cost\n",
        "            self.cost += storage_cost\n",
        "\n",
        "            task.executed = True\n",
        "            task.executed_on = device.id\n",
        "            task.execution_time = execution_time\n",
        "\n",
        "            # 6) Mark output files as originating from this device\n",
        "            for out_file, _sz in task.output_files:\n",
        "                self.file_origins[out_file] = device.id\n",
        "\n",
        "            # 7) Check if this workflow is now complete\n",
        "            wf = next(w for w in self.workflows if w.id == task.workflow_id)\n",
        "            self.check_workflow_completion(wf)\n",
        "            device.queue.popleft()\n",
        "\n",
        "\n",
        "    def calculate_storage_cost(self, task, device, waiting_time, execution_time):\n",
        "        total_file_size = 0\n",
        "\n",
        "        # Add the size of input files\n",
        "        for file_name, file_size_bytes in task.input_files:\n",
        "            total_file_size += file_size_bytes\n",
        "\n",
        "        # Add the size of output files\n",
        "        for out_file, file_size_bytes in task.output_files:\n",
        "            total_file_size += file_size_bytes\n",
        "\n",
        "        # Convert total size to GB\n",
        "        total_file_size_gb = total_file_size / (1024 ** 3)  # Convert bytes to GB\n",
        "\n",
        "        # Get the storage cost rate for the device type\n",
        "        device_type = device.dev_type\n",
        "        storage_cost_per_hour = self.storage_cost_rate.get(device_type, 0)\n",
        "\n",
        "        # Calculate the total storage time (waiting time + execution time)\n",
        "        total_storage_time = waiting_time + execution_time\n",
        "\n",
        "        # Convert total time from seconds to hours\n",
        "        total_time_in_hours = total_storage_time / 3600  # Convert seconds to hours\n",
        "\n",
        "\n",
        "        # Calculate the storage cost for this task (based on total storage time)\n",
        "        storage_cost = total_file_size_gb * storage_cost_per_hour * total_storage_time  # cost per GB per hour * time\n",
        "        return storage_cost\n",
        "\n",
        "\n",
        "    # Function to handle transfer\n",
        "    def handle_file_transfer(self,task, file_name, file_size_bytes, destination_device):\n",
        "        # If we don't know the file origin, assume it's \"local\" or from some default place\n",
        "        if file_name not in self.file_origins:\n",
        "            return  # no transfer needed\n",
        "\n",
        "        source_dev_id = self.file_origins[file_name]\n",
        "        if source_dev_id == destination_device.id:\n",
        "            return  # already local\n",
        "\n",
        "        # Get device types for bandwidth lookup\n",
        "        source_dev = self.get_device_by_id(source_dev_id)\n",
        "        if source_dev is None:\n",
        "            return  # fallback: no known device\n",
        "\n",
        "        task.total_transfer_files_size += file_size_bytes\n",
        "\n",
        "        source_type = source_dev.dev_type\n",
        "        dest_type = destination_device.dev_type\n",
        "\n",
        "        # bandwidth_matrix gives us Mb/s. Convert bytes -> megabits\n",
        "        # 1 byte = 8 bits, so:\n",
        "        file_megabits = file_size_bytes * 8 / 1e6\n",
        "\n",
        "        # Look up or fallback\n",
        "        band_mbps = self.bandwidth_matrix.get((source_type, dest_type), 1000.0)\n",
        "\n",
        "        # Transfer time (seconds)\n",
        "        transfer_time = file_megabits / band_mbps\n",
        "\n",
        "        # Optional: add base communication latency\n",
        "        comm_latency = 0.01  # 10 ms, for example\n",
        "        total_delay = comm_latency + transfer_time\n",
        "        self.total_delay += total_delay\n",
        "        task.comm_delay = total_delay\n",
        "\n",
        "        # Wait out the transfer in simulation time\n",
        "        yield self.env.timeout(total_delay)\n",
        "\n",
        "    def get_device_by_id(self, device_id):\n",
        "        for device in self.iot_devices + self.fog_nodes + self.cloud_servers:\n",
        "            if device.id == device_id:\n",
        "                return device\n",
        "        return None\n",
        "\n",
        "    def check_workflow_completion(self, workflow):\n",
        "        # Check if all tasks in the workflow are executed\n",
        "        if all(task.executed for task in workflow.tasks.values()):\n",
        "            self.completed_workflows += 1  # Increment completed workflows counter\n",
        "            # print(f\"Workflow {workflow.id} is completed! Total completed workflows: {self.completed_workflows}\")\n",
        "\n",
        "\n",
        "\n",
        "\n",
        "\n",
        "def process_workflow(env, workflow, fog_env, agent):\n",
        "    # A list to hold all the task processes (concurrent tasks)\n",
        "    processes = []\n",
        "\n",
        "    # Iterate through each task in the workflow\n",
        "    for task in workflow.tasks.values():\n",
        "        if task.executed:\n",
        "            continue\n",
        "\n",
        "        # Check if the task can be executed (all parent tasks are done)\n",
        "        if all([parent.executed for parent in task.parents]) or task.parents == []:\n",
        "            # Choose the action based on the current state (device selection)\n",
        "            action = agent.choose_action()\n",
        "\n",
        "            # Get the list of devices (IoT devices, fog nodes, and cloud servers)\n",
        "            devices = fog_env.iot_devices + fog_env.fog_nodes + fog_env.cloud_servers\n",
        "            device = devices[action]\n",
        "\n",
        "            # Add the task to the device's queue\n",
        "            device.add_task_to_queue(task)\n",
        "            task.executed_on = device.id\n",
        "\n",
        "            # Create a process for the task and add it to the processes list\n",
        "            process = env.process(fog_env.assign_task(task, device))\n",
        "            processes.append(process)  # Track the process\n",
        "\n",
        "    # After all tasks are started, wait for all of them to finish\n",
        "    yield env.all_of(processes)"
      ]
    },
    {
      "cell_type": "markdown",
      "metadata": {
        "id": "Swj5rrsAJZV8"
      },
      "source": [
        "# class NewSim\n",
        "\n"
      ]
    },
    {
      "cell_type": "code",
      "execution_count": 9,
      "metadata": {
        "id": "SB2sfq22JcBF"
      },
      "outputs": [],
      "source": [
        "class  NewSim:\n",
        "    def __init__(self, num_iot, num_fog, num_server, learning_rate=0.001, discount_factor=0.95,\n",
        "                 exploration_rate=1.0, exploration_decay=0.995, exploration_min=0.01, batch_size=64, memory_size=2000, model_path=None):\n",
        "        self.num_iot = num_iot\n",
        "        self.num_fog = num_fog\n",
        "        self.num_server = num_server\n",
        "        self.num_totla_dev = num_iot + num_fog + num_server\n",
        "        self.learning_rate = learning_rate\n",
        "        self.discount_factor = discount_factor\n",
        "        self.exploration_rate = exploration_rate\n",
        "        self.exploration_decay = exploration_decay\n",
        "        self.exploration_min = exploration_min\n",
        "        self.batch_size = batch_size\n",
        "        self.memory_size = memory_size\n",
        "        self.model_path = model_path\n",
        "        self.env = simpy.Environment()\n",
        "        self.reset()\n",
        "        self.run()\n",
        "\n",
        "    def reset(self):\n",
        "        self.iot_devices = [Device(f'iot_{i}', 500, 0, self.env) for i in range(self.num_iot)]\n",
        "        self.fog_devices = [Device(f'fog_{i}', 4000, 1/3600, self.env) for i in range(self.num_fog)]\n",
        "        self.server_devices = [Device(f'server_{i}', 6000, 8/3600, self.env) for i in range(self.num_server)]\n",
        "        self.agent = RandomAgent(action_size=self.num_totla_dev)\n",
        "\n",
        "        self.workflows = ensemble_of_workflows(name = 'CyberShake', size=100, distribution = 'constant', dax_path=\"/content/drive/My Drive/Zahra/dax/\")\n",
        "    def run(self):\n",
        "        self.fog_env = FogEnv(self.env, self.iot_devices, self.fog_devices, self.server_devices,self.workflows)\n",
        "        for workflow in self.workflows:\n",
        "            self.env.process(process_workflow(self.env, workflow, self.fog_env, self.agent))\n",
        "\n",
        "        self.env.run()  # Run simulation for a time period\n"
      ]
    },
    {
      "cell_type": "markdown",
      "metadata": {
        "id": "8m16rQswH07A"
      },
      "source": [
        "# Data Collection\n"
      ]
    },
    {
      "cell_type": "markdown",
      "metadata": {
        "id": "pRiUawjwavRO"
      },
      "source": [
        "## The Config of Workflows"
      ]
    },
    {
      "cell_type": "code",
      "execution_count": 10,
      "metadata": {
        "id": "pi6ASMtxau1Y"
      },
      "outputs": [],
      "source": [
        "# Workflow configurations with specific sizes\n",
        "workflow_configs = {\n",
        "        'CyberShake': [30, 50, 100, 1000],\n",
        "        'Montage': [20, 40, 60, 80, 100, 200, 300],\n",
        "        'Inspiral': [30, 50, 100, 1000],\n",
        "        'Sipht': [29, 58, 100, 968]\n",
        "    }\n",
        "workflow_distributions = ['constant', 'uniform']"
      ]
    },
    {
      "cell_type": "code",
      "execution_count": 11,
      "metadata": {
        "id": "BrXkI2OeLjOO"
      },
      "outputs": [],
      "source": [
        "def run_simulation_with_results_tracking(workflow_name, workflow_size, workflow_distribution, model_path):\n",
        "    learning_rate = 0.001\n",
        "    discount_factor = 0.99\n",
        "    exploration_rate = 0.5\n",
        "    exploration_decay = 0.995\n",
        "    exploration_min = 0.05\n",
        "\n",
        "    dax_path = \"/content/drive/My Drive/Zahra/dax/\"\n",
        "\n",
        "    print(f\"Running simulation for Workflow: {workflow_name}, Size: {workflow_size}, Distribution: {workflow_distribution}\")\n",
        "\n",
        "    # Set up the simulation with the current parameters\n",
        "    simulation = NewSim(\n",
        "        num_iot=10,\n",
        "        num_fog=8,\n",
        "        num_server=5,\n",
        "        learning_rate=learning_rate,\n",
        "        discount_factor=discount_factor,\n",
        "        exploration_rate=exploration_rate,\n",
        "        exploration_decay=exploration_decay,\n",
        "        exploration_min=exploration_min,\n",
        "        model_path = model_path\n",
        "    )\n",
        "\n",
        "    # Update the workflow parameters\n",
        "    simulation.workflows = ensemble_of_workflows(\n",
        "        name=workflow_name,\n",
        "        size=workflow_size,\n",
        "        distribution=workflow_distribution,\n",
        "        dax_path=dax_path\n",
        "    )\n",
        "\n",
        "    # Run the simulation\n",
        "    simulation.run()\n",
        "\n",
        "    # Print results for current run\n",
        "    print(f\"Total cost for Workflow {workflow_name} ({workflow_distribution}, size={workflow_size}): {simulation.fog_env.cost}\")\n",
        "    print(f\"Total time for Workflow {workflow_name} ({workflow_distribution}, size={workflow_size}): {simulation.env.now}\")\n",
        "\n",
        "\n"
      ]
    },
    {
      "cell_type": "markdown",
      "metadata": {
        "id": "lLU8FKZT2elj"
      },
      "source": [
        "# Results"
      ]
    },
    {
      "cell_type": "markdown",
      "metadata": {
        "id": "_XeITaLMw79l"
      },
      "source": [
        "## Cybershake - constant"
      ]
    },
    {
      "cell_type": "code",
      "execution_count": 12,
      "metadata": {
        "colab": {
          "base_uri": "https://localhost:8080/"
        },
        "id": "D6NHXFqyw2Oz",
        "outputId": "0aae6d15-1d96-4d90-868e-72ba4755d8d5"
      },
      "outputs": [
        {
          "output_type": "stream",
          "name": "stdout",
          "text": [
            "Running simulation for Workflow: CyberShake, Size: 10, Distribution: constant\n",
            "Total cost for Workflow CyberShake (constant, size=10): 3806.8654581790306\n",
            "Total time for Workflow CyberShake (constant, size=10): 92050.91999999998\n",
            "Running simulation for Workflow: CyberShake, Size: 20, Distribution: constant\n",
            "Total cost for Workflow CyberShake (constant, size=20): 7409.787323573481\n",
            "Total time for Workflow CyberShake (constant, size=20): 93452.28\n",
            "Running simulation for Workflow: CyberShake, Size: 30, Distribution: constant\n",
            "Total cost for Workflow CyberShake (constant, size=30): 9912.35407851768\n",
            "Total time for Workflow CyberShake (constant, size=30): 99049.68\n",
            "Running simulation for Workflow: CyberShake, Size: 40, Distribution: constant\n",
            "Total cost for Workflow CyberShake (constant, size=40): 12753.845087774323\n",
            "Total time for Workflow CyberShake (constant, size=40): 127187.39999999998\n",
            "Running simulation for Workflow: CyberShake, Size: 50, Distribution: constant\n",
            "Total cost for Workflow CyberShake (constant, size=50): 17227.95468447376\n",
            "Total time for Workflow CyberShake (constant, size=50): 107772.48\n",
            "Running simulation for Workflow: CyberShake, Size: 60, Distribution: constant\n",
            "Total cost for Workflow CyberShake (constant, size=60): 20962.44268688143\n",
            "Total time for Workflow CyberShake (constant, size=60): 125786.04000000001\n",
            "Running simulation for Workflow: CyberShake, Size: 70, Distribution: constant\n",
            "Total cost for Workflow CyberShake (constant, size=70): 23326.35006015688\n",
            "Total time for Workflow CyberShake (constant, size=70): 135856.55999999994\n",
            "Running simulation for Workflow: CyberShake, Size: 80, Distribution: constant\n",
            "Total cost for Workflow CyberShake (constant, size=80): 29020.56137677582\n",
            "Total time for Workflow CyberShake (constant, size=80): 166232.51999999993\n",
            "Running simulation for Workflow: CyberShake, Size: 90, Distribution: constant\n",
            "Total cost for Workflow CyberShake (constant, size=90): 30746.092113683957\n",
            "Total time for Workflow CyberShake (constant, size=90): 151487.8799999999\n",
            "Running simulation for Workflow: CyberShake, Size: 100, Distribution: constant\n",
            "Total cost for Workflow CyberShake (constant, size=100): 33879.84157586446\n",
            "Total time for Workflow CyberShake (constant, size=100): 157805.27999999982\n"
          ]
        }
      ],
      "source": [
        "for i in range(1, 11):\n",
        "  run_simulation_with_results_tracking('CyberShake',10*i, 'constant', None)"
      ]
    },
    {
      "cell_type": "markdown",
      "metadata": {
        "id": "gR0TdNcs1qHQ"
      },
      "source": [
        "## Cybershake - uniform"
      ]
    },
    {
      "cell_type": "code",
      "execution_count": 13,
      "metadata": {
        "colab": {
          "base_uri": "https://localhost:8080/"
        },
        "id": "wDrLPm5E2BMz",
        "outputId": "bfd52d9e-db70-4644-e9f6-cce6d486462a"
      },
      "outputs": [
        {
          "output_type": "stream",
          "name": "stdout",
          "text": [
            "Running simulation for Workflow: CyberShake, Size: 10, Distribution: uniform\n",
            "numbers:  [4 1 1 0 0 4 0 0 1 0]\n",
            "Total cost for Workflow CyberShake (uniform, size=10): 5.008844444444446\n",
            "Total time for Workflow CyberShake (uniform, size=10): 94708.07999999997\n",
            "Running simulation for Workflow: CyberShake, Size: 20, Distribution: uniform\n",
            "numbers:  [4 2 3 4 3 1 3 1 4 2 4 2 1 1 3 1 4 4 0 4]\n",
            "Total cost for Workflow CyberShake (uniform, size=20): 6.880786111111108\n",
            "Total time for Workflow CyberShake (uniform, size=20): 97284.96\n",
            "Running simulation for Workflow: CyberShake, Size: 30, Distribution: uniform\n",
            "numbers:  [1 1 4 4 4 2 1 4 0 4 0 1 1 4 1 4 4 1 2 2 3 1 0 2 4 2 0 3 3 0]\n",
            "Total cost for Workflow CyberShake (uniform, size=30): 9.90524166666666\n",
            "Total time for Workflow CyberShake (uniform, size=30): 133446.23999999996\n",
            "Running simulation for Workflow: CyberShake, Size: 40, Distribution: uniform\n",
            "numbers:  [4 0 3 3 1 2 4 2 1 0 3 2 4 3 1 1 2 2 0 1 3 2 1 4 4 0 0 1 2 0 3 4 0 1 3 0 1\n",
            " 1 4 2]\n",
            "Total cost for Workflow CyberShake (uniform, size=40): 18.410009722222217\n",
            "Total time for Workflow CyberShake (uniform, size=40): 105923.76000000002\n",
            "Running simulation for Workflow: CyberShake, Size: 50, Distribution: uniform\n",
            "numbers:  [0 1 2 3 1 3 1 4 0 4 0 4 3 2 2 1 4 1 4 4 3 2 1 4 3 3 0 4 4 0 0 3 3 4 4 4 0\n",
            " 1 4 2 2 1 0 0 0 4 4 3 2 4]\n",
            "Total cost for Workflow CyberShake (uniform, size=50): 20.504031944444456\n",
            "Total time for Workflow CyberShake (uniform, size=50): 106496.39999999998\n",
            "Running simulation for Workflow: CyberShake, Size: 60, Distribution: uniform\n",
            "numbers:  [0 4 2 1 0 4 0 4 0 3 4 3 0 2 0 1 1 2 4 0 2 0 4 2 2 0 3 3 3 1 3 1 2 0 0 4 4\n",
            " 3 3 2 4 2 3 0 4 1 3 3 0 3 1 4 2 2 1 1 2 1 3 1]\n",
            "Total cost for Workflow CyberShake (uniform, size=60): 30.00232638888891\n",
            "Total time for Workflow CyberShake (uniform, size=60): 119850.23999999998\n",
            "Running simulation for Workflow: CyberShake, Size: 70, Distribution: uniform\n",
            "numbers:  [2 1 2 1 0 1 0 2 1 2 4 3 1 0 1 4 4 2 4 3 3 2 1 4 3 4 0 4 4 3 0 1 0 0 2 4 1\n",
            " 3 2 2 2 3 3 1 2 4 4 1 0 3 1 3 2 2 0 1 2 0 1 4 2 3 0 1 3 1 0 1 4 2]\n",
            "Total cost for Workflow CyberShake (uniform, size=70): 28.37393333333334\n",
            "Total time for Workflow CyberShake (uniform, size=70): 108353.15999999999\n",
            "Running simulation for Workflow: CyberShake, Size: 80, Distribution: uniform\n",
            "numbers:  [3 3 0 1 4 4 0 4 3 2 0 2 3 4 1 2 1 2 0 4 0 4 1 0 0 3 4 3 0 3 3 2 4 4 3 0 1\n",
            " 4 0 0 2 3 0 3 0 0 2 2 0 1 1 0 2 4 3 2 4 3 2 1 2 3 3 2 0 3 0 1 4 2 0 4 1 1\n",
            " 3 0 0 4 2 1]\n",
            "Total cost for Workflow CyberShake (uniform, size=80): 40.98620972222227\n",
            "Total time for Workflow CyberShake (uniform, size=80): 125967.12\n",
            "Running simulation for Workflow: CyberShake, Size: 90, Distribution: uniform\n",
            "numbers:  [0 0 2 2 2 3 3 3 3 0 1 0 1 0 4 0 2 4 0 2 3 3 4 1 3 0 2 1 1 4 3 1 1 3 1 1 4\n",
            " 3 3 3 0 4 2 3 1 4 2 1 4 1 3 4 0 4 0 4 4 1 0 0 1 4 2 4 1 0 3 4 0 2 2 0 2 4\n",
            " 0 4 1 0 0 4 4 3 1 4 1 0 3 4 4 2]\n",
            "Total cost for Workflow CyberShake (uniform, size=90): 48.699026388888946\n",
            "Total time for Workflow CyberShake (uniform, size=90): 135324.95999999996\n",
            "Running simulation for Workflow: CyberShake, Size: 100, Distribution: uniform\n",
            "numbers:  [0 3 0 1 4 3 3 1 0 2 0 2 2 2 4 0 4 1 1 3 1 1 1 3 0 4 4 3 1 1 0 1 3 3 4 3 2\n",
            " 2 0 0 0 2 1 4 3 2 1 3 4 2 0 1 1 4 1 3 2 1 4 4 0 4 1 0 4 3 1 3 0 3 1 4 0 2\n",
            " 1 3 3 0 0 3 1 0 1 3 4 2 4 3 3 2 4 1 3 0 3 2 1 3 2 4]\n",
            "Total cost for Workflow CyberShake (uniform, size=100): 53.150779166666744\n",
            "Total time for Workflow CyberShake (uniform, size=100): 127182.12\n"
          ]
        }
      ],
      "source": [
        "for i in range(1, 11):\n",
        "  run_simulation_with_results_tracking('CyberShake',10*i, 'uniform', '/content/drive/My Drive/Zahra/Models/model_CyberShake_constant_10_cost.keras' )"
      ]
    },
    {
      "cell_type": "markdown",
      "metadata": {
        "id": "xmy3_T952Yuk"
      },
      "source": [
        "## Montage - constant"
      ]
    },
    {
      "cell_type": "code",
      "execution_count": 14,
      "metadata": {
        "colab": {
          "base_uri": "https://localhost:8080/"
        },
        "id": "h1i-P0kL2pjV",
        "outputId": "38ea3a9a-0018-4ba1-fe64-9f36943e0063"
      },
      "outputs": [
        {
          "output_type": "stream",
          "name": "stdout",
          "text": [
            "Running simulation for Workflow: Montage, Size: 10, Distribution: constant\n",
            "Total cost for Workflow Montage (constant, size=10): 0.5515439814814813\n",
            "Total time for Workflow Montage (constant, size=10): 37896.05000000001\n",
            "Running simulation for Workflow: Montage, Size: 20, Distribution: constant\n",
            "Total cost for Workflow Montage (constant, size=20): 1.1534033564814807\n",
            "Total time for Workflow Montage (constant, size=20): 32774.50000000001\n",
            "Running simulation for Workflow: Montage, Size: 30, Distribution: constant\n",
            "Total cost for Workflow Montage (constant, size=30): 1.758181134259257\n",
            "Total time for Workflow Montage (constant, size=30): 31384.20000000001\n",
            "Running simulation for Workflow: Montage, Size: 40, Distribution: constant\n",
            "Total cost for Workflow Montage (constant, size=40): 2.171079282407406\n",
            "Total time for Workflow Montage (constant, size=40): 37526.09999999999\n",
            "Running simulation for Workflow: Montage, Size: 50, Distribution: constant\n",
            "Total cost for Workflow Montage (constant, size=50): 2.5334380787037047\n",
            "Total time for Workflow Montage (constant, size=50): 41644.85\n",
            "Running simulation for Workflow: Montage, Size: 60, Distribution: constant\n",
            "Total cost for Workflow Montage (constant, size=60): 3.246486111111107\n",
            "Total time for Workflow Montage (constant, size=60): 39982.19999999999\n",
            "Running simulation for Workflow: Montage, Size: 70, Distribution: constant\n",
            "Total cost for Workflow Montage (constant, size=70): 4.1966550925925885\n",
            "Total time for Workflow Montage (constant, size=70): 37535.90000000002\n",
            "Running simulation for Workflow: Montage, Size: 80, Distribution: constant\n",
            "Total cost for Workflow Montage (constant, size=80): 4.368869212962966\n",
            "Total time for Workflow Montage (constant, size=80): 36780.79999999998\n",
            "Running simulation for Workflow: Montage, Size: 90, Distribution: constant\n",
            "Total cost for Workflow Montage (constant, size=90): 4.981032986111117\n",
            "Total time for Workflow Montage (constant, size=90): 37829.399999999994\n",
            "Running simulation for Workflow: Montage, Size: 100, Distribution: constant\n",
            "Total cost for Workflow Montage (constant, size=100): 5.396901041666679\n",
            "Total time for Workflow Montage (constant, size=100): 41690.6\n"
          ]
        }
      ],
      "source": [
        "for i in range(1, 11):\n",
        "  run_simulation_with_results_tracking('Montage',10*i, 'constant', '/content/drive/My Drive/Zahra/Models/model_CyberShake_constant_10_cost.keras' )"
      ]
    },
    {
      "cell_type": "markdown",
      "metadata": {
        "id": "Lpvpbfmr2_9M"
      },
      "source": [
        "## Montage - uniform"
      ]
    },
    {
      "cell_type": "code",
      "execution_count": 15,
      "metadata": {
        "colab": {
          "base_uri": "https://localhost:8080/"
        },
        "id": "5j7GJQun3GTh",
        "outputId": "6be34b6e-e2c4-4b18-f07f-c59c2777e6e7"
      },
      "outputs": [
        {
          "output_type": "stream",
          "name": "stdout",
          "text": [
            "Running simulation for Workflow: Montage, Size: 10, Distribution: uniform\n",
            "numbers:  [1 2 4 5 2 3 2 4 4 4]\n",
            "Total cost for Workflow Montage (uniform, size=10): 0.44982118055555553\n",
            "Total time for Workflow Montage (uniform, size=10): 35943.4\n",
            "Running simulation for Workflow: Montage, Size: 20, Distribution: uniform\n",
            "numbers:  [1 3 0 0 1 5 5 5 3 4 4 5 2 3 0 4 5 0 0 5]\n",
            "Total cost for Workflow Montage (uniform, size=20): 1.487943287037036\n",
            "Total time for Workflow Montage (uniform, size=20): 34592.65000000001\n",
            "Running simulation for Workflow: Montage, Size: 30, Distribution: uniform\n",
            "numbers:  [1 3 0 5 4 4 3 5 6 3 5 4 6 1 5 2 0 0 6 4 4 5 5 1 5 6 3 3 5 5]\n",
            "Total cost for Workflow Montage (uniform, size=30): 2.0113449074074063\n",
            "Total time for Workflow Montage (uniform, size=30): 40212.95\n",
            "Running simulation for Workflow: Montage, Size: 40, Distribution: uniform\n",
            "numbers:  [2 6 2 4 5 3 2 6 0 1 5 2 3 2 4 6 1 4 5 2 3 0 4 2 6 1 6 2 2 1 6 3 2 6 1 0 4\n",
            " 2 6 6]\n",
            "Total cost for Workflow Montage (uniform, size=40): 1.9590596064814811\n",
            "Total time for Workflow Montage (uniform, size=40): 31131.000000000007\n",
            "Running simulation for Workflow: Montage, Size: 50, Distribution: uniform\n",
            "numbers:  [4 2 1 3 3 0 2 1 2 0 3 3 5 0 3 4 5 1 2 0 5 3 6 0 0 1 5 3 0 5 3 2 1 2 4 1 0\n",
            " 1 0 1 5 2 0 6 5 5 0 2 2 1]\n",
            "Total cost for Workflow Montage (uniform, size=50): 3.5666302083333306\n",
            "Total time for Workflow Montage (uniform, size=50): 32380.5\n",
            "Running simulation for Workflow: Montage, Size: 60, Distribution: uniform\n",
            "numbers:  [4 1 2 3 4 5 1 4 0 4 6 2 2 3 5 3 1 3 4 2 0 1 6 3 3 4 0 0 3 6 3 1 2 5 0 5 4\n",
            " 4 0 4 6 2 2 5 6 0 1 5 0 4 6 6 3 6 6 3 1 0 3 0]\n",
            "Total cost for Workflow Montage (uniform, size=60): 4.290891203703702\n",
            "Total time for Workflow Montage (uniform, size=60): 39683.950000000026\n",
            "Running simulation for Workflow: Montage, Size: 70, Distribution: uniform\n",
            "numbers:  [6 3 4 1 0 1 4 4 5 1 2 2 4 0 0 3 5 1 1 4 4 1 6 1 0 6 3 2 4 3 6 3 0 2 3 3 4\n",
            " 6 3 2 2 3 6 1 0 0 6 0 1 5 3 2 4 2 1 2 5 0 3 6 5 6 0 0 0 4 5 4 3 2]\n",
            "Total cost for Workflow Montage (uniform, size=70): 4.942191550925919\n",
            "Total time for Workflow Montage (uniform, size=70): 38486.14999999999\n",
            "Running simulation for Workflow: Montage, Size: 80, Distribution: uniform\n",
            "numbers:  [1 2 0 3 2 3 1 6 6 4 0 4 5 1 5 4 3 4 2 5 1 0 5 5 5 4 4 0 4 4 0 0 3 2 6 6 6\n",
            " 5 5 2 0 1 4 4 6 1 6 1 5 2 0 4 3 2 4 6 1 5 5 3 1 2 5 5 1 0 1 6 0 6 0 4 6 6\n",
            " 5 2 1 5 1 1]\n",
            "Total cost for Workflow Montage (uniform, size=80): 4.431620370370364\n",
            "Total time for Workflow Montage (uniform, size=80): 38988.85000000005\n",
            "Running simulation for Workflow: Montage, Size: 90, Distribution: uniform\n",
            "numbers:  [0 6 5 4 0 2 6 0 1 0 3 5 5 1 1 2 0 3 4 2 4 4 1 0 6 5 3 5 6 4 6 1 6 2 6 1 3\n",
            " 6 4 4 5 0 3 2 3 0 3 0 0 6 6 3 4 2 3 0 4 0 1 4 5 6 5 3 6 5 1 0 6 1 4 0 5 0\n",
            " 1 4 5 6 1 4 2 3 0 0 4 5 1 0 6 5]\n",
            "Total cost for Workflow Montage (uniform, size=90): 6.155800347222217\n",
            "Total time for Workflow Montage (uniform, size=90): 41636.65000000001\n",
            "Running simulation for Workflow: Montage, Size: 100, Distribution: uniform\n",
            "numbers:  [5 3 0 1 2 1 4 3 6 0 3 3 4 4 4 4 0 5 1 1 6 4 1 3 0 2 2 2 4 4 6 1 0 1 3 0 0\n",
            " 2 0 2 1 3 0 2 1 5 3 1 0 5 1 1 6 1 3 1 1 4 2 3 2 4 3 5 5 1 4 3 1 6 1 4 5 6\n",
            " 3 5 3 4 2 2 1 2 5 1 2 5 4 4 6 2 6 2 5 6 1 5 4 3 1 0]\n",
            "Total cost for Workflow Montage (uniform, size=100): 6.560211226851851\n",
            "Total time for Workflow Montage (uniform, size=100): 50088.80000000006\n"
          ]
        }
      ],
      "source": [
        "for i in range(1, 11):\n",
        "  run_simulation_with_results_tracking('Montage',10*i, 'uniform', '/content/drive/My Drive/Zahra/Models/model_CyberShake_constant_10_cost.keras' )"
      ]
    },
    {
      "cell_type": "markdown",
      "metadata": {
        "id": "WWpstixI3WNq"
      },
      "source": [
        "## Sipht - constant"
      ]
    },
    {
      "cell_type": "code",
      "execution_count": 16,
      "metadata": {
        "colab": {
          "base_uri": "https://localhost:8080/"
        },
        "id": "AngfK6hh3bOO",
        "outputId": "f525ce40-e498-49a8-dee4-35ce1c78b554"
      },
      "outputs": [
        {
          "output_type": "stream",
          "name": "stdout",
          "text": [
            "Running simulation for Workflow: Sipht, Size: 10, Distribution: constant\n",
            "Total cost for Workflow Sipht (constant, size=10): 29.03078962962963\n",
            "Total time for Workflow Sipht (constant, size=10): 89625.14300000003\n",
            "Running simulation for Workflow: Sipht, Size: 20, Distribution: constant\n",
            "Total cost for Workflow Sipht (constant, size=20): 49.00224351273149\n",
            "Total time for Workflow Sipht (constant, size=20): 119631.165\n",
            "Running simulation for Workflow: Sipht, Size: 30, Distribution: constant\n",
            "Total cost for Workflow Sipht (constant, size=30): 100.40589425925913\n",
            "Total time for Workflow Sipht (constant, size=30): 144400.37949999995\n",
            "Running simulation for Workflow: Sipht, Size: 40, Distribution: constant\n",
            "Total cost for Workflow Sipht (constant, size=40): 114.07903520254608\n",
            "Total time for Workflow Sipht (constant, size=40): 181971.603\n",
            "Running simulation for Workflow: Sipht, Size: 50, Distribution: constant\n",
            "Total cost for Workflow Sipht (constant, size=50): 163.2367086805563\n",
            "Total time for Workflow Sipht (constant, size=50): 244071.30149999983\n",
            "Running simulation for Workflow: Sipht, Size: 60, Distribution: constant\n",
            "Total cost for Workflow Sipht (constant, size=60): 173.73354977430657\n",
            "Total time for Workflow Sipht (constant, size=60): 268686.7144999997\n",
            "Running simulation for Workflow: Sipht, Size: 70, Distribution: constant\n",
            "Total cost for Workflow Sipht (constant, size=70): 224.92161442129762\n",
            "Total time for Workflow Sipht (constant, size=70): 339168.08799999976\n",
            "Running simulation for Workflow: Sipht, Size: 80, Distribution: constant\n",
            "Total cost for Workflow Sipht (constant, size=80): 280.73734910301135\n",
            "Total time for Workflow Sipht (constant, size=80): 268537.8164999998\n",
            "Running simulation for Workflow: Sipht, Size: 90, Distribution: constant\n",
            "Total cost for Workflow Sipht (constant, size=90): 279.89158137152947\n",
            "Total time for Workflow Sipht (constant, size=90): 324364.14899999986\n",
            "Running simulation for Workflow: Sipht, Size: 100, Distribution: constant\n",
            "Total cost for Workflow Sipht (constant, size=100): 312.86252440972555\n",
            "Total time for Workflow Sipht (constant, size=100): 374331.2109999998\n"
          ]
        }
      ],
      "source": [
        "for i in range(1, 11):\n",
        "  run_simulation_with_results_tracking('Sipht',10*i, 'constant', '/content/drive/My Drive/Zahra/Models/model_CyberShake_constant_10_cost.keras' )"
      ]
    },
    {
      "cell_type": "markdown",
      "metadata": {
        "id": "D81dg-wV3rJ3"
      },
      "source": [
        "## Sipht - uniform"
      ]
    },
    {
      "cell_type": "code",
      "execution_count": 17,
      "metadata": {
        "colab": {
          "base_uri": "https://localhost:8080/"
        },
        "id": "77roJqmI3vhj",
        "outputId": "1ac8af04-c6bb-4b4d-d941-15c80dc47174"
      },
      "outputs": [
        {
          "output_type": "stream",
          "name": "stdout",
          "text": [
            "Running simulation for Workflow: Sipht, Size: 10, Distribution: uniform\n",
            "numbers:  [3 2 0 4 4 2 1 4 4 2]\n",
            "Total cost for Workflow Sipht (uniform, size=10): 32.536439421296244\n",
            "Total time for Workflow Sipht (uniform, size=10): 114426.22650000005\n",
            "Running simulation for Workflow: Sipht, Size: 20, Distribution: uniform\n",
            "numbers:  [1 3 1 2 0 4 4 0 1 3 1 0 1 3 1 1 2 0 2 2]\n",
            "Total cost for Workflow Sipht (uniform, size=20): 204.0661905150465\n",
            "Total time for Workflow Sipht (uniform, size=20): 311190.19350000005\n",
            "Running simulation for Workflow: Sipht, Size: 30, Distribution: uniform\n",
            "numbers:  [1 2 1 1 0 2 1 2 0 2 0 3 2 1 4 3 3 2 2 4 4 1 0 2 3 2 1 2 1 1]\n",
            "Total cost for Workflow Sipht (uniform, size=30): 278.8958567129623\n",
            "Total time for Workflow Sipht (uniform, size=30): 442360.48349999945\n",
            "Running simulation for Workflow: Sipht, Size: 40, Distribution: uniform\n",
            "numbers:  [1 1 1 4 3 3 0 2 3 4 2 4 4 3 4 1 2 4 4 1 2 4 2 3 4 2 1 1 0 3 3 1 2 1 1 3 3\n",
            " 0 0 0]\n",
            "Total cost for Workflow Sipht (uniform, size=40): 381.20169671875\n",
            "Total time for Workflow Sipht (uniform, size=40): 369524.5404999999\n",
            "Running simulation for Workflow: Sipht, Size: 50, Distribution: uniform\n",
            "numbers:  [1 1 0 0 2 4 1 2 1 1 4 4 2 1 0 0 3 0 1 1 3 0 0 2 0 3 3 2 4 0 4 1 2 2 0 1 1\n",
            " 3 0 4 4 4 1 4 3 2 3 3 4 0]\n",
            "Total cost for Workflow Sipht (uniform, size=50): 444.34384002893466\n",
            "Total time for Workflow Sipht (uniform, size=50): 450517.7524999994\n",
            "Running simulation for Workflow: Sipht, Size: 60, Distribution: uniform\n",
            "numbers:  [0 1 2 0 1 3 3 3 3 3 3 1 3 3 1 4 0 0 1 4 4 2 0 4 4 2 1 4 4 1 0 1 2 0 2 0 2\n",
            " 1 4 2 1 0 2 3 3 1 0 1 2 3 2 0 3 3 0 1 2 2 3 0]\n",
            "Total cost for Workflow Sipht (uniform, size=60): 448.9615324884245\n",
            "Total time for Workflow Sipht (uniform, size=60): 520919.24749999936\n",
            "Running simulation for Workflow: Sipht, Size: 70, Distribution: uniform\n",
            "numbers:  [2 0 4 3 1 4 1 3 4 2 0 4 4 2 1 4 1 1 4 3 2 4 2 3 1 0 2 1 2 2 2 3 3 3 0 0 0\n",
            " 0 2 0 4 3 4 4 0 3 4 2 4 1 4 2 4 1 2 4 4 4 3 4 2 2 4 1 1 3 1 2 1 4]\n",
            "Total cost for Workflow Sipht (uniform, size=70): 429.88328515046214\n",
            "Total time for Workflow Sipht (uniform, size=70): 589438.3364999997\n",
            "Running simulation for Workflow: Sipht, Size: 80, Distribution: uniform\n",
            "numbers:  [0 4 0 2 3 2 1 2 4 3 0 1 3 3 0 3 4 3 0 1 2 0 0 4 2 4 1 0 2 1 4 4 1 0 4 0 0\n",
            " 0 3 3 0 2 1 2 1 0 0 4 2 4 4 0 4 3 4 2 3 2 4 4 4 2 1 4 3 3 4 0 4 4 3 1 0 3\n",
            " 0 4 4 0 4 3]\n",
            "Total cost for Workflow Sipht (uniform, size=80): 417.108683148147\n",
            "Total time for Workflow Sipht (uniform, size=80): 476329.07450000016\n",
            "Running simulation for Workflow: Sipht, Size: 90, Distribution: uniform\n",
            "numbers:  [2 0 1 2 2 3 1 4 4 4 2 0 3 2 0 0 1 3 0 1 2 3 4 2 4 4 3 2 0 2 1 1 0 1 4 4 0\n",
            " 4 3 0 2 4 3 0 4 3 1 3 0 3 0 3 3 3 1 3 3 2 4 3 2 2 2 3 2 1 4 4 0 4 3 3 0 1\n",
            " 0 1 0 0 4 3 3 0 3 4 2 3 0 3 2 4]\n",
            "Total cost for Workflow Sipht (uniform, size=90): 525.6994542071757\n",
            "Total time for Workflow Sipht (uniform, size=90): 506083.4564999998\n",
            "Running simulation for Workflow: Sipht, Size: 100, Distribution: uniform\n",
            "numbers:  [2 2 4 1 1 4 0 1 1 1 4 0 1 3 2 2 4 4 3 1 2 4 1 1 1 4 3 3 2 4 3 3 4 4 4 4 0\n",
            " 1 2 0 2 0 1 0 0 1 0 2 3 4 3 2 4 0 0 4 4 3 2 3 1 1 0 1 3 0 4 3 2 3 0 3 2 0\n",
            " 4 2 0 2 4 3 3 3 2 0 0 1 1 2 0 1 0 0 2 4 2 3 4 1 2 2]\n",
            "Total cost for Workflow Sipht (uniform, size=100): 730.6323106365749\n",
            "Total time for Workflow Sipht (uniform, size=100): 748018.8554999984\n"
          ]
        }
      ],
      "source": [
        "for i in range(1, 11):\n",
        "  run_simulation_with_results_tracking('Sipht',10*i, 'uniform', '/content/drive/My Drive/Zahra/Models/model_CyberShake_constant_10_cost.keras' )"
      ]
    },
    {
      "cell_type": "markdown",
      "metadata": {
        "id": "8h-h3V5w4NXP"
      },
      "source": [
        "## Inspiral - constant"
      ]
    },
    {
      "cell_type": "code",
      "execution_count": 18,
      "metadata": {
        "colab": {
          "base_uri": "https://localhost:8080/"
        },
        "id": "dr-AgY2X4Vh8",
        "outputId": "94bc6b93-8f41-4c32-db8d-ea6e04e8d9d8"
      },
      "outputs": [
        {
          "output_type": "stream",
          "name": "stdout",
          "text": [
            "Running simulation for Workflow: Inspiral, Size: 10, Distribution: constant\n",
            "Total cost for Workflow Inspiral (constant, size=10): 1.0642164351851848\n",
            "Total time for Workflow Inspiral (constant, size=10): 41805.50000000003\n",
            "Running simulation for Workflow: Inspiral, Size: 20, Distribution: constant\n",
            "Total cost for Workflow Inspiral (constant, size=20): 2.22850636574074\n",
            "Total time for Workflow Inspiral (constant, size=20): 33199.799999999996\n",
            "Running simulation for Workflow: Inspiral, Size: 30, Distribution: constant\n",
            "Total cost for Workflow Inspiral (constant, size=30): 2.915919560185185\n",
            "Total time for Workflow Inspiral (constant, size=30): 38887.05\n",
            "Running simulation for Workflow: Inspiral, Size: 40, Distribution: constant\n",
            "Total cost for Workflow Inspiral (constant, size=40): 4.4440034722222235\n",
            "Total time for Workflow Inspiral (constant, size=40): 37217.0\n",
            "Running simulation for Workflow: Inspiral, Size: 50, Distribution: constant\n",
            "Total cost for Workflow Inspiral (constant, size=50): 5.636765625000018\n",
            "Total time for Workflow Inspiral (constant, size=50): 36998.549999999996\n",
            "Running simulation for Workflow: Inspiral, Size: 60, Distribution: constant\n",
            "Total cost for Workflow Inspiral (constant, size=60): 6.0992083333333555\n",
            "Total time for Workflow Inspiral (constant, size=60): 43826.700000000026\n",
            "Running simulation for Workflow: Inspiral, Size: 70, Distribution: constant\n",
            "Total cost for Workflow Inspiral (constant, size=70): 7.948853587962986\n",
            "Total time for Workflow Inspiral (constant, size=70): 43319.35\n",
            "Running simulation for Workflow: Inspiral, Size: 80, Distribution: constant\n",
            "Total cost for Workflow Inspiral (constant, size=80): 8.725373842592587\n",
            "Total time for Workflow Inspiral (constant, size=80): 42939.20000000004\n",
            "Running simulation for Workflow: Inspiral, Size: 90, Distribution: constant\n",
            "Total cost for Workflow Inspiral (constant, size=90): 9.877020254629603\n",
            "Total time for Workflow Inspiral (constant, size=90): 42318.75000000004\n",
            "Running simulation for Workflow: Inspiral, Size: 100, Distribution: constant\n",
            "Total cost for Workflow Inspiral (constant, size=100): 10.978577546296231\n",
            "Total time for Workflow Inspiral (constant, size=100): 41707.5\n"
          ]
        }
      ],
      "source": [
        "for i in range(1, 11):\n",
        "  run_simulation_with_results_tracking('Inspiral',10*i, 'constant', '/content/drive/My Drive/Zahra/Models/model_CyberShake_constant_10_cost.keras' )"
      ]
    },
    {
      "cell_type": "markdown",
      "metadata": {
        "id": "YHOfdObx4fIx"
      },
      "source": [
        "## Inspiral - uniform"
      ]
    },
    {
      "cell_type": "code",
      "execution_count": 19,
      "metadata": {
        "colab": {
          "base_uri": "https://localhost:8080/"
        },
        "id": "70ubjjbz4kR7",
        "outputId": "8471f18a-207e-4548-f3d6-2af661812654"
      },
      "outputs": [
        {
          "output_type": "stream",
          "name": "stdout",
          "text": [
            "Running simulation for Workflow: Inspiral, Size: 10, Distribution: uniform\n",
            "numbers:  [3 0 0 2 1 0 1 3 0 2]\n",
            "Total cost for Workflow Inspiral (uniform, size=10): 4.8837957175926014\n",
            "Total time for Workflow Inspiral (uniform, size=10): 43053.00000000002\n",
            "Running simulation for Workflow: Inspiral, Size: 20, Distribution: uniform\n",
            "numbers:  [0 3 2 2 2 0 0 3 0 3 2 1 1 2 2 3 2 2 1 0]\n",
            "Total cost for Workflow Inspiral (uniform, size=20): 6.759793402777787\n",
            "Total time for Workflow Inspiral (uniform, size=20): 35788.9\n",
            "Running simulation for Workflow: Inspiral, Size: 30, Distribution: uniform\n",
            "numbers:  [1 2 3 3 1 1 3 2 0 0 2 3 0 1 1 3 2 1 2 3 3 0 0 2 1 0 0 2 0 2]\n",
            "Total cost for Workflow Inspiral (uniform, size=30): 9.940844328703697\n",
            "Total time for Workflow Inspiral (uniform, size=30): 40004.55000000001\n",
            "Running simulation for Workflow: Inspiral, Size: 40, Distribution: uniform\n",
            "numbers:  [0 2 0 3 2 3 1 1 1 2 1 2 2 1 3 3 3 0 3 0 1 1 2 3 0 3 1 1 2 3 3 1 1 3 3 3 2\n",
            " 1 0 1]\n",
            "Total cost for Workflow Inspiral (uniform, size=40): 8.655255787037014\n",
            "Total time for Workflow Inspiral (uniform, size=40): 42134.64999999999\n",
            "Running simulation for Workflow: Inspiral, Size: 50, Distribution: uniform\n",
            "numbers:  [3 0 1 1 1 0 1 1 0 1 1 1 2 3 3 0 2 0 1 2 0 2 1 3 0 2 1 2 3 3 0 0 1 0 3 3 1\n",
            " 0 0 3 2 3 3 3 0 1 2 1 0 3]\n",
            "Total cost for Workflow Inspiral (uniform, size=50): 17.22162731481479\n",
            "Total time for Workflow Inspiral (uniform, size=50): 49949.15000000003\n",
            "Running simulation for Workflow: Inspiral, Size: 60, Distribution: uniform\n",
            "numbers:  [3 2 2 0 3 2 3 2 2 1 3 3 3 0 1 2 1 1 2 3 2 0 2 2 0 2 3 3 1 1 3 3 3 2 3 2 0\n",
            " 3 1 0 1 1 1 0 0 3 2 0 1 2 3 2 2 0 2 0 1 0 2 1]\n",
            "Total cost for Workflow Inspiral (uniform, size=60): 16.98626620370368\n",
            "Total time for Workflow Inspiral (uniform, size=60): 48635.35000000004\n",
            "Running simulation for Workflow: Inspiral, Size: 70, Distribution: uniform\n",
            "numbers:  [0 1 2 2 3 0 2 1 0 2 3 2 3 1 0 0 3 1 3 0 1 1 3 2 0 0 2 1 2 3 3 3 3 2 1 0 1\n",
            " 0 2 1 2 2 1 3 0 0 2 1 0 3 2 0 1 0 3 2 1 3 0 1 1 0 2 1 0 3 1 0 1 0]\n",
            "Total cost for Workflow Inspiral (uniform, size=70): 24.97336689814811\n",
            "Total time for Workflow Inspiral (uniform, size=70): 62109.65000000003\n",
            "Running simulation for Workflow: Inspiral, Size: 80, Distribution: uniform\n",
            "numbers:  [3 0 2 0 1 0 0 3 0 1 3 0 3 3 2 2 1 0 2 2 2 2 2 3 3 1 3 2 1 1 3 3 1 1 2 0 0\n",
            " 1 1 0 3 0 3 1 0 3 0 0 3 3 3 2 3 2 2 0 0 3 1 0 0 2 1 1 0 0 1 3 1 3 3 2 1 2\n",
            " 3 0 3 3 3 2]\n",
            "Total cost for Workflow Inspiral (uniform, size=80): 26.40923842592582\n",
            "Total time for Workflow Inspiral (uniform, size=80): 57815.85000000003\n",
            "Running simulation for Workflow: Inspiral, Size: 90, Distribution: uniform\n",
            "numbers:  [1 3 1 2 3 1 1 1 1 0 1 1 0 2 0 2 1 2 1 2 1 0 2 3 1 0 2 1 0 1 1 2 3 3 0 2 1\n",
            " 3 1 1 2 1 1 1 0 3 1 2 3 0 1 3 1 3 0 1 1 2 1 1 3 3 1 3 1 3 2 0 2 0 3 1 1 1\n",
            " 0 3 0 3 0 2 3 1 0 1 0 3 2 1 0 1]\n",
            "Total cost for Workflow Inspiral (uniform, size=90): 24.39923900462958\n",
            "Total time for Workflow Inspiral (uniform, size=90): 57936.35000000001\n",
            "Running simulation for Workflow: Inspiral, Size: 100, Distribution: uniform\n",
            "numbers:  [2 0 0 3 3 1 0 3 2 3 3 3 2 1 0 3 1 3 1 3 0 3 2 3 3 3 3 2 3 3 3 3 1 3 3 2 3\n",
            " 1 0 1 3 1 3 1 0 1 0 2 1 3 3 3 2 2 2 1 3 3 2 1 0 0 3 2 1 3 2 2 1 3 3 2 0 3\n",
            " 1 1 2 2 0 0 1 0 0 2 0 1 2 0 1 1 0 1 0 1 3 1 0 0 0 1]\n",
            "Total cost for Workflow Inspiral (uniform, size=100): 28.72696180555542\n",
            "Total time for Workflow Inspiral (uniform, size=100): 57139.69999999999\n"
          ]
        }
      ],
      "source": [
        "for i in range(1, 11):\n",
        "  run_simulation_with_results_tracking('Inspiral',10*i, 'uniform', '/content/drive/My Drive/Zahra/Models/model_CyberShake_constant_10_cost.keras' )"
      ]
    }
  ],
  "metadata": {
    "colab": {
      "provenance": [],
      "include_colab_link": true
    },
    "kernelspec": {
      "display_name": "Python 3",
      "name": "python3"
    },
    "language_info": {
      "name": "python"
    }
  },
  "nbformat": 4,
  "nbformat_minor": 0
}