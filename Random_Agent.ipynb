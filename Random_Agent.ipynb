{
  "cells": [
    {
      "cell_type": "markdown",
      "metadata": {
        "id": "view-in-github",
        "colab_type": "text"
      },
      "source": [
        "<a href=\"https://colab.research.google.com/github/Zahra-FallahMMA/DRL_Offload_Allocation/blob/main/Random_Agent.ipynb\" target=\"_parent\"><img src=\"https://colab.research.google.com/assets/colab-badge.svg\" alt=\"Open In Colab\"/></a>"
      ]
    },
    {
      "cell_type": "markdown",
      "metadata": {
        "id": "PcuUUZU1G5k4"
      },
      "source": [
        "# import Libraries"
      ]
    },
    {
      "cell_type": "code",
      "execution_count": null,
      "metadata": {
        "colab": {
          "base_uri": "https://localhost:8080/"
        },
        "id": "LIP4GlsbGwAx",
        "outputId": "84a3b7fd-1426-478c-b68f-b0cf47f5d8fe"
      },
      "outputs": [
        {
          "output_type": "stream",
          "name": "stdout",
          "text": [
            "Collecting simpy\n",
            "  Downloading simpy-4.1.1-py3-none-any.whl.metadata (6.1 kB)\n",
            "Downloading simpy-4.1.1-py3-none-any.whl (27 kB)\n",
            "Installing collected packages: simpy\n",
            "Successfully installed simpy-4.1.1\n"
          ]
        }
      ],
      "source": [
        "import xml.etree.ElementTree as ET\n",
        "from io import StringIO\n",
        "import os\n",
        "import re\n",
        "import numpy as np\n",
        "from collections import deque, defaultdict\n",
        "import random\n",
        "from keras.models import Sequential\n",
        "from keras.layers import Dense, Dropout\n",
        "from keras.optimizers import Adam\n",
        "from keras.models import load_model\n",
        "from itertools import product\n",
        "import tensorflow as tf\n",
        "!pip install simpy\n",
        "import simpy\n",
        "\n",
        "# Set TensorFlow logging level to suppress detailed logs\n",
        "os.environ['TF_CPP_MIN_LOG_LEVEL'] = '3'\n",
        "tf.get_logger().setLevel('ERROR')"
      ]
    },
    {
      "cell_type": "markdown",
      "metadata": {
        "id": "lCfIwrJDHK33"
      },
      "source": [
        "# Class Random Agent"
      ]
    },
    {
      "cell_type": "code",
      "execution_count": null,
      "metadata": {
        "id": "qreTNfv_HP9X"
      },
      "outputs": [],
      "source": [
        "class RandomAgent:\n",
        "\n",
        "   def __init__(self, action_size):\n",
        "      self.action_size = action_size\n",
        "\n",
        "   def choose_action(self):\n",
        "        return random.randrange(self.action_size)"
      ]
    },
    {
      "cell_type": "markdown",
      "metadata": {
        "id": "sc5cwMB6HUAZ"
      },
      "source": [
        "# class Task"
      ]
    },
    {
      "cell_type": "code",
      "execution_count": null,
      "metadata": {
        "id": "dWqg63i_HW5y"
      },
      "outputs": [],
      "source": [
        "class Task:\n",
        "    def __init__(self, id, instructions, workflow_id):\n",
        "        self.id = id\n",
        "        self.instructions = instructions  # Execution time or computational instructions\n",
        "        self.children = []  # List of tasks that depend on this task\n",
        "        self.parents = []  # List of tasks this task depends on\n",
        "\n",
        "        self.input_files = []   # list of (filename, size)\n",
        "        self.output_files = []  # list of (filename, size)\n",
        "\n",
        "        self.executed = False  # Status of execution\n",
        "        self.executed_on = None  # Node this task was executed on\n",
        "        self.execution_time = 0  # Time taken to execute the task\n",
        "        self.cost = 0  # Cost of executing the task\n",
        "        self.comm_delay = 0  # Communication delay in seconds\n",
        "        self.workflow_id = workflow_id  # Workflow identifier to which this task belongs\n",
        "        self.total_transfer_files_size = 0\n"
      ]
    },
    {
      "cell_type": "markdown",
      "metadata": {
        "id": "V6GeROhDHben"
      },
      "source": [
        "# Class Workflow"
      ]
    },
    {
      "cell_type": "code",
      "execution_count": null,
      "metadata": {
        "id": "l1dvEPosHyYn"
      },
      "outputs": [],
      "source": [
        "class Workflow:\n",
        "    def __init__(self, id):\n",
        "        self.id = id  # Workflow identifier\n",
        "        self.tasks = {}  # Dictionary of tasks in the workflow\n",
        "\n",
        "    def add_task(self, task_id, instructions, parent_ids=[], input_files=[], output_files=[]):\n",
        "        if task_id not in self.tasks:\n",
        "            self.tasks[task_id] = Task(task_id, instructions, self.id)\n",
        "        task = self.tasks[task_id]\n",
        "        for parent_id in parent_ids:\n",
        "            if parent_id not in self.tasks:\n",
        "                self.tasks[parent_id] = Task(parent_id, 0, self.id)\n",
        "            parent_task = self.tasks[parent_id]\n",
        "            parent_task.children.append(task)\n",
        "            task.parents.append(parent_task)\n",
        "\n",
        "        task.input_files.extend(input_files)\n",
        "        task.output_files.extend(output_files)"
      ]
    },
    {
      "cell_type": "markdown",
      "metadata": {
        "id": "sOhKq478H4_X"
      },
      "source": [
        "# class parse_dax"
      ]
    },
    {
      "cell_type": "code",
      "execution_count": null,
      "metadata": {
        "id": "92rkJc8AH3Bd"
      },
      "outputs": [],
      "source": [
        "def parse_dax(file_path, workflow_id):\n",
        "    tree = ET.parse(file_path)\n",
        "    root = tree.getroot()\n",
        "\n",
        "    workflow_id = workflow_id\n",
        "    workflow = Workflow(workflow_id)\n",
        "\n",
        "    # Pegasus DAX namespace\n",
        "    dax_ns = '{http://pegasus.isi.edu/schema/DAX}'\n",
        "\n",
        "    # Parse jobs\n",
        "    jobs = {job.attrib['id']: job for job in root.findall(f'{dax_ns}job')}\n",
        "\n",
        "    # Add jobs to workflow\n",
        "    for job_id, job_elem in jobs.items():\n",
        "        instructions = float(job_elem.attrib.get('runtime', 0))\n",
        "\n",
        "        # NEW: Gather input/output files from <uses link=\"input\" ...> or <uses link=\"output\" ...>\n",
        "        input_files = []\n",
        "        output_files = []\n",
        "        for uses_elem in job_elem.findall(f'.//{dax_ns}uses'):\n",
        "            link_type = uses_elem.attrib.get('link', '')\n",
        "            file_name = uses_elem.attrib.get('file', '')\n",
        "            file_size_str = uses_elem.attrib.get('size', '0')\n",
        "            file_size = int(file_size_str)\n",
        "\n",
        "            if link_type == 'input':\n",
        "                input_files.append((file_name, file_size))  # e.g. (\"FFI_0_2_subfx.sgt\", 262360916)\n",
        "            elif link_type == 'output':\n",
        "                output_files.append((file_name, file_size))\n",
        "\n",
        "        workflow.add_task(job_id,\n",
        "                          instructions,\n",
        "                          parent_ids=[],  # We'll handle parents in a moment,\n",
        "                          input_files=input_files,\n",
        "                          output_files=output_files)\n",
        "\n",
        "    # Parse dependencies\n",
        "    for child in root.findall(f'{dax_ns}child'):\n",
        "        child_id = child.attrib['ref']\n",
        "        parent_ids = [parent.attrib['ref'] for parent in child.findall(f'{dax_ns}parent')]\n",
        "        workflow.add_task(child_id, 0, parent_ids)  # Adds a child node with its parent nodes, setting instructions to 0 to avoid overwrite\n",
        "\n",
        "    return workflow\n",
        "\n",
        "\n",
        "def ensemble_of_workflows(name, size=10, distribution='constant', dax_path=''):\n",
        "    ws = []\n",
        "    ensemble = []\n",
        "    directory_path = dax_path  # Directory containing DAX files\n",
        "\n",
        "    # List and filter files in directory\n",
        "    files = os.listdir(directory_path)\n",
        "    filtered_files = [file for file in files if name in file]\n",
        "\n",
        "    if distribution == 'constant':\n",
        "        pattern = r'100(?!\\d)'\n",
        "        for s in filtered_files:\n",
        "            if re.search(pattern, s):\n",
        "                ensemble = [s] * size  # Replicate the matched file 'size' times\n",
        "                break\n",
        "    else:\n",
        "        numbers = np.random.randint(0, len(filtered_files), size)\n",
        "        print('numbers: ', numbers)\n",
        "        ensemble = [filtered_files[i] for i in numbers]  # Select random files based on uniform distribution\n",
        "\n",
        "    w_id = 0\n",
        "    for name in ensemble:\n",
        "        ws.append(parse_dax(dax_path+name,w_id))\n",
        "        w_id = w_id + 1\n",
        "\n",
        "    return ws"
      ]
    },
    {
      "cell_type": "markdown",
      "metadata": {
        "id": "u8oPYhPOIF39"
      },
      "source": [
        "# Loading dax files"
      ]
    },
    {
      "cell_type": "code",
      "execution_count": null,
      "metadata": {
        "colab": {
          "base_uri": "https://localhost:8080/"
        },
        "id": "z69MgkfSH81N",
        "outputId": "38787070-d3eb-4a3d-f160-d02d72252695"
      },
      "outputs": [
        {
          "output_type": "stream",
          "name": "stdout",
          "text": [
            "Mounted at /content/drive\n"
          ]
        }
      ],
      "source": [
        "from google.colab import drive\n",
        "import glob\n",
        "\n",
        "drive.mount('/content/drive')\n",
        "folder_path = '/content/drive/My Drive/Zahra/dax/'"
      ]
    },
    {
      "cell_type": "markdown",
      "metadata": {
        "id": "3x5Y4MN-IMLe"
      },
      "source": [
        "# class Device"
      ]
    },
    {
      "cell_type": "code",
      "execution_count": null,
      "metadata": {
        "id": "kK7fXmQeIPIW"
      },
      "outputs": [],
      "source": [
        "class Device:\n",
        "    def __init__(self, id, mips, cost_per_hour, env):\n",
        "        self.id = id\n",
        "        self.mips = mips\n",
        "        self.cost_per_hour = cost_per_hour\n",
        "        self.queue = deque()\n",
        "        self.runnig_queue = deque()\n",
        "        self.resource = simpy.Resource(env, capacity=1)\n",
        "\n",
        "    def add_task_to_queue(self, task):\n",
        "        self.queue.append(task)\n",
        "\n",
        "    def get_next_task(self):\n",
        "        return self.queue.popleft() if self.queue else None\n",
        "\n",
        "    def waiting_time(self):\n",
        "        waiting_time = 0\n",
        "        for t in self.queue:\n",
        "            waiting_time += t.instructions / self.mips\n",
        "        return waiting_time\n"
      ]
    },
    {
      "cell_type": "markdown",
      "metadata": {
        "id": "cUV48C7AImGY"
      },
      "source": [
        "# class FogEnv"
      ]
    },
    {
      "cell_type": "code",
      "execution_count": null,
      "metadata": {
        "id": "A8B_f_ZNIovb"
      },
      "outputs": [],
      "source": [
        "import simpy\n",
        "\n",
        "class FogEnv:\n",
        "    def __init__(self, env, iot_devices, fog_nodes, cloud_servers, workflows):\n",
        "        self.env = env\n",
        "        self.iot_devices = iot_devices\n",
        "        self.fog_nodes = fog_nodes\n",
        "        self.cloud_servers = cloud_servers\n",
        "        self.cost = 0\n",
        "        self.completed_workflows = 0\n",
        "        self.workflows = workflows\n",
        "        self.total_delay = 0\n",
        "\n",
        "        # NEW: Track file origins\n",
        "        self.file_origins = {}  # { file_name: device_id }\n",
        "\n",
        "        # Example bandwidth table (Mb/s)\n",
        "        self.bandwidth_matrix = {\n",
        "            ('iot', 'iot'): 2000,\n",
        "            ('iot', 'fog'): 500,\n",
        "            ('iot', 'cloud'): 500,\n",
        "            ('fog', 'iot'): 500,\n",
        "            ('fog', 'fog'): 4000,\n",
        "            ('fog', 'cloud'): 1000,\n",
        "            ('cloud', 'iot'): 500,\n",
        "            ('cloud', 'fog'): 1000,\n",
        "            ('cloud', 'cloud'): 1000\n",
        "        }\n",
        "\n",
        "    def assign_task(self, task, device):\n",
        "        with device.resource.request() as req:\n",
        "            yield req\n",
        "\n",
        "            # 1) Transfer each input file if needed\n",
        "            for file_name, file_size_bytes in task.input_files:\n",
        "                self.handle_file_transfer(task, file_name, file_size_bytes, device)\n",
        "                task.total_transfer_files_size += file_size_bytes\n",
        "\n",
        "            # 2) Execute the task on this device\n",
        "            execution_time = task.instructions / device.mips\n",
        "            self.total_delay += execution_time\n",
        "            task.execution_time = execution_time\n",
        "            yield self.env.timeout(execution_time)\n",
        "\n",
        "            # 3) Update cost\n",
        "            task.cost = execution_time * device.cost_per_hour\n",
        "            self.cost += task.cost\n",
        "            task.executed = True\n",
        "            task.executed_on = device.id\n",
        "            task.execution_time = execution_time\n",
        "\n",
        "            # 4) Mark output files as originating from this device\n",
        "            for out_file, _sz in task.output_files:\n",
        "                self.file_origins[out_file] = device.id\n",
        "\n",
        "            # 5) Check if this workflow is now complete\n",
        "            wf = next(w for w in self.workflows if w.id == task.workflow_id)\n",
        "            self.check_workflow_completion(wf)\n",
        "            device.queue.popleft()\n",
        "\n",
        "    # NEW: Function to handle transfer\n",
        "    def handle_file_transfer(self,task, file_name, file_size_bytes, destination_device):\n",
        "        # If we don't know the file origin, assume it's \"local\" or from some default place\n",
        "        if file_name not in self.file_origins:\n",
        "            return  # no transfer needed\n",
        "\n",
        "        source_dev_id = self.file_origins[file_name]\n",
        "        if source_dev_id == destination_device.id:\n",
        "            return  # already local\n",
        "\n",
        "        # Get device types for bandwidth lookup\n",
        "        source_dev = self.get_device_by_id(source_dev_id)\n",
        "        if source_dev is None:\n",
        "            return  # fallback: no known device\n",
        "\n",
        "        source_type = source_dev.dev_type\n",
        "        dest_type = destination_device.dev_type\n",
        "\n",
        "        # bandwidth_matrix gives us Mb/s. Convert bytes -> megabits\n",
        "        # 1 byte = 8 bits, so:\n",
        "        file_megabits = file_size_bytes * 8 / 1e6\n",
        "\n",
        "        # Look up or fallback\n",
        "        band_mbps = self.bandwidth_matrix.get((source_type, dest_type), 1000.0)\n",
        "\n",
        "        # Transfer time (seconds)\n",
        "        transfer_time = file_megabits / band_mbps\n",
        "\n",
        "        # Optional: add base communication latency\n",
        "        comm_latency = 0.01  # 10 ms, for example\n",
        "        total_delay = comm_latency + transfer_time\n",
        "        self.total_delay += total_delay\n",
        "        task.comm_delay = total_delay\n",
        "\n",
        "        # Wait out the transfer in simulation time\n",
        "        yield self.env.timeout(total_delay)\n",
        "\n",
        "    def get_device_by_id(self, device_id):\n",
        "        for device in self.iot_devices + self.fog_nodes + self.cloud_servers:\n",
        "            if device.id == device_id:\n",
        "                return device\n",
        "        return None\n",
        "\n",
        "    def check_workflow_completion(self, workflow):\n",
        "        # Check if all tasks in the workflow are executed\n",
        "        if all(task.executed for task in workflow.tasks.values()):\n",
        "            self.completed_workflows += 1  # Increment completed workflows counter\n",
        "            # print(f\"Workflow {workflow.id} is completed! Total completed workflows: {self.completed_workflows}\")\n",
        "\n",
        "\n",
        "\n",
        "\n",
        "\n",
        "def process_workflow(env, workflow, fog_env, agent):\n",
        "      while(True):\n",
        "        if all([task.executed for task in workflow.tasks.values()]):\n",
        "          break\n",
        "        for task in workflow.tasks.values():\n",
        "            if task.executed:\n",
        "              continue\n",
        "            if all([parent.executed for parent in task.parents]) or task.parents == []:\n",
        "                action = agent.choose_action()\n",
        "                devices = fog_env.iot_devices + fog_env.fog_nodes + fog_env.cloud_servers\n",
        "                device = devices[action]\n",
        "                device.add_task_to_queue(task)\n",
        "                task.executed_on = device.id\n",
        "                yield env.process(fog_env.assign_task(task, device))"
      ]
    },
    {
      "cell_type": "markdown",
      "metadata": {
        "id": "Swj5rrsAJZV8"
      },
      "source": [
        "# class NewSim\n",
        "\n"
      ]
    },
    {
      "cell_type": "code",
      "execution_count": null,
      "metadata": {
        "id": "SB2sfq22JcBF"
      },
      "outputs": [],
      "source": [
        "class  NewSim:\n",
        "    def __init__(self, num_iot, num_fog, num_server, learning_rate=0.001, discount_factor=0.95,\n",
        "                 exploration_rate=1.0, exploration_decay=0.995, exploration_min=0.01, batch_size=64, memory_size=2000, model_path=None):\n",
        "        self.num_iot = num_iot\n",
        "        self.num_fog = num_fog\n",
        "        self.num_server = num_server\n",
        "        self.num_totla_dev = num_iot + num_fog + num_server\n",
        "        self.learning_rate = learning_rate\n",
        "        self.discount_factor = discount_factor\n",
        "        self.exploration_rate = exploration_rate\n",
        "        self.exploration_decay = exploration_decay\n",
        "        self.exploration_min = exploration_min\n",
        "        self.batch_size = batch_size\n",
        "        self.memory_size = memory_size\n",
        "        self.model_path = model_path\n",
        "        self.env = simpy.Environment()\n",
        "        self.reset()\n",
        "        self.run()\n",
        "\n",
        "    def reset(self):\n",
        "        self.iot_devices = [Device(f'iot_{i}', 500, 0, self.env) for i in range(self.num_iot)]\n",
        "        self.fog_devices = [Device(f'fog_{i}', 4000, 1/3600, self.env) for i in range(self.num_fog)]\n",
        "        self.server_devices = [Device(f'server_{i}', 6000, 8/3600, self.env) for i in range(self.num_server)]\n",
        "        self.agent = RandomAgent(action_size=self.num_totla_dev)\n",
        "\n",
        "        self.workflows = ensemble_of_workflows(name = 'CyberShake', size=100, distribution = 'constant', dax_path=\"/content/drive/My Drive/Zahra/dax/\")\n",
        "    def run(self):\n",
        "        self.fog_env = FogEnv(self.env, self.iot_devices, self.fog_devices, self.server_devices,self.workflows)\n",
        "        for workflow in self.workflows:\n",
        "            self.env.process(process_workflow(self.env, workflow, self.fog_env, self.agent))\n",
        "\n",
        "        self.env.run()  # Run simulation for a time period\n"
      ]
    },
    {
      "cell_type": "markdown",
      "metadata": {
        "id": "8m16rQswH07A"
      },
      "source": [
        "# Data Collection\n"
      ]
    },
    {
      "cell_type": "markdown",
      "metadata": {
        "id": "pRiUawjwavRO"
      },
      "source": [
        "## The Config of Workflows"
      ]
    },
    {
      "cell_type": "code",
      "execution_count": null,
      "metadata": {
        "id": "pi6ASMtxau1Y"
      },
      "outputs": [],
      "source": [
        "# Workflow configurations with specific sizes\n",
        "workflow_configs = {\n",
        "        'CyberShake': [30, 50, 100, 1000],\n",
        "        'Montage': [20, 40, 60, 80, 100, 200, 300],\n",
        "        'Inspiral': [30, 50, 100, 1000],\n",
        "        'Sipht': [29, 58, 100, 968]\n",
        "    }\n",
        "workflow_distributions = ['constant', 'uniform']"
      ]
    },
    {
      "cell_type": "code",
      "execution_count": null,
      "metadata": {
        "id": "BrXkI2OeLjOO"
      },
      "outputs": [],
      "source": [
        "def run_simulation_with_results_tracking(workflow_name, workflow_size, workflow_distribution, model_path):\n",
        "    learning_rate = 0.001\n",
        "    discount_factor = 0.99\n",
        "    exploration_rate = 0.5\n",
        "    exploration_decay = 0.995\n",
        "    exploration_min = 0.05\n",
        "\n",
        "    dax_path = \"/content/drive/My Drive/Zahra/dax/\"\n",
        "\n",
        "    print(f\"Running simulation for Workflow: {workflow_name}, Size: {workflow_size}, Distribution: {workflow_distribution}\")\n",
        "\n",
        "    # Set up the simulation with the current parameters\n",
        "    simulation = NewSim(\n",
        "        num_iot=10,\n",
        "        num_fog=8,\n",
        "        num_server=5,\n",
        "        learning_rate=learning_rate,\n",
        "        discount_factor=discount_factor,\n",
        "        exploration_rate=exploration_rate,\n",
        "        exploration_decay=exploration_decay,\n",
        "        exploration_min=exploration_min,\n",
        "        model_path = model_path\n",
        "    )\n",
        "\n",
        "    # Update the workflow parameters\n",
        "    simulation.workflows = ensemble_of_workflows(\n",
        "        name=workflow_name,\n",
        "        size=workflow_size,\n",
        "        distribution=workflow_distribution,\n",
        "        dax_path=dax_path\n",
        "    )\n",
        "\n",
        "    # Run the simulation\n",
        "    simulation.run()\n",
        "\n",
        "    # Print results for current run\n",
        "    print(f\"Total cost for Workflow {workflow_name} ({workflow_distribution}, size={workflow_size}): {simulation.fog_env.cost}\")\n",
        "    print(f\"Total time for Workflow {workflow_name} ({workflow_distribution}, size={workflow_size}): {simulation.env.now}\")\n",
        "\n",
        "\n"
      ]
    },
    {
      "cell_type": "markdown",
      "metadata": {
        "id": "lLU8FKZT2elj"
      },
      "source": [
        "# Results"
      ]
    },
    {
      "cell_type": "markdown",
      "metadata": {
        "id": "_XeITaLMw79l"
      },
      "source": [
        "## Cybershake - constant"
      ]
    },
    {
      "cell_type": "code",
      "execution_count": null,
      "metadata": {
        "colab": {
          "base_uri": "https://localhost:8080/"
        },
        "id": "D6NHXFqyw2Oz",
        "outputId": "a91eac2d-5369-4f69-95e4-e8307cff68e1"
      },
      "outputs": [
        {
          "output_type": "stream",
          "name": "stdout",
          "text": [
            "Running simulation for Workflow: CyberShake, Size: 10, Distribution: constant\n",
            "Total cost for Workflow CyberShake (constant, size=10): 0.0035125983796296277\n",
            "Total time for Workflow CyberShake (constant, size=10): 39.20455166666669\n",
            "Running simulation for Workflow: CyberShake, Size: 20, Distribution: constant\n",
            "Total cost for Workflow CyberShake (constant, size=20): 0.006568230555555555\n",
            "Total time for Workflow CyberShake (constant, size=20): 43.05038666666668\n",
            "Running simulation for Workflow: CyberShake, Size: 30, Distribution: constant\n",
            "Total cost for Workflow CyberShake (constant, size=30): 0.01021673796296298\n",
            "Total time for Workflow CyberShake (constant, size=30): 46.1039908333333\n",
            "Running simulation for Workflow: CyberShake, Size: 40, Distribution: constant\n",
            "Total cost for Workflow CyberShake (constant, size=40): 0.012904557870370379\n",
            "Total time for Workflow CyberShake (constant, size=40): 51.41530999999992\n",
            "Running simulation for Workflow: CyberShake, Size: 50, Distribution: constant\n",
            "Total cost for Workflow CyberShake (constant, size=50): 0.017415634027777762\n",
            "Total time for Workflow CyberShake (constant, size=50): 52.95513416666667\n",
            "Running simulation for Workflow: CyberShake, Size: 60, Distribution: constant\n",
            "Total cost for Workflow CyberShake (constant, size=60): 0.020497866666666635\n",
            "Total time for Workflow CyberShake (constant, size=60): 56.965106666666564\n",
            "Running simulation for Workflow: CyberShake, Size: 70, Distribution: constant\n",
            "Total cost for Workflow CyberShake (constant, size=70): 0.023119464814814823\n",
            "Total time for Workflow CyberShake (constant, size=70): 58.4617208333333\n",
            "Running simulation for Workflow: CyberShake, Size: 80, Distribution: constant\n",
            "Total cost for Workflow CyberShake (constant, size=80): 0.026181335185185107\n",
            "Total time for Workflow CyberShake (constant, size=80): 62.55062833333321\n",
            "Running simulation for Workflow: CyberShake, Size: 90, Distribution: constant\n",
            "Total cost for Workflow CyberShake (constant, size=90): 0.03060545347222215\n",
            "Total time for Workflow CyberShake (constant, size=90): 61.87866833333323\n",
            "Running simulation for Workflow: CyberShake, Size: 100, Distribution: constant\n",
            "Total cost for Workflow CyberShake (constant, size=100): 0.033869442824073726\n",
            "Total time for Workflow CyberShake (constant, size=100): 66.10477916666659\n"
          ]
        }
      ],
      "source": [
        "for i in range(1, 11):\n",
        "  run_simulation_with_results_tracking('CyberShake',10*i, 'constant', None)"
      ]
    },
    {
      "cell_type": "markdown",
      "metadata": {
        "id": "gR0TdNcs1qHQ"
      },
      "source": [
        "## Cybershake - uniform"
      ]
    },
    {
      "cell_type": "code",
      "execution_count": null,
      "metadata": {
        "colab": {
          "base_uri": "https://localhost:8080/"
        },
        "id": "wDrLPm5E2BMz",
        "outputId": "43cce0e5-df38-4db8-f57c-2c48bba370b9"
      },
      "outputs": [
        {
          "output_type": "stream",
          "name": "stdout",
          "text": [
            "Running simulation for Workflow: CyberShake, Size: 10, Distribution: uniform\n",
            "numbers:  [3 2 0 3 4 1 2 0 3 4]\n",
            "Total cost for Workflow CyberShake (uniform, size=10): 0.003987471990740746\n",
            "Total time for Workflow CyberShake (uniform, size=10): 60.26716333333336\n",
            "Running simulation for Workflow: CyberShake, Size: 20, Distribution: uniform\n",
            "numbers:  [0 3 4 0 0 0 3 3 0 0 4 4 2 0 4 2 0 2 0 3]\n",
            "Total cost for Workflow CyberShake (uniform, size=20): 0.005382356018518521\n",
            "Total time for Workflow CyberShake (uniform, size=20): 44.095617500000024\n",
            "Running simulation for Workflow: CyberShake, Size: 30, Distribution: uniform\n",
            "numbers:  [0 2 2 0 2 2 2 1 1 2 4 2 2 3 0 4 3 4 3 4 2 2 4 3 3 2 3 2 4 3]\n",
            "Total cost for Workflow CyberShake (uniform, size=30): 0.010201191435185174\n",
            "Total time for Workflow CyberShake (uniform, size=30): 63.79424083333335\n",
            "Running simulation for Workflow: CyberShake, Size: 40, Distribution: uniform\n",
            "numbers:  [2 4 1 0 0 2 0 2 1 4 0 0 3 1 0 2 1 0 3 1 1 4 3 2 0 1 2 4 2 3 1 2 4 2 2 1 0\n",
            " 2 3 1]\n",
            "Total cost for Workflow CyberShake (uniform, size=40): 0.03091399976851845\n",
            "Total time for Workflow CyberShake (uniform, size=40): 81.15759166666685\n",
            "Running simulation for Workflow: CyberShake, Size: 50, Distribution: uniform\n",
            "numbers:  [4 2 1 3 1 2 2 0 0 3 3 2 0 4 1 2 1 3 1 2 2 4 3 0 2 4 2 0 3 2 3 2 0 2 4 1 2\n",
            " 2 0 4 3 0 2 0 1 2 3 1 4 4]\n",
            "Total cost for Workflow CyberShake (uniform, size=50): 0.027573489583333263\n",
            "Total time for Workflow CyberShake (uniform, size=50): 80.70156416666681\n",
            "Running simulation for Workflow: CyberShake, Size: 60, Distribution: uniform\n",
            "numbers:  [4 3 2 4 2 2 3 4 4 2 0 1 4 4 0 0 3 0 4 3 4 1 0 0 4 0 4 0 3 4 0 3 1 2 2 0 3\n",
            " 3 3 4 2 3 1 2 0 4 3 0 3 0 2 4 1 4 4 3 2 2 2 1]\n",
            "Total cost for Workflow CyberShake (uniform, size=60): 0.02659600833333336\n",
            "Total time for Workflow CyberShake (uniform, size=60): 79.0949500000001\n",
            "Running simulation for Workflow: CyberShake, Size: 70, Distribution: uniform\n",
            "numbers:  [3 2 1 1 4 3 0 3 2 0 3 0 4 2 1 4 0 1 0 1 0 2 3 3 0 1 0 3 0 1 3 4 0 0 0 2 1\n",
            " 2 1 3 0 4 1 2 1 4 1 2 2 4 3 0 2 0 4 0 3 1 0 3 2 1 1 3 2 3 4 0 2 3]\n",
            "Total cost for Workflow CyberShake (uniform, size=70): 0.048936993981482144\n",
            "Total time for Workflow CyberShake (uniform, size=70): 98.45208750000002\n",
            "Running simulation for Workflow: CyberShake, Size: 80, Distribution: uniform\n",
            "numbers:  [1 0 0 4 1 3 3 4 4 3 0 4 4 2 1 4 3 1 0 1 0 3 4 4 3 2 1 2 0 0 3 2 2 1 4 2 3\n",
            " 1 2 4 0 2 4 4 2 0 3 2 1 2 0 3 3 2 4 2 2 3 1 4 1 1 4 1 3 2 2 3 0 2 2 3 2 4\n",
            " 2 0 3 0 2 2]\n",
            "Total cost for Workflow CyberShake (uniform, size=80): 0.0459921236111116\n",
            "Total time for Workflow CyberShake (uniform, size=80): 93.52280750000014\n",
            "Running simulation for Workflow: CyberShake, Size: 90, Distribution: uniform\n",
            "numbers:  [4 0 0 0 1 4 3 0 3 3 1 1 3 1 2 0 4 3 3 1 4 2 2 1 4 2 4 4 1 3 4 1 1 1 3 0 4\n",
            " 0 4 0 1 0 4 1 0 1 1 2 3 1 3 1 1 0 3 2 3 2 1 4 2 0 4 0 0 1 3 2 2 2 0 4 4 2\n",
            " 4 4 2 1 4 3 4 1 3 3 4 4 0 0 3 0]\n",
            "Total cost for Workflow CyberShake (uniform, size=90): 0.0655689009259258\n",
            "Total time for Workflow CyberShake (uniform, size=90): 110.72067333333351\n",
            "Running simulation for Workflow: CyberShake, Size: 100, Distribution: uniform\n",
            "numbers:  [3 3 4 2 2 2 3 4 4 4 1 3 2 2 2 1 3 1 4 0 3 2 3 3 1 2 1 1 1 0 3 2 1 2 1 0 1\n",
            " 3 1 2 1 0 0 1 2 0 1 1 3 1 1 0 1 2 3 1 1 1 3 0 3 1 1 3 1 1 3 4 1 3 2 2 4 4\n",
            " 3 2 1 4 1 2 2 4 0 1 1 1 0 1 1 0 2 3 4 2 1 1 0 0 2 2]\n",
            "Total cost for Workflow CyberShake (uniform, size=100): 0.09973338981481232\n",
            "Total time for Workflow CyberShake (uniform, size=100): 136.3003900000002\n"
          ]
        }
      ],
      "source": [
        "for i in range(1, 11):\n",
        "  run_simulation_with_results_tracking('CyberShake',10*i, 'uniform', '/content/drive/My Drive/Zahra/Models/model_CyberShake_constant_10_cost.keras' )"
      ]
    },
    {
      "cell_type": "markdown",
      "metadata": {
        "id": "xmy3_T952Yuk"
      },
      "source": [
        "## Montage - constant"
      ]
    },
    {
      "cell_type": "code",
      "execution_count": null,
      "metadata": {
        "colab": {
          "base_uri": "https://localhost:8080/"
        },
        "id": "h1i-P0kL2pjV",
        "outputId": "2167285e-07fa-414e-8be3-aeb03865a23a"
      },
      "outputs": [
        {
          "output_type": "stream",
          "name": "stdout",
          "text": [
            "Running simulation for Workflow: Montage, Size: 10, Distribution: constant\n",
            "Total cost for Workflow Montage (constant, size=10): 0.001144336342592593\n",
            "Total time for Workflow Montage (constant, size=10): 35.26257000000006\n",
            "Running simulation for Workflow: Montage, Size: 20, Distribution: constant\n",
            "Total cost for Workflow Montage (constant, size=20): 0.0021377662037036956\n",
            "Total time for Workflow Montage (constant, size=20): 34.601010833333305\n",
            "Running simulation for Workflow: Montage, Size: 30, Distribution: constant\n",
            "Total cost for Workflow Montage (constant, size=30): 0.0033546344907407375\n",
            "Total time for Workflow Montage (constant, size=30): 36.523356666666615\n",
            "Running simulation for Workflow: Montage, Size: 40, Distribution: constant\n",
            "Total cost for Workflow Montage (constant, size=40): 0.004373150462962962\n",
            "Total time for Workflow Montage (constant, size=40): 38.30899583333332\n",
            "Running simulation for Workflow: Montage, Size: 50, Distribution: constant\n",
            "Total cost for Workflow Montage (constant, size=50): 0.005676996296296277\n",
            "Total time for Workflow Montage (constant, size=50): 38.585899999999995\n",
            "Running simulation for Workflow: Montage, Size: 60, Distribution: constant\n",
            "Total cost for Workflow Montage (constant, size=60): 0.006885667361111103\n",
            "Total time for Workflow Montage (constant, size=60): 40.64392999999992\n",
            "Running simulation for Workflow: Montage, Size: 70, Distribution: constant\n",
            "Total cost for Workflow Montage (constant, size=70): 0.008106399768518499\n",
            "Total time for Workflow Montage (constant, size=70): 42.324711666666595\n",
            "Running simulation for Workflow: Montage, Size: 80, Distribution: constant\n",
            "Total cost for Workflow Montage (constant, size=80): 0.009253398842592632\n",
            "Total time for Workflow Montage (constant, size=80): 41.06604583333316\n",
            "Running simulation for Workflow: Montage, Size: 90, Distribution: constant\n",
            "Total cost for Workflow Montage (constant, size=90): 0.01023337129629643\n",
            "Total time for Workflow Montage (constant, size=90): 42.84730333333318\n",
            "Running simulation for Workflow: Montage, Size: 100, Distribution: constant\n",
            "Total cost for Workflow Montage (constant, size=100): 0.011239935879629834\n",
            "Total time for Workflow Montage (constant, size=100): 42.507399166666524\n"
          ]
        }
      ],
      "source": [
        "for i in range(1, 11):\n",
        "  run_simulation_with_results_tracking('Montage',10*i, 'constant', '/content/drive/My Drive/Zahra/Models/model_CyberShake_constant_10_cost.keras' )"
      ]
    },
    {
      "cell_type": "markdown",
      "metadata": {
        "id": "Lpvpbfmr2_9M"
      },
      "source": [
        "## Montage - uniform"
      ]
    },
    {
      "cell_type": "code",
      "execution_count": null,
      "metadata": {
        "colab": {
          "base_uri": "https://localhost:8080/"
        },
        "id": "5j7GJQun3GTh",
        "outputId": "043b2d92-ea8e-4927-9ff3-920b186bdbf7"
      },
      "outputs": [
        {
          "output_type": "stream",
          "name": "stdout",
          "text": [
            "Running simulation for Workflow: Montage, Size: 10, Distribution: uniform\n",
            "numbers:  [4 5 0 4 2 0 2 3 2 4]\n",
            "Total cost for Workflow Montage (uniform, size=10): 0.0012496208333333304\n",
            "Total time for Workflow Montage (uniform, size=10): 35.37406833333347\n",
            "Running simulation for Workflow: Montage, Size: 20, Distribution: uniform\n",
            "numbers:  [2 0 2 4 6 5 4 0 4 0 1 5 2 0 5 2 6 4 0 6]\n",
            "Total cost for Workflow Montage (uniform, size=20): 0.002256793055555549\n",
            "Total time for Workflow Montage (uniform, size=20): 36.77792416666677\n",
            "Running simulation for Workflow: Montage, Size: 30, Distribution: uniform\n",
            "numbers:  [6 6 4 0 2 0 0 4 0 1 4 5 5 4 2 4 5 6 2 1 4 0 3 1 4 0 6 5 4 6]\n",
            "Total cost for Workflow Montage (uniform, size=30): 0.0032105618055555504\n",
            "Total time for Workflow Montage (uniform, size=30): 38.34016083333338\n",
            "Running simulation for Workflow: Montage, Size: 40, Distribution: uniform\n",
            "numbers:  [4 4 5 0 2 5 1 1 4 0 2 1 3 4 4 0 4 1 1 0 1 0 4 3 4 0 4 4 4 0 2 1 0 6 2 5 0\n",
            " 6 5 0]\n",
            "Total cost for Workflow Montage (uniform, size=40): 0.004547140277777766\n",
            "Total time for Workflow Montage (uniform, size=40): 37.4049308333334\n",
            "Running simulation for Workflow: Montage, Size: 50, Distribution: uniform\n",
            "numbers:  [1 1 5 0 1 2 3 1 6 3 6 2 2 4 0 6 3 6 4 4 6 1 2 2 0 5 3 5 3 2 0 1 1 4 5 0 4\n",
            " 0 5 3 2 0 2 6 3 0 0 2 5 5]\n",
            "Total cost for Workflow Montage (uniform, size=50): 0.007073735416666668\n",
            "Total time for Workflow Montage (uniform, size=50): 39.83925833333349\n",
            "Running simulation for Workflow: Montage, Size: 60, Distribution: uniform\n",
            "numbers:  [3 6 4 0 3 0 1 5 4 5 5 3 0 2 0 0 6 5 0 2 1 6 6 1 0 0 4 4 0 3 4 1 0 3 6 3 1\n",
            " 1 4 3 0 1 1 0 6 6 0 6 6 4 2 5 5 1 6 0 5 5 1 4]\n",
            "Total cost for Workflow Montage (uniform, size=60): 0.007999590277777817\n",
            "Total time for Workflow Montage (uniform, size=60): 44.24054166666678\n",
            "Running simulation for Workflow: Montage, Size: 70, Distribution: uniform\n",
            "numbers:  [1 5 6 3 0 6 5 6 2 2 6 0 4 2 3 6 5 6 6 2 6 4 4 1 2 6 4 6 1 2 4 2 3 2 6 3 3\n",
            " 5 3 6 4 5 3 2 4 1 2 3 6 3 6 6 4 6 5 0 5 0 4 0 4 5 4 3 2 3 5 5 2 0]\n",
            "Total cost for Workflow Montage (uniform, size=70): 0.008969091666666706\n",
            "Total time for Workflow Montage (uniform, size=70): 42.64692416666667\n",
            "Running simulation for Workflow: Montage, Size: 80, Distribution: uniform\n",
            "numbers:  [1 2 3 2 2 4 5 0 0 2 4 4 4 4 5 5 1 1 3 3 3 4 3 3 5 2 0 4 2 4 5 6 4 1 3 2 5\n",
            " 6 1 0 4 1 6 5 0 2 5 1 3 4 3 0 4 5 2 0 5 4 0 1 6 2 5 5 2 4 3 2 3 5 3 1 2 0\n",
            " 5 2 1 0 5 6]\n",
            "Total cost for Workflow Montage (uniform, size=80): 0.010494525462963056\n",
            "Total time for Workflow Montage (uniform, size=80): 45.42311083333343\n",
            "Running simulation for Workflow: Montage, Size: 90, Distribution: uniform\n",
            "numbers:  [2 4 3 3 3 5 5 2 3 2 0 1 6 0 6 0 2 1 5 5 5 2 0 2 5 5 5 5 4 0 1 3 6 3 1 2 4\n",
            " 2 2 3 0 4 0 4 2 5 2 4 6 3 6 5 2 3 5 5 2 5 5 2 0 0 3 5 1 2 1 0 0 4 0 5 5 4\n",
            " 3 6 0 1 1 2 2 4 1 6 4 6 5 0 4 2]\n",
            "Total cost for Workflow Montage (uniform, size=90): 0.01194241550925939\n",
            "Total time for Workflow Montage (uniform, size=90): 45.25922166666675\n",
            "Running simulation for Workflow: Montage, Size: 100, Distribution: uniform\n",
            "numbers:  [5 2 3 1 6 5 6 0 5 6 5 0 0 6 0 6 2 4 4 6 0 5 4 6 6 5 5 1 2 5 2 4 3 3 3 5 2\n",
            " 4 0 0 4 0 4 6 1 5 5 4 3 2 5 2 4 6 3 4 4 3 6 5 3 0 2 3 1 0 2 4 6 6 4 5 6 6\n",
            " 5 3 5 0 1 0 3 1 4 0 6 3 0 6 5 5 6 4 3 4 0 4 0 6 5 3]\n",
            "Total cost for Workflow Montage (uniform, size=100): 0.013487759490740912\n",
            "Total time for Workflow Montage (uniform, size=100): 46.9878700000001\n"
          ]
        }
      ],
      "source": [
        "for i in range(1, 11):\n",
        "  run_simulation_with_results_tracking('Montage',10*i, 'uniform', '/content/drive/My Drive/Zahra/Models/model_CyberShake_constant_10_cost.keras' )"
      ]
    },
    {
      "cell_type": "markdown",
      "metadata": {
        "id": "WWpstixI3WNq"
      },
      "source": [
        "## Sipht - constant"
      ]
    },
    {
      "cell_type": "code",
      "execution_count": null,
      "metadata": {
        "colab": {
          "base_uri": "https://localhost:8080/"
        },
        "id": "AngfK6hh3bOO",
        "outputId": "34a2a662-cf6d-403e-9f4a-ebaea0ed378f"
      },
      "outputs": [
        {
          "output_type": "stream",
          "name": "stdout",
          "text": [
            "Running simulation for Workflow: Sipht, Size: 10, Distribution: constant\n",
            "Total cost for Workflow Sipht (constant, size=10): 0.022024796923611117\n",
            "Total time for Workflow Sipht (constant, size=10): 79.77081760833342\n",
            "Running simulation for Workflow: Sipht, Size: 20, Distribution: constant\n",
            "Total cost for Workflow Sipht (constant, size=20): 0.03807323881944448\n",
            "Total time for Workflow Sipht (constant, size=20): 106.8158445500001\n",
            "Running simulation for Workflow: Sipht, Size: 30, Distribution: constant\n",
            "Total cost for Workflow Sipht (constant, size=30): 0.046774524826388865\n",
            "Total time for Workflow Sipht (constant, size=30): 120.20700140833347\n",
            "Running simulation for Workflow: Sipht, Size: 40, Distribution: constant\n",
            "Total cost for Workflow Sipht (constant, size=40): 0.06411512900925925\n",
            "Total time for Workflow Sipht (constant, size=40): 147.9502171666668\n",
            "Running simulation for Workflow: Sipht, Size: 50, Distribution: constant\n",
            "Total cost for Workflow Sipht (constant, size=50): 0.09236562437499964\n",
            "Total time for Workflow Sipht (constant, size=50): 167.14277790833327\n",
            "Running simulation for Workflow: Sipht, Size: 60, Distribution: constant\n",
            "Total cost for Workflow Sipht (constant, size=60): 0.10065091722453627\n",
            "Total time for Workflow Sipht (constant, size=60): 193.8767393\n",
            "Running simulation for Workflow: Sipht, Size: 70, Distribution: constant\n",
            "Total cost for Workflow Sipht (constant, size=70): 0.1150341951597214\n",
            "Total time for Workflow Sipht (constant, size=70): 206.20794419999976\n",
            "Running simulation for Workflow: Sipht, Size: 80, Distribution: constant\n",
            "Total cost for Workflow Sipht (constant, size=80): 0.1503897898009239\n",
            "Total time for Workflow Sipht (constant, size=80): 211.6432043916662\n",
            "Running simulation for Workflow: Sipht, Size: 90, Distribution: constant\n",
            "Total cost for Workflow Sipht (constant, size=90): 0.17196094064583192\n",
            "Total time for Workflow Sipht (constant, size=90): 229.99480614999996\n",
            "Running simulation for Workflow: Sipht, Size: 100, Distribution: constant\n",
            "Total cost for Workflow Sipht (constant, size=100): 0.1813053789212941\n",
            "Total time for Workflow Sipht (constant, size=100): 253.23509114166626\n"
          ]
        }
      ],
      "source": [
        "for i in range(1, 11):\n",
        "  run_simulation_with_results_tracking('Sipht',10*i, 'constant', '/content/drive/My Drive/Zahra/Models/model_CyberShake_constant_10_cost.keras' )"
      ]
    },
    {
      "cell_type": "markdown",
      "metadata": {
        "id": "D81dg-wV3rJ3"
      },
      "source": [
        "## Sipht - uniform"
      ]
    },
    {
      "cell_type": "code",
      "execution_count": null,
      "metadata": {
        "colab": {
          "base_uri": "https://localhost:8080/"
        },
        "id": "77roJqmI3vhj",
        "outputId": "244777b9-758f-4f00-b2c2-c36989b414ca"
      },
      "outputs": [
        {
          "output_type": "stream",
          "name": "stdout",
          "text": [
            "Running simulation for Workflow: Sipht, Size: 10, Distribution: uniform\n",
            "numbers:  [1 2 4 4 1 2 0 0 2 2]\n",
            "Total cost for Workflow Sipht (uniform, size=10): 0.04147072959490747\n",
            "Total time for Workflow Sipht (uniform, size=10): 261.52850085833285\n",
            "Running simulation for Workflow: Sipht, Size: 20, Distribution: uniform\n",
            "numbers:  [3 0 0 3 1 2 4 3 4 2 1 0 3 0 1 0 3 0 3 2]\n",
            "Total cost for Workflow Sipht (uniform, size=20): 0.08506176964351844\n",
            "Total time for Workflow Sipht (uniform, size=20): 315.9667437499997\n",
            "Running simulation for Workflow: Sipht, Size: 30, Distribution: uniform\n",
            "numbers:  [3 2 0 1 3 2 2 3 1 3 1 0 3 4 0 3 2 0 2 2 2 0 1 1 0 3 0 1 4 1]\n",
            "Total cost for Workflow Sipht (uniform, size=30): 0.15182312041203705\n",
            "Total time for Workflow Sipht (uniform, size=30): 449.6082083416658\n",
            "Running simulation for Workflow: Sipht, Size: 40, Distribution: uniform\n",
            "numbers:  [2 3 0 2 3 0 4 3 3 0 1 2 2 0 3 4 4 0 0 1 1 0 4 0 4 0 3 3 4 2 4 2 3 0 4 0 3\n",
            " 0 4 3]\n",
            "Total cost for Workflow Sipht (uniform, size=40): 0.09077624568981496\n",
            "Total time for Workflow Sipht (uniform, size=40): 359.8392382583331\n",
            "Running simulation for Workflow: Sipht, Size: 50, Distribution: uniform\n",
            "numbers:  [2 3 4 0 2 3 0 4 3 2 4 4 0 1 0 4 3 3 4 3 4 0 4 2 0 0 2 2 1 3 3 4 4 1 3 4 0\n",
            " 2 3 1 1 1 4 0 4 4 3 1 2 2]\n",
            "Total cost for Workflow Sipht (uniform, size=50): 0.17189191335879495\n",
            "Total time for Workflow Sipht (uniform, size=50): 469.1282434166658\n",
            "Running simulation for Workflow: Sipht, Size: 60, Distribution: uniform\n",
            "numbers:  [2 1 1 3 2 3 2 0 2 0 0 3 2 2 1 3 4 3 0 1 1 3 3 2 4 4 4 1 1 3 2 1 0 2 0 0 3\n",
            " 0 1 3 0 0 3 4 3 1 1 1 4 3 0 1 2 1 3 2 2 4 0 0]\n",
            "Total cost for Workflow Sipht (uniform, size=60): 0.30620229683102007\n",
            "Total time for Workflow Sipht (uniform, size=60): 652.110364449999\n",
            "Running simulation for Workflow: Sipht, Size: 70, Distribution: uniform\n",
            "numbers:  [1 2 1 3 2 3 3 4 3 1 2 1 2 4 4 3 3 2 0 1 3 1 1 3 4 1 1 4 2 0 2 4 1 4 0 0 1\n",
            " 4 0 1 2 1 2 3 4 0 2 0 1 0 0 2 0 4 4 0 4 0 1 2 0 1 0 4 4 2 0 2 2 2]\n",
            "Total cost for Workflow Sipht (uniform, size=70): 0.33854825333333444\n",
            "Total time for Workflow Sipht (uniform, size=70): 699.6120038916658\n",
            "Running simulation for Workflow: Sipht, Size: 80, Distribution: uniform\n",
            "numbers:  [2 4 2 0 1 4 3 3 2 2 1 1 0 3 0 4 2 3 1 2 3 1 4 3 1 4 2 4 2 0 4 1 4 4 3 3 1\n",
            " 1 0 0 2 4 3 1 0 2 0 1 4 2 4 4 3 0 0 1 3 1 3 2 2 4 1 2 1 3 4 3 1 0 2 3 1 1\n",
            " 4 2 1 2 2 4]\n",
            "Total cost for Workflow Sipht (uniform, size=80): 0.39354798901620713\n",
            "Total time for Workflow Sipht (uniform, size=80): 769.1162061583327\n",
            "Running simulation for Workflow: Sipht, Size: 90, Distribution: uniform\n",
            "numbers:  [4 4 4 0 2 1 1 1 4 2 0 2 0 4 3 0 1 2 2 4 0 1 4 4 3 2 1 3 2 0 0 0 2 0 1 1 4\n",
            " 3 0 0 3 1 4 0 1 4 1 4 1 3 3 1 1 1 4 1 3 3 1 1 3 2 3 2 4 0 1 0 0 1 3 0 0 2\n",
            " 1 1 2 3 4 1 1 0 4 4 2 0 0 0 1 2]\n",
            "Total cost for Workflow Sipht (uniform, size=90): 0.5215246800555589\n",
            "Total time for Workflow Sipht (uniform, size=90): 844.3550244083331\n",
            "Running simulation for Workflow: Sipht, Size: 100, Distribution: uniform\n",
            "numbers:  [1 4 3 3 3 0 2 3 2 1 1 4 3 0 0 4 4 0 3 0 0 1 1 3 2 3 2 4 1 2 2 2 2 3 1 1 3\n",
            " 2 4 4 2 3 0 0 2 0 1 2 2 3 3 3 2 0 4 2 1 1 3 2 4 1 3 1 0 2 4 0 2 0 0 0 4 2\n",
            " 4 2 0 4 4 1 0 2 0 0 2 0 2 2 4 1 4 2 4 3 0 3 4 2 1 0]\n",
            "Total cost for Workflow Sipht (uniform, size=100): 0.39278663404166986\n",
            "Total time for Workflow Sipht (uniform, size=100): 678.3030323416662\n"
          ]
        }
      ],
      "source": [
        "for i in range(1, 11):\n",
        "  run_simulation_with_results_tracking('Sipht',10*i, 'uniform', '/content/drive/My Drive/Zahra/Models/model_CyberShake_constant_10_cost.keras' )"
      ]
    },
    {
      "cell_type": "markdown",
      "metadata": {
        "id": "8h-h3V5w4NXP"
      },
      "source": [
        "## Inspiral - constant"
      ]
    },
    {
      "cell_type": "code",
      "execution_count": null,
      "metadata": {
        "colab": {
          "base_uri": "https://localhost:8080/"
        },
        "id": "dr-AgY2X4Vh8",
        "outputId": "e928989a-c169-4c3d-948f-e5689ff840ad"
      },
      "outputs": [
        {
          "output_type": "stream",
          "name": "stdout",
          "text": [
            "Running simulation for Workflow: Inspiral, Size: 10, Distribution: constant\n",
            "Total cost for Workflow Inspiral (constant, size=10): 0.021569551157407437\n",
            "Total time for Workflow Inspiral (constant, size=10): 70.9241191666667\n",
            "Running simulation for Workflow: Inspiral, Size: 20, Distribution: constant\n",
            "Total cost for Workflow Inspiral (constant, size=20): 0.04502972708333329\n",
            "Total time for Workflow Inspiral (constant, size=20): 87.40776833333331\n",
            "Running simulation for Workflow: Inspiral, Size: 30, Distribution: constant\n",
            "Total cost for Workflow Inspiral (constant, size=30): 0.06429393564814816\n",
            "Total time for Workflow Inspiral (constant, size=30): 115.83808499999994\n",
            "Running simulation for Workflow: Inspiral, Size: 40, Distribution: constant\n",
            "Total cost for Workflow Inspiral (constant, size=40): 0.08848960000000015\n",
            "Total time for Workflow Inspiral (constant, size=40): 130.75134333333335\n",
            "Running simulation for Workflow: Inspiral, Size: 50, Distribution: constant\n",
            "Total cost for Workflow Inspiral (constant, size=50): 0.10879253518518536\n",
            "Total time for Workflow Inspiral (constant, size=50): 154.76814666666655\n",
            "Running simulation for Workflow: Inspiral, Size: 60, Distribution: constant\n",
            "Total cost for Workflow Inspiral (constant, size=60): 0.12991900578703725\n",
            "Total time for Workflow Inspiral (constant, size=60): 170.62852250000012\n",
            "Running simulation for Workflow: Inspiral, Size: 70, Distribution: constant\n",
            "Total cost for Workflow Inspiral (constant, size=70): 0.15215227291666644\n",
            "Total time for Workflow Inspiral (constant, size=70): 192.9333250000001\n",
            "Running simulation for Workflow: Inspiral, Size: 80, Distribution: constant\n",
            "Total cost for Workflow Inspiral (constant, size=80): 0.18296899837962963\n",
            "Total time for Workflow Inspiral (constant, size=80): 202.98905333333346\n",
            "Running simulation for Workflow: Inspiral, Size: 90, Distribution: constant\n",
            "Total cost for Workflow Inspiral (constant, size=90): 0.19974989351851796\n",
            "Total time for Workflow Inspiral (constant, size=90): 228.30405916666692\n",
            "Running simulation for Workflow: Inspiral, Size: 100, Distribution: constant\n",
            "Total cost for Workflow Inspiral (constant, size=100): 0.21950958657407305\n",
            "Total time for Workflow Inspiral (constant, size=100): 246.56770750000032\n"
          ]
        }
      ],
      "source": [
        "for i in range(1, 11):\n",
        "  run_simulation_with_results_tracking('Inspiral',10*i, 'constant', '/content/drive/My Drive/Zahra/Models/model_CyberShake_constant_10_cost.keras' )"
      ]
    },
    {
      "cell_type": "markdown",
      "metadata": {
        "id": "YHOfdObx4fIx"
      },
      "source": [
        "## Inspiral - uniform"
      ]
    },
    {
      "cell_type": "code",
      "execution_count": null,
      "metadata": {
        "colab": {
          "base_uri": "https://localhost:8080/"
        },
        "id": "70ubjjbz4kR7",
        "outputId": "bc36d1b2-69f7-4629-dcf7-933cf49bd07a"
      },
      "outputs": [
        {
          "output_type": "stream",
          "name": "stdout",
          "text": [
            "Running simulation for Workflow: Inspiral, Size: 10, Distribution: uniform\n",
            "numbers:  [3 3 0 2 1 3 2 3 0 1]\n",
            "Total cost for Workflow Inspiral (uniform, size=10): 0.05622612430555548\n",
            "Total time for Workflow Inspiral (uniform, size=10): 293.9165574999999\n",
            "Running simulation for Workflow: Inspiral, Size: 20, Distribution: uniform\n",
            "numbers:  [0 1 1 3 2 2 2 0 3 0 1 3 3 2 3 2 3 2 1 2]\n",
            "Total cost for Workflow Inspiral (uniform, size=20): 0.09493351250000012\n",
            "Total time for Workflow Inspiral (uniform, size=20): 340.83687583333335\n",
            "Running simulation for Workflow: Inspiral, Size: 30, Distribution: uniform\n",
            "numbers:  [1 2 3 1 0 3 1 1 1 0 1 0 3 0 0 1 3 3 3 2 0 3 3 1 1 0 2 3 0 2]\n",
            "Total cost for Workflow Inspiral (uniform, size=30): 0.2128404407407413\n",
            "Total time for Workflow Inspiral (uniform, size=30): 436.1469675000001\n",
            "Running simulation for Workflow: Inspiral, Size: 40, Distribution: uniform\n",
            "numbers:  [1 2 2 3 2 2 3 0 0 3 1 2 1 3 3 0 2 1 1 3 2 0 2 2 0 3 1 3 2 0 0 1 1 1 3 0 2\n",
            " 1 3 3]\n",
            "Total cost for Workflow Inspiral (uniform, size=40): 0.2394448363425937\n",
            "Total time for Workflow Inspiral (uniform, size=40): 465.09861083333334\n",
            "Running simulation for Workflow: Inspiral, Size: 50, Distribution: uniform\n",
            "numbers:  [0 3 0 1 1 2 0 2 3 3 1 2 2 1 3 0 0 1 3 2 3 2 0 1 3 1 1 0 3 0 2 3 0 3 0 2 2\n",
            " 3 2 1 2 2 2 2 1 2 2 1 3 0]\n",
            "Total cost for Workflow Inspiral (uniform, size=50): 0.3286256849537022\n",
            "Total time for Workflow Inspiral (uniform, size=50): 500.2807900000009\n",
            "Running simulation for Workflow: Inspiral, Size: 60, Distribution: uniform\n",
            "numbers:  [3 0 0 2 2 1 1 0 1 3 0 1 2 2 3 2 0 3 3 2 1 1 0 2 3 3 0 1 0 1 0 1 0 1 2 2 0\n",
            " 2 0 1 1 0 2 0 1 2 0 1 3 2 0 2 3 1 0 1 2 3 2 0]\n",
            "Total cost for Workflow Inspiral (uniform, size=60): 0.49417215393518715\n",
            "Total time for Workflow Inspiral (uniform, size=60): 650.6477933333343\n",
            "Running simulation for Workflow: Inspiral, Size: 70, Distribution: uniform\n",
            "numbers:  [1 0 3 1 0 3 0 3 0 2 2 2 2 2 3 1 3 1 2 2 3 2 1 1 2 2 1 2 2 3 3 3 2 3 0 2 1\n",
            " 1 3 0 2 3 0 2 3 2 3 3 3 0 3 1 1 2 0 2 0 3 3 1 3 1 1 3 2 0 3 3 3 0]\n",
            "Total cost for Workflow Inspiral (uniform, size=70): 0.366066022916665\n",
            "Total time for Workflow Inspiral (uniform, size=70): 541.0240925000003\n",
            "Running simulation for Workflow: Inspiral, Size: 80, Distribution: uniform\n",
            "numbers:  [1 2 1 0 1 2 2 2 0 3 1 0 0 0 2 1 1 0 2 0 0 1 2 1 0 3 3 2 1 2 1 3 3 2 2 2 3\n",
            " 3 3 1 0 2 3 1 0 3 0 0 3 1 2 2 0 3 1 1 2 0 1 0 3 1 3 2 3 2 1 2 0 0 2 1 1 1\n",
            " 1 3 0 3 1 2]\n",
            "Total cost for Workflow Inspiral (uniform, size=80): 0.5420099898148185\n",
            "Total time for Workflow Inspiral (uniform, size=80): 685.7415791666666\n",
            "Running simulation for Workflow: Inspiral, Size: 90, Distribution: uniform\n",
            "numbers:  [3 2 3 0 0 3 0 3 1 0 0 0 3 1 3 3 2 2 0 1 1 1 1 0 2 1 0 0 2 0 1 0 3 2 1 2 0\n",
            " 2 3 0 2 2 3 1 3 1 0 1 3 2 2 1 3 2 3 3 1 1 1 1 2 3 1 3 2 1 3 1 2 3 3 1 3 0\n",
            " 3 3 3 1 3 0 2 1 1 0 1 2 1 1 2 0]\n",
            "Total cost for Workflow Inspiral (uniform, size=90): 0.5377293752314855\n",
            "Total time for Workflow Inspiral (uniform, size=90): 710.3970350000005\n",
            "Running simulation for Workflow: Inspiral, Size: 100, Distribution: uniform\n",
            "numbers:  [1 3 2 0 2 0 1 0 2 1 1 3 1 2 3 2 0 1 0 0 3 0 2 3 1 1 3 2 3 1 0 3 3 0 1 1 1\n",
            " 0 3 3 0 2 1 0 2 3 0 1 0 2 1 3 2 3 1 1 2 0 0 2 3 0 0 0 2 2 0 3 3 0 1 0 1 2\n",
            " 0 0 2 1 0 2 0 1 3 1 3 3 1 1 2 3 3 2 3 1 2 2 3 0 0 2]\n",
            "Total cost for Workflow Inspiral (uniform, size=100): 0.7497114641203815\n",
            "Total time for Workflow Inspiral (uniform, size=100): 888.1494450000014\n"
          ]
        }
      ],
      "source": [
        "for i in range(1, 11):\n",
        "  run_simulation_with_results_tracking('Inspiral',10*i, 'uniform', '/content/drive/My Drive/Zahra/Models/model_CyberShake_constant_10_cost.keras' )"
      ]
    }
  ],
  "metadata": {
    "colab": {
      "provenance": [],
      "include_colab_link": true
    },
    "kernelspec": {
      "display_name": "Python 3",
      "name": "python3"
    },
    "language_info": {
      "name": "python"
    }
  },
  "nbformat": 4,
  "nbformat_minor": 0
}