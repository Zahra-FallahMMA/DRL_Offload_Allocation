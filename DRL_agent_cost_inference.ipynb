{
  "cells": [
    {
      "cell_type": "markdown",
      "metadata": {
        "id": "view-in-github",
        "colab_type": "text"
      },
      "source": [
        "<a href=\"https://colab.research.google.com/github/Zahra-FallahMMA/DRL_Offload_Allocation/blob/main/DRL_agent_cost_inference.ipynb\" target=\"_parent\"><img src=\"https://colab.research.google.com/assets/colab-badge.svg\" alt=\"Open In Colab\"/></a>"
      ]
    },
    {
      "cell_type": "markdown",
      "metadata": {
        "id": "PcuUUZU1G5k4"
      },
      "source": [
        "# import Libraries"
      ]
    },
    {
      "cell_type": "code",
      "execution_count": null,
      "metadata": {
        "colab": {
          "base_uri": "https://localhost:8080/"
        },
        "id": "LIP4GlsbGwAx",
        "outputId": "9fe89578-5a9e-473a-d497-3442fc2640fd"
      },
      "outputs": [
        {
          "name": "stdout",
          "output_type": "stream",
          "text": [
            "Collecting simpy\n",
            "  Downloading simpy-4.1.1-py3-none-any.whl.metadata (6.1 kB)\n",
            "Downloading simpy-4.1.1-py3-none-any.whl (27 kB)\n",
            "Installing collected packages: simpy\n",
            "Successfully installed simpy-4.1.1\n"
          ]
        }
      ],
      "source": [
        "import xml.etree.ElementTree as ET\n",
        "from io import StringIO\n",
        "import os\n",
        "import re\n",
        "import numpy as np\n",
        "from collections import deque, defaultdict\n",
        "import random\n",
        "from keras.models import Sequential\n",
        "from keras.layers import Dense, Dropout\n",
        "from keras.optimizers import Adam\n",
        "from keras.models import load_model\n",
        "from itertools import product\n",
        "import tensorflow as tf\n",
        "!pip install simpy\n",
        "import simpy\n",
        "\n",
        "# Set TensorFlow logging level to suppress detailed logs\n",
        "os.environ['TF_CPP_MIN_LOG_LEVEL'] = '3'\n",
        "tf.get_logger().setLevel('ERROR')"
      ]
    },
    {
      "cell_type": "markdown",
      "metadata": {
        "id": "lCfIwrJDHK33"
      },
      "source": [
        "# Class DQNAgent"
      ]
    },
    {
      "cell_type": "code",
      "execution_count": null,
      "metadata": {
        "id": "qreTNfv_HP9X"
      },
      "outputs": [],
      "source": [
        "class DQNAgent:\n",
        "    def __init__(self, state_size, action_size, learning_rate=0.001, discount_factor=0.95, exploration_rate=1.0,\n",
        "                 exploration_decay=0.995, exploration_min=0.01, batch_size=64, memory_size=2000, model_path = None):\n",
        "        self.state_size = state_size\n",
        "        self.action_size = action_size\n",
        "        self.learning_rate = learning_rate\n",
        "        self.discount_factor = discount_factor\n",
        "        self.exploration_rate = exploration_rate\n",
        "        self.exploration_decay = exploration_decay\n",
        "        self.exploration_min = exploration_min\n",
        "        self.batch_size = batch_size\n",
        "        if model_path is not None:\n",
        "            self.model = load_model(model_path)\n",
        "        else:\n",
        "            self.model = self._build_model()\n",
        "\n",
        "    def _build_model(self):\n",
        "        model = Sequential()\n",
        "\n",
        "        # Input layer\n",
        "        model.add(Dense(128, input_dim=self.state_size, activation='relu'))\n",
        "        model.add(Dropout(0.4))  # Slightly reduced dropout to retain more information\n",
        "\n",
        "        # Hidden layers\n",
        "        model.add(Dense(128, activation='relu'))\n",
        "        model.add(Dropout(0.4))\n",
        "\n",
        "        model.add(Dense(64, activation='relu'))\n",
        "        model.add(Dropout(0.3))\n",
        "\n",
        "        # Output layer\n",
        "        model.add(Dense(self.action_size, activation='linear'))\n",
        "\n",
        "        # Compile the model with a custom learning rate scheduler\n",
        "        model.compile(optimizer=Adam(learning_rate=self.learning_rate), loss='mse')\n",
        "        return model\n",
        "\n",
        "    def choose_action(self, state):\n",
        "        if np.random.rand() <= self.exploration_rate:\n",
        "            return random.randrange(self.action_size)\n",
        "        state = np.array(state).reshape(1, -1)  # Ensure state is 2D\n",
        "        q_values = self.model.predict(state, verbose=0)\n",
        "        return np.argmax(q_values[0])\n",
        "\n",
        "    def save_model(self, path):\n",
        "        self.model.save(path)"
      ]
    },
    {
      "cell_type": "markdown",
      "metadata": {
        "id": "sc5cwMB6HUAZ"
      },
      "source": [
        "# class Task"
      ]
    },
    {
      "cell_type": "code",
      "execution_count": null,
      "metadata": {
        "id": "dWqg63i_HW5y"
      },
      "outputs": [],
      "source": [
        "class Task:\n",
        "    def __init__(self, id, instructions, workflow_id):\n",
        "        self.id = id\n",
        "        self.instructions = instructions  # Execution time or computational instructions\n",
        "        self.children = []  # List of tasks that depend on this task\n",
        "        self.parents = []  # List of tasks this task depends on\n",
        "\n",
        "        self.input_files = []   # list of (filename, size)\n",
        "        self.output_files = []  # list of (filename, size)\n",
        "\n",
        "        self.executed = False  # Status of execution\n",
        "        self.executed_on = None  # Node this task was executed on\n",
        "        self.execution_time = 0  # Time taken to execute the task\n",
        "        self.cost = 0  # Cost of executing the task\n",
        "        self.comm_delay = 0  # Communication delay in seconds\n",
        "        self.workflow_id = workflow_id  # Workflow identifier to which this task belongs\n",
        "        self.total_transfer_files_size = 0\n"
      ]
    },
    {
      "cell_type": "markdown",
      "metadata": {
        "id": "V6GeROhDHben"
      },
      "source": [
        "# Class Workflow"
      ]
    },
    {
      "cell_type": "code",
      "execution_count": null,
      "metadata": {
        "id": "l1dvEPosHyYn"
      },
      "outputs": [],
      "source": [
        "class Workflow:\n",
        "    def __init__(self, id):\n",
        "        self.id = id  # Workflow identifier\n",
        "        self.tasks = {}  # Dictionary of tasks in the workflow\n",
        "\n",
        "    def add_task(self, task_id, instructions, parent_ids=[], input_files=[], output_files=[]):\n",
        "        if task_id not in self.tasks:\n",
        "            self.tasks[task_id] = Task(task_id, instructions, self.id)\n",
        "        task = self.tasks[task_id]\n",
        "        for parent_id in parent_ids:\n",
        "            if parent_id not in self.tasks:\n",
        "                self.tasks[parent_id] = Task(parent_id, 0, self.id)\n",
        "            parent_task = self.tasks[parent_id]\n",
        "            parent_task.children.append(task)\n",
        "            task.parents.append(parent_task)\n",
        "\n",
        "        task.input_files.extend(input_files)\n",
        "        task.output_files.extend(output_files)"
      ]
    },
    {
      "cell_type": "markdown",
      "metadata": {
        "id": "sOhKq478H4_X"
      },
      "source": [
        "# class parse_dax"
      ]
    },
    {
      "cell_type": "code",
      "execution_count": null,
      "metadata": {
        "id": "92rkJc8AH3Bd"
      },
      "outputs": [],
      "source": [
        "def parse_dax(file_path, workflow_id):\n",
        "    tree = ET.parse(file_path)\n",
        "    root = tree.getroot()\n",
        "\n",
        "    workflow_id = workflow_id\n",
        "    workflow = Workflow(workflow_id)\n",
        "\n",
        "    # Pegasus DAX namespace\n",
        "    dax_ns = '{http://pegasus.isi.edu/schema/DAX}'\n",
        "\n",
        "    # Parse jobs\n",
        "    jobs = {job.attrib['id']: job for job in root.findall(f'{dax_ns}job')}\n",
        "\n",
        "    # Add jobs to workflow\n",
        "    for job_id, job_elem in jobs.items():\n",
        "        instructions = float(job_elem.attrib.get('runtime', 0))\n",
        "\n",
        "        # NEW: Gather input/output files from <uses link=\"input\" ...> or <uses link=\"output\" ...>\n",
        "        input_files = []\n",
        "        output_files = []\n",
        "        for uses_elem in job_elem.findall(f'.//{dax_ns}uses'):\n",
        "            link_type = uses_elem.attrib.get('link', '')\n",
        "            file_name = uses_elem.attrib.get('file', '')\n",
        "            file_size_str = uses_elem.attrib.get('size', '0')\n",
        "            file_size = int(file_size_str)\n",
        "\n",
        "            if link_type == 'input':\n",
        "                input_files.append((file_name, file_size))  # e.g. (\"FFI_0_2_subfx.sgt\", 262360916)\n",
        "            elif link_type == 'output':\n",
        "                output_files.append((file_name, file_size))\n",
        "\n",
        "        workflow.add_task(job_id,\n",
        "                          instructions,\n",
        "                          parent_ids=[],  # We'll handle parents in a moment,\n",
        "                          input_files=input_files,\n",
        "                          output_files=output_files)\n",
        "\n",
        "    # Parse dependencies\n",
        "    for child in root.findall(f'{dax_ns}child'):\n",
        "        child_id = child.attrib['ref']\n",
        "        parent_ids = [parent.attrib['ref'] for parent in child.findall(f'{dax_ns}parent')]\n",
        "        workflow.add_task(child_id, 0, parent_ids)  # Adds a child node with its parent nodes, setting instructions to 0 to avoid overwrite\n",
        "\n",
        "    return workflow\n",
        "\n",
        "\n",
        "def ensemble_of_workflows(name, size=10, distribution='constant', dax_path=''):\n",
        "    ws = []\n",
        "    ensemble = []\n",
        "    directory_path = dax_path  # Directory containing DAX files\n",
        "\n",
        "    # List and filter files in directory\n",
        "    files = os.listdir(directory_path)\n",
        "    filtered_files = [file for file in files if name in file]\n",
        "\n",
        "    if distribution == 'constant':\n",
        "        pattern = r'100(?!\\d)'\n",
        "        for s in filtered_files:\n",
        "            if re.search(pattern, s):\n",
        "                ensemble = [s] * size  # Replicate the matched file 'size' times\n",
        "                break\n",
        "    else:\n",
        "        numbers = np.random.randint(0, len(filtered_files), size)\n",
        "        ensemble = [filtered_files[i] for i in numbers]  # Select random files based on uniform distribution\n",
        "    w_id = 0\n",
        "    for name in ensemble:\n",
        "        ws.append(parse_dax(dax_path+name,w_id))\n",
        "        w_id = w_id + 1\n",
        "\n",
        "    return ws"
      ]
    },
    {
      "cell_type": "markdown",
      "metadata": {
        "id": "u8oPYhPOIF39"
      },
      "source": [
        "# Loading dax files"
      ]
    },
    {
      "cell_type": "code",
      "execution_count": null,
      "metadata": {
        "colab": {
          "base_uri": "https://localhost:8080/"
        },
        "id": "z69MgkfSH81N",
        "outputId": "e66f71b9-6fc8-4a18-d99f-b276e1a40a24"
      },
      "outputs": [
        {
          "name": "stdout",
          "output_type": "stream",
          "text": [
            "Mounted at /content/drive\n"
          ]
        }
      ],
      "source": [
        "from google.colab import drive\n",
        "import glob\n",
        "\n",
        "drive.mount('/content/drive')\n",
        "folder_path = '/content/drive/My Drive/Zahra/dax/'"
      ]
    },
    {
      "cell_type": "markdown",
      "metadata": {
        "id": "3x5Y4MN-IMLe"
      },
      "source": [
        "# class Device"
      ]
    },
    {
      "cell_type": "code",
      "execution_count": null,
      "metadata": {
        "id": "kK7fXmQeIPIW"
      },
      "outputs": [],
      "source": [
        "class Device:\n",
        "    def __init__(self, id, mips, cost_per_hour, env):\n",
        "        self.id = id\n",
        "        self.mips = mips\n",
        "        self.cost_per_hour = cost_per_hour\n",
        "        self.queue = deque()\n",
        "        self.runnig_queue = deque()\n",
        "        self.resource = simpy.Resource(env, capacity=1)\n",
        "\n",
        "    def add_task_to_queue(self, task):\n",
        "        self.queue.append(task)\n",
        "\n",
        "    def get_next_task(self):\n",
        "        return self.queue.popleft() if self.queue else None\n",
        "\n",
        "    def waiting_time(self):\n",
        "        waiting_time = 0\n",
        "        for t in self.queue:\n",
        "            waiting_time += t.instructions / self.mips\n",
        "        return waiting_time\n"
      ]
    },
    {
      "cell_type": "markdown",
      "metadata": {
        "id": "cUV48C7AImGY"
      },
      "source": [
        "# class FogEnv"
      ]
    },
    {
      "cell_type": "code",
      "execution_count": null,
      "metadata": {
        "id": "A8B_f_ZNIovb"
      },
      "outputs": [],
      "source": [
        "import simpy\n",
        "\n",
        "class FogEnv:\n",
        "    def __init__(self, env, iot_devices, fog_nodes, cloud_servers, workflows):\n",
        "        self.env = env\n",
        "        self.iot_devices = iot_devices\n",
        "        self.fog_nodes = fog_nodes\n",
        "        self.cloud_servers = cloud_servers\n",
        "        self.cost = 0\n",
        "        self.completed_workflows = 0\n",
        "        self.workflows = workflows\n",
        "        self.total_delay = 0\n",
        "\n",
        "        # NEW: Track file origins\n",
        "        self.file_origins = {}  # { file_name: device_id }\n",
        "\n",
        "        # Example bandwidth table (Mb/s)\n",
        "        self.bandwidth_matrix = {\n",
        "            ('iot', 'iot'): 2000,\n",
        "            ('iot', 'fog'): 500,\n",
        "            ('iot', 'cloud'): 500,\n",
        "            ('fog', 'iot'): 500,\n",
        "            ('fog', 'fog'): 4000,\n",
        "            ('fog', 'cloud'): 1000,\n",
        "            ('cloud', 'iot'): 500,\n",
        "            ('cloud', 'fog'): 1000,\n",
        "            ('cloud', 'cloud'): 1000\n",
        "        }\n",
        "\n",
        "    def assign_task(self, task, device):\n",
        "        with device.resource.request() as req:\n",
        "            yield req\n",
        "\n",
        "            # 1) Transfer each input file if needed\n",
        "            for file_name, file_size_bytes in task.input_files:\n",
        "                self.handle_file_transfer(task, file_name, file_size_bytes, device)\n",
        "                task.total_transfer_files_size += file_size_bytes\n",
        "\n",
        "            # 2) Execute the task on this device\n",
        "            execution_time = task.instructions / device.mips\n",
        "            self.total_delay += execution_time\n",
        "            task.execution_time = execution_time\n",
        "            yield self.env.timeout(execution_time)\n",
        "\n",
        "            # 3) Update cost\n",
        "            task.cost = execution_time * device.cost_per_hour\n",
        "            self.cost += task.cost\n",
        "            task.executed = True\n",
        "            task.executed_on = device.id\n",
        "            task.execution_time = execution_time\n",
        "\n",
        "            # 4) Mark output files as originating from this device\n",
        "            for out_file, _sz in task.output_files:\n",
        "                self.file_origins[out_file] = device.id\n",
        "\n",
        "            # 5) Check if this workflow is now complete\n",
        "            wf = next(w for w in self.workflows if w.id == task.workflow_id)\n",
        "            self.check_workflow_completion(wf)\n",
        "            device.queue.popleft()\n",
        "\n",
        "    # NEW: Function to handle transfer\n",
        "    def handle_file_transfer(self,task, file_name, file_size_bytes, destination_device):\n",
        "        # If we don't know the file origin, assume it's \"local\" or from some default place\n",
        "        if file_name not in self.file_origins:\n",
        "            return  # no transfer needed\n",
        "\n",
        "        source_dev_id = self.file_origins[file_name]\n",
        "        if source_dev_id == destination_device.id:\n",
        "            return  # already local\n",
        "\n",
        "        # Get device types for bandwidth lookup\n",
        "        source_dev = self.get_device_by_id(source_dev_id)\n",
        "        if source_dev is None:\n",
        "            return  # fallback: no known device\n",
        "\n",
        "        source_type = source_dev.dev_type\n",
        "        dest_type = destination_device.dev_type\n",
        "\n",
        "        # bandwidth_matrix gives us Mb/s. Convert bytes -> megabits\n",
        "        # 1 byte = 8 bits, so:\n",
        "        file_megabits = file_size_bytes * 8 / 1e6\n",
        "\n",
        "        # Look up or fallback\n",
        "        band_mbps = self.bandwidth_matrix.get((source_type, dest_type), 1000.0)\n",
        "\n",
        "        # Transfer time (seconds)\n",
        "        transfer_time = file_megabits / band_mbps\n",
        "\n",
        "        # Optional: add base communication latency\n",
        "        comm_latency = 0.01  # 10 ms, for example\n",
        "        total_delay = comm_latency + transfer_time\n",
        "        self.total_delay += total_delay\n",
        "        task.comm_delay = total_delay\n",
        "\n",
        "        # Wait out the transfer in simulation time\n",
        "        yield self.env.timeout(total_delay)\n",
        "\n",
        "    def get_state(self, task):\n",
        "        return [self.cost] + [d.waiting_time() for d in self.iot_devices + self.fog_nodes + self.cloud_servers] + [task.instructions, task.cost]\n",
        "\n",
        "    def get_device_by_id(self, device_id):\n",
        "        for device in self.iot_devices + self.fog_nodes + self.cloud_servers:\n",
        "            if device.id == device_id:\n",
        "                return device\n",
        "        return None\n",
        "\n",
        "    def check_workflow_completion(self, workflow):\n",
        "        # Check if all tasks in the workflow are executed\n",
        "        if all(task.executed for task in workflow.tasks.values()):\n",
        "            self.completed_workflows += 1  # Increment completed workflows counter\n",
        "            # print(f\"Workflow {workflow.id} is completed! Total completed workflows: {self.completed_workflows}\")\n",
        "\n",
        "\n",
        "\n",
        "\n",
        "\n",
        "def process_workflow(env, workflow, fog_env, agent):\n",
        "      while(True):\n",
        "        if all([task.executed for task in workflow.tasks.values()]):\n",
        "          break\n",
        "        for task in workflow.tasks.values():\n",
        "            if task.executed:\n",
        "              continue\n",
        "            if all([parent.executed for parent in task.parents]) or task.parents == []:\n",
        "                state = np.array(fog_env.get_state(task)).reshape(1, -1)\n",
        "                action = agent.choose_action(state)\n",
        "                devices = fog_env.iot_devices + fog_env.fog_nodes + fog_env.cloud_servers\n",
        "                device = devices[action]\n",
        "                device.add_task_to_queue(task)\n",
        "                task.executed_on = device.id\n",
        "                yield env.process(fog_env.assign_task(task, device))"
      ]
    },
    {
      "cell_type": "markdown",
      "metadata": {
        "id": "Swj5rrsAJZV8"
      },
      "source": [
        "# class NewSim\n",
        "\n"
      ]
    },
    {
      "cell_type": "code",
      "execution_count": null,
      "metadata": {
        "id": "SB2sfq22JcBF"
      },
      "outputs": [],
      "source": [
        "class  NewSim:\n",
        "    def __init__(self, num_iot, num_fog, num_server, learning_rate=0.001, discount_factor=0.95,\n",
        "                 exploration_rate=1.0, exploration_decay=0.995, exploration_min=0.01, batch_size=64, memory_size=2000, model_path=None):\n",
        "        self.num_iot = num_iot\n",
        "        self.num_fog = num_fog\n",
        "        self.num_server = num_server\n",
        "        self.num_totla_dev = num_iot + num_fog + num_server\n",
        "        self.learning_rate = learning_rate\n",
        "        self.discount_factor = discount_factor\n",
        "        self.exploration_rate = exploration_rate\n",
        "        self.exploration_decay = exploration_decay\n",
        "        self.exploration_min = exploration_min\n",
        "        self.batch_size = batch_size\n",
        "        self.memory_size = memory_size\n",
        "        self.model_path = model_path\n",
        "        self.env = simpy.Environment()\n",
        "        self.reset()\n",
        "        self.run()\n",
        "\n",
        "    def reset(self):\n",
        "        self.iot_devices = [Device(f'iot_{i}', 500, 0, self.env) for i in range(self.num_iot)]\n",
        "        self.fog_devices = [Device(f'fog_{i}', 4000, 1/3600, self.env) for i in range(self.num_fog)]\n",
        "        self.server_devices = [Device(f'server_{i}', 6000, 8/3600, self.env) for i in range(self.num_server)]\n",
        "        self.agent = DQNAgent(state_size=3+self.num_totla_dev, action_size=self.num_totla_dev, learning_rate=self.learning_rate, discount_factor=self.discount_factor,\n",
        "                                  exploration_rate=self.exploration_rate, exploration_decay=self.exploration_decay,\n",
        "                                  exploration_min=self.exploration_min, batch_size=self.batch_size, memory_size=self.memory_size, model_path = self.model_path)\n",
        "\n",
        "        self.workflows = ensemble_of_workflows(name = 'CyberShake', size=100, distribution = 'constant', dax_path=\"/content/drive/My Drive/Zahra/dax/\")\n",
        "    def run(self):\n",
        "        self.fog_env = FogEnv(self.env, self.iot_devices, self.fog_devices, self.server_devices,self.workflows)\n",
        "        for workflow in self.workflows:\n",
        "            self.env.process(process_workflow(self.env, workflow, self.fog_env, self.agent))\n",
        "\n",
        "        self.env.run()  # Run simulation for a time period\n"
      ]
    },
    {
      "cell_type": "markdown",
      "metadata": {
        "id": "8m16rQswH07A"
      },
      "source": [
        "# Data Collection\n"
      ]
    },
    {
      "cell_type": "markdown",
      "metadata": {
        "id": "pRiUawjwavRO"
      },
      "source": [
        "## The Config of Workflows"
      ]
    },
    {
      "cell_type": "code",
      "execution_count": null,
      "metadata": {
        "id": "pi6ASMtxau1Y"
      },
      "outputs": [],
      "source": [
        "# Workflow configurations with specific sizes\n",
        "workflow_configs = {\n",
        "        'CyberShake': [30, 50, 100, 1000],\n",
        "        'Montage': [20, 40, 60, 80, 100, 200, 300],\n",
        "        'Inspiral': [30, 50, 100, 1000],\n",
        "        'Sipht': [29, 58, 100, 968]\n",
        "    }\n",
        "workflow_distributions = ['constant', 'uniform']"
      ]
    },
    {
      "cell_type": "code",
      "execution_count": null,
      "metadata": {
        "id": "BrXkI2OeLjOO"
      },
      "outputs": [],
      "source": [
        "def run_simulation_with_results_tracking(workflow_name, workflow_size, workflow_distribution, model_path):\n",
        "    learning_rate = 0.001\n",
        "    discount_factor = 0.99\n",
        "    exploration_rate = 0.5\n",
        "    exploration_decay = 0.995\n",
        "    exploration_min = 0.05\n",
        "\n",
        "    dax_path = \"/content/drive/My Drive/Zahra/dax/\"\n",
        "\n",
        "    print(f\"Running simulation for Workflow: {workflow_name}, Size: {workflow_size}, Distribution: {workflow_distribution}\")\n",
        "\n",
        "    # Set up the simulation with the current parameters\n",
        "    simulation = NewSim(\n",
        "        num_iot=10,\n",
        "        num_fog=8,\n",
        "        num_server=5,\n",
        "        learning_rate=learning_rate,\n",
        "        discount_factor=discount_factor,\n",
        "        exploration_rate=exploration_rate,\n",
        "        exploration_decay=exploration_decay,\n",
        "        exploration_min=exploration_min,\n",
        "        model_path = model_path\n",
        "    )\n",
        "\n",
        "    # Update the workflow parameters\n",
        "    simulation.workflows = ensemble_of_workflows(\n",
        "        name=workflow_name,\n",
        "        size=workflow_size,\n",
        "        distribution=workflow_distribution,\n",
        "        dax_path=dax_path\n",
        "    )\n",
        "\n",
        "    # Run the simulation\n",
        "    simulation.run()\n",
        "\n",
        "    # Print results for current run\n",
        "    print(f\"Total cost for Workflow {workflow_name} ({workflow_distribution}, size={workflow_size}): {simulation.fog_env.cost}\")\n",
        "    print(f\"Total time for Workflow {workflow_name} ({workflow_distribution}, size={workflow_size}): {simulation.env.now}\")\n",
        "\n",
        "\n"
      ]
    },
    {
      "cell_type": "markdown",
      "metadata": {
        "id": "lLU8FKZT2elj"
      },
      "source": [
        "# Results"
      ]
    },
    {
      "cell_type": "markdown",
      "metadata": {
        "id": "_XeITaLMw79l"
      },
      "source": [
        "## Cybershake - constant"
      ]
    },
    {
      "cell_type": "code",
      "execution_count": null,
      "metadata": {
        "colab": {
          "background_save": true,
          "base_uri": "https://localhost:8080/"
        },
        "id": "D6NHXFqyw2Oz",
        "outputId": "094f60b7-5c6f-4b08-ed02-59eda4702e49"
      },
      "outputs": [
        {
          "name": "stdout",
          "output_type": "stream",
          "text": [
            "Running simulation for Workflow: CyberShake, Size: 10, Distribution: constant\n",
            "Total cost for Workflow CyberShake (constant, size=10): 0.002664614583333338\n",
            "Total time for Workflow CyberShake (constant, size=10): 46.813854999999414\n",
            "Running simulation for Workflow: CyberShake, Size: 20, Distribution: constant\n",
            "Total cost for Workflow CyberShake (constant, size=20): 0.005385139583333338\n",
            "Total time for Workflow CyberShake (constant, size=20): 50.67137583333272\n",
            "Running simulation for Workflow: CyberShake, Size: 30, Distribution: constant\n",
            "Total cost for Workflow CyberShake (constant, size=30): 0.008646326851851863\n",
            "Total time for Workflow CyberShake (constant, size=30): 55.060958333332735\n",
            "Running simulation for Workflow: CyberShake, Size: 40, Distribution: constant\n",
            "Total cost for Workflow CyberShake (constant, size=40): 0.011391696296296352\n",
            "Total time for Workflow CyberShake (constant, size=40): 59.72076999999942\n",
            "Running simulation for Workflow: CyberShake, Size: 50, Distribution: constant\n",
            "Total cost for Workflow CyberShake (constant, size=50): 0.013866468981481582\n",
            "Total time for Workflow CyberShake (constant, size=50): 63.58388999999945\n",
            "Running simulation for Workflow: CyberShake, Size: 60, Distribution: constant\n",
            "Total cost for Workflow CyberShake (constant, size=60): 0.016351324768518527\n",
            "Total time for Workflow CyberShake (constant, size=60): 68.21712500000044\n",
            "Running simulation for Workflow: CyberShake, Size: 70, Distribution: constant\n",
            "Total cost for Workflow CyberShake (constant, size=70): 0.019780837268518432\n",
            "Total time for Workflow CyberShake (constant, size=70): 71.0933950000006\n",
            "Running simulation for Workflow: CyberShake, Size: 80, Distribution: constant\n",
            "Total cost for Workflow CyberShake (constant, size=80): 0.02209320949074065\n",
            "Total time for Workflow CyberShake (constant, size=80): 75.81473583333384\n",
            "Running simulation for Workflow: CyberShake, Size: 90, Distribution: constant\n",
            "Total cost for Workflow CyberShake (constant, size=90): 0.025291808333333256\n",
            "Total time for Workflow CyberShake (constant, size=90): 81.27678750000125\n",
            "Running simulation for Workflow: CyberShake, Size: 100, Distribution: constant\n",
            "Total cost for Workflow CyberShake (constant, size=100): 0.028243550231481254\n",
            "Total time for Workflow CyberShake (constant, size=100): 83.56001166666836\n"
          ]
        }
      ],
      "source": [
        "for i in range(1, 11):\n",
        "  run_simulation_with_results_tracking('CyberShake',10*i, 'constant', '/content/drive/My Drive/Zahra/Models/model_CyberShake_constant_10_cost.keras' )"
      ]
    },
    {
      "cell_type": "markdown",
      "metadata": {
        "id": "gR0TdNcs1qHQ"
      },
      "source": [
        "## Cybershake - uniform"
      ]
    },
    {
      "cell_type": "code",
      "execution_count": null,
      "metadata": {
        "colab": {
          "background_save": true,
          "base_uri": "https://localhost:8080/"
        },
        "id": "wDrLPm5E2BMz",
        "outputId": "04de622a-016e-4a3e-ffa2-0475691c1205"
      },
      "outputs": [
        {
          "name": "stdout",
          "output_type": "stream",
          "text": [
            "Running simulation for Workflow: CyberShake, Size: 10, Distribution: uniform\n",
            "Total cost for Workflow CyberShake (uniform, size=10): 0.0072710087962963065\n",
            "Total time for Workflow CyberShake (uniform, size=10): 62.85784333333267\n",
            "Running simulation for Workflow: CyberShake, Size: 20, Distribution: uniform\n",
            "Total cost for Workflow CyberShake (uniform, size=20): 0.009708684953703695\n",
            "Total time for Workflow CyberShake (uniform, size=20): 64.87280999999955\n",
            "Running simulation for Workflow: CyberShake, Size: 30, Distribution: uniform\n",
            "Total cost for Workflow CyberShake (uniform, size=30): 0.011015264120370382\n",
            "Total time for Workflow CyberShake (uniform, size=30): 67.11173583333303\n",
            "Running simulation for Workflow: CyberShake, Size: 40, Distribution: uniform\n",
            "Total cost for Workflow CyberShake (uniform, size=40): 0.026068413425925818\n",
            "Total time for Workflow CyberShake (uniform, size=40): 83.44226333333341\n",
            "Running simulation for Workflow: CyberShake, Size: 50, Distribution: uniform\n",
            "Total cost for Workflow CyberShake (uniform, size=50): 0.019951991898148107\n",
            "Total time for Workflow CyberShake (uniform, size=50): 76.28737916666654\n",
            "Running simulation for Workflow: CyberShake, Size: 60, Distribution: uniform\n",
            "Total cost for Workflow CyberShake (uniform, size=60): 0.03005338402777754\n",
            "Total time for Workflow CyberShake (uniform, size=60): 90.52000083333314\n",
            "Running simulation for Workflow: CyberShake, Size: 70, Distribution: uniform\n",
            "Total cost for Workflow CyberShake (uniform, size=70): 0.04929933703703755\n",
            "Total time for Workflow CyberShake (uniform, size=70): 114.87411916666704\n",
            "Running simulation for Workflow: CyberShake, Size: 80, Distribution: uniform\n",
            "Total cost for Workflow CyberShake (uniform, size=80): 0.05001158101851945\n",
            "Total time for Workflow CyberShake (uniform, size=80): 115.55261000000075\n",
            "Running simulation for Workflow: CyberShake, Size: 90, Distribution: uniform\n",
            "Total cost for Workflow CyberShake (uniform, size=90): 0.04865861481481524\n",
            "Total time for Workflow CyberShake (uniform, size=90): 112.72006166666823\n",
            "Running simulation for Workflow: CyberShake, Size: 100, Distribution: uniform\n",
            "Total cost for Workflow CyberShake (uniform, size=100): 0.0617606800925932\n",
            "Total time for Workflow CyberShake (uniform, size=100): 134.23499583333623\n"
          ]
        }
      ],
      "source": [
        "for i in range(1, 11):\n",
        "  run_simulation_with_results_tracking('CyberShake',10*i, 'uniform', '/content/drive/My Drive/Zahra/Models/model_CyberShake_constant_10_cost.keras' )"
      ]
    },
    {
      "cell_type": "markdown",
      "metadata": {
        "id": "xmy3_T952Yuk"
      },
      "source": [
        "## Montage - constant"
      ]
    },
    {
      "cell_type": "code",
      "execution_count": null,
      "metadata": {
        "colab": {
          "base_uri": "https://localhost:8080/"
        },
        "id": "h1i-P0kL2pjV",
        "outputId": "8178343a-51fa-4b34-8716-1f25fc31f717"
      },
      "outputs": [
        {
          "name": "stdout",
          "output_type": "stream",
          "text": [
            "Running simulation for Workflow: Montage, Size: 10, Distribution: constant\n",
            "Total cost for Workflow Montage (constant, size=10): 0.0009048701388888907\n",
            "Total time for Workflow Montage (constant, size=10): 44.728559999999455\n",
            "Running simulation for Workflow: Montage, Size: 20, Distribution: constant\n",
            "Total cost for Workflow Montage (constant, size=20): 0.0018953946759259163\n",
            "Total time for Workflow Montage (constant, size=20): 45.146189166666076\n",
            "Running simulation for Workflow: Montage, Size: 30, Distribution: constant\n",
            "Total cost for Workflow Montage (constant, size=30): 0.002775119212962956\n",
            "Total time for Workflow Montage (constant, size=30): 46.06089749999975\n",
            "Running simulation for Workflow: Montage, Size: 40, Distribution: constant\n",
            "Total cost for Workflow Montage (constant, size=40): 0.003789247453703693\n",
            "Total time for Workflow Montage (constant, size=40): 48.295861666666354\n",
            "Running simulation for Workflow: Montage, Size: 50, Distribution: constant\n",
            "Total cost for Workflow Montage (constant, size=50): 0.004757227314814809\n",
            "Total time for Workflow Montage (constant, size=50): 49.39468166666653\n",
            "Running simulation for Workflow: Montage, Size: 60, Distribution: constant\n",
            "Total cost for Workflow Montage (constant, size=60): 0.00561004791666662\n",
            "Total time for Workflow Montage (constant, size=60): 50.720467499999614\n",
            "Running simulation for Workflow: Montage, Size: 70, Distribution: constant\n",
            "Total cost for Workflow Montage (constant, size=70): 0.0065615474537037\n",
            "Total time for Workflow Montage (constant, size=70): 52.12576500000011\n",
            "Running simulation for Workflow: Montage, Size: 80, Distribution: constant\n",
            "Total cost for Workflow Montage (constant, size=80): 0.007508931712962947\n",
            "Total time for Workflow Montage (constant, size=80): 55.03795499999992\n",
            "Running simulation for Workflow: Montage, Size: 90, Distribution: constant\n",
            "Total cost for Workflow Montage (constant, size=90): 0.008394767361111057\n",
            "Total time for Workflow Montage (constant, size=90): 55.26404416666671\n",
            "Running simulation for Workflow: Montage, Size: 100, Distribution: constant\n",
            "Total cost for Workflow Montage (constant, size=100): 0.00929267245370377\n",
            "Total time for Workflow Montage (constant, size=100): 57.135964166666724\n"
          ]
        }
      ],
      "source": [
        "for i in range(1, 11):\n",
        "  run_simulation_with_results_tracking('Montage',10*i, 'constant', '/content/drive/My Drive/Zahra/Models/model_CyberShake_constant_10_cost.keras' )"
      ]
    },
    {
      "cell_type": "markdown",
      "metadata": {
        "id": "Lpvpbfmr2_9M"
      },
      "source": [
        "## Montage - uniform"
      ]
    },
    {
      "cell_type": "code",
      "execution_count": null,
      "metadata": {
        "colab": {
          "base_uri": "https://localhost:8080/"
        },
        "id": "5j7GJQun3GTh",
        "outputId": "ed0aea13-2086-483d-cabd-f36ff5682ebb"
      },
      "outputs": [
        {
          "name": "stdout",
          "output_type": "stream",
          "text": [
            "Running simulation for Workflow: Montage, Size: 10, Distribution: uniform\n",
            "Total cost for Workflow Montage (uniform, size=10): 0.0009913289351851848\n",
            "Total time for Workflow Montage (uniform, size=10): 43.7207116666662\n",
            "Running simulation for Workflow: Montage, Size: 20, Distribution: uniform\n",
            "Total cost for Workflow Montage (uniform, size=20): 0.001758653935185175\n",
            "Total time for Workflow Montage (uniform, size=20): 45.43997916666616\n",
            "Running simulation for Workflow: Montage, Size: 30, Distribution: uniform\n",
            "Total cost for Workflow Montage (uniform, size=30): 0.002645554861111101\n",
            "Total time for Workflow Montage (uniform, size=30): 47.04092249999955\n",
            "Running simulation for Workflow: Montage, Size: 40, Distribution: uniform\n",
            "Total cost for Workflow Montage (uniform, size=40): 0.003987087037037031\n",
            "Total time for Workflow Montage (uniform, size=40): 49.154427499999514\n",
            "Running simulation for Workflow: Montage, Size: 50, Distribution: uniform\n",
            "Total cost for Workflow Montage (uniform, size=50): 0.005037953240740726\n",
            "Total time for Workflow Montage (uniform, size=50): 50.21269166666648\n",
            "Running simulation for Workflow: Montage, Size: 60, Distribution: uniform\n",
            "Total cost for Workflow Montage (uniform, size=60): 0.007246396527777839\n",
            "Total time for Workflow Montage (uniform, size=60): 53.699869166666545\n",
            "Running simulation for Workflow: Montage, Size: 70, Distribution: uniform\n",
            "Total cost for Workflow Montage (uniform, size=70): 0.008607061342592686\n",
            "Total time for Workflow Montage (uniform, size=70): 56.270942500000054\n",
            "Running simulation for Workflow: Montage, Size: 80, Distribution: uniform\n",
            "Total cost for Workflow Montage (uniform, size=80): 0.008372074537037118\n",
            "Total time for Workflow Montage (uniform, size=80): 56.11931166666658\n",
            "Running simulation for Workflow: Montage, Size: 90, Distribution: uniform\n",
            "Total cost for Workflow Montage (uniform, size=90): 0.009064528009259342\n",
            "Total time for Workflow Montage (uniform, size=90): 55.54202333333339\n",
            "Running simulation for Workflow: Montage, Size: 100, Distribution: uniform\n",
            "Total cost for Workflow Montage (uniform, size=100): 0.010133800231481548\n",
            "Total time for Workflow Montage (uniform, size=100): 57.38505083333342\n"
          ]
        }
      ],
      "source": [
        "for i in range(1, 11):\n",
        "  run_simulation_with_results_tracking('Montage',10*i, 'uniform', '/content/drive/My Drive/Zahra/Models/model_CyberShake_constant_10_cost.keras' )"
      ]
    },
    {
      "cell_type": "markdown",
      "metadata": {
        "id": "WWpstixI3WNq"
      },
      "source": [
        "## Sipht - constant"
      ]
    },
    {
      "cell_type": "code",
      "execution_count": null,
      "metadata": {
        "colab": {
          "base_uri": "https://localhost:8080/"
        },
        "id": "AngfK6hh3bOO",
        "outputId": "e56b9ebb-ae5c-49cc-85fe-831e07181f72"
      },
      "outputs": [
        {
          "name": "stdout",
          "output_type": "stream",
          "text": [
            "Running simulation for Workflow: Sipht, Size: 10, Distribution: constant\n",
            "Total cost for Workflow Sipht (constant, size=10): 0.01922214177546299\n",
            "Total time for Workflow Sipht (constant, size=10): 71.24770128333293\n",
            "Running simulation for Workflow: Sipht, Size: 20, Distribution: constant\n",
            "Total cost for Workflow Sipht (constant, size=20): 0.0356397205972223\n",
            "Total time for Workflow Sipht (constant, size=20): 96.2186415583332\n",
            "Running simulation for Workflow: Sipht, Size: 30, Distribution: constant\n",
            "Total cost for Workflow Sipht (constant, size=30): 0.04992042037268531\n",
            "Total time for Workflow Sipht (constant, size=30): 111.44615106666664\n",
            "Running simulation for Workflow: Sipht, Size: 40, Distribution: constant\n",
            "Total cost for Workflow Sipht (constant, size=40): 0.0623345361435185\n",
            "Total time for Workflow Sipht (constant, size=40): 137.92299882499984\n",
            "Running simulation for Workflow: Sipht, Size: 50, Distribution: constant\n",
            "Total cost for Workflow Sipht (constant, size=50): 0.07790149988888842\n",
            "Total time for Workflow Sipht (constant, size=50): 158.0329320416654\n",
            "Running simulation for Workflow: Sipht, Size: 60, Distribution: constant\n",
            "Total cost for Workflow Sipht (constant, size=60): 0.0966017440856469\n",
            "Total time for Workflow Sipht (constant, size=60): 193.653308074999\n",
            "Running simulation for Workflow: Sipht, Size: 70, Distribution: constant\n",
            "Total cost for Workflow Sipht (constant, size=70): 0.10833369391434983\n",
            "Total time for Workflow Sipht (constant, size=70): 196.98099016666598\n",
            "Running simulation for Workflow: Sipht, Size: 80, Distribution: constant\n",
            "Total cost for Workflow Sipht (constant, size=80): 0.12318205952777504\n",
            "Total time for Workflow Sipht (constant, size=80): 217.67014176666555\n",
            "Running simulation for Workflow: Sipht, Size: 90, Distribution: constant\n",
            "Total cost for Workflow Sipht (constant, size=90): 0.14570859620138404\n",
            "Total time for Workflow Sipht (constant, size=90): 237.073844225\n",
            "Running simulation for Workflow: Sipht, Size: 100, Distribution: constant\n",
            "Total cost for Workflow Sipht (constant, size=100): 0.15074389197684607\n",
            "Total time for Workflow Sipht (constant, size=100): 263.76698928333343\n"
          ]
        }
      ],
      "source": [
        "for i in range(1, 11):\n",
        "  run_simulation_with_results_tracking('Sipht',10*i, 'constant', '/content/drive/My Drive/Zahra/Models/model_CyberShake_constant_10_cost.keras' )"
      ]
    },
    {
      "cell_type": "markdown",
      "metadata": {
        "id": "D81dg-wV3rJ3"
      },
      "source": [
        "## Sipht - uniform"
      ]
    },
    {
      "cell_type": "code",
      "execution_count": null,
      "metadata": {
        "colab": {
          "background_save": true,
          "base_uri": "https://localhost:8080/"
        },
        "id": "77roJqmI3vhj",
        "outputId": "45ac79ce-4324-4f44-99ef-ec82d00cfbe0"
      },
      "outputs": [
        {
          "name": "stdout",
          "output_type": "stream",
          "text": [
            "Running simulation for Workflow: Sipht, Size: 10, Distribution: uniform\n",
            "Total cost for Workflow Sipht (uniform, size=10): 0.020513466546296318\n",
            "Total time for Workflow Sipht (uniform, size=10): 158.51422369166642\n",
            "Running simulation for Workflow: Sipht, Size: 20, Distribution: uniform\n",
            "Total cost for Workflow Sipht (uniform, size=20): 0.01583474960648147\n",
            "Total time for Workflow Sipht (uniform, size=20): 84.99369159166635\n",
            "Running simulation for Workflow: Sipht, Size: 30, Distribution: uniform\n",
            "Total cost for Workflow Sipht (uniform, size=30): 0.12052681411574083\n",
            "Total time for Workflow Sipht (uniform, size=30): 320.41795684166624\n",
            "Running simulation for Workflow: Sipht, Size: 40, Distribution: uniform\n",
            "Total cost for Workflow Sipht (uniform, size=40): 0.12935208287731526\n",
            "Total time for Workflow Sipht (uniform, size=40): 327.849485866666\n",
            "Running simulation for Workflow: Sipht, Size: 50, Distribution: uniform\n",
            "Total cost for Workflow Sipht (uniform, size=50): 0.16927392703703525\n",
            "Total time for Workflow Sipht (uniform, size=50): 379.2295179499995\n",
            "Running simulation for Workflow: Sipht, Size: 60, Distribution: uniform\n",
            "Total cost for Workflow Sipht (uniform, size=60): 0.18767171204629415\n",
            "Total time for Workflow Sipht (uniform, size=60): 377.7015708499983\n",
            "Running simulation for Workflow: Sipht, Size: 70, Distribution: uniform\n",
            "Total cost for Workflow Sipht (uniform, size=70): 0.19319108190740472\n",
            "Total time for Workflow Sipht (uniform, size=70): 426.36890089999645\n",
            "Running simulation for Workflow: Sipht, Size: 80, Distribution: uniform\n",
            "Total cost for Workflow Sipht (uniform, size=80): 0.260965352025459\n",
            "Total time for Workflow Sipht (uniform, size=80): 481.5773311583325\n",
            "Running simulation for Workflow: Sipht, Size: 90, Distribution: uniform\n",
            "Total cost for Workflow Sipht (uniform, size=90): 0.3327008793449102\n",
            "Total time for Workflow Sipht (uniform, size=90): 605.9743805749957\n",
            "Running simulation for Workflow: Sipht, Size: 100, Distribution: uniform\n",
            "Total cost for Workflow Sipht (uniform, size=100): 0.5155795480555632\n",
            "Total time for Workflow Sipht (uniform, size=100): 851.4190018333194\n"
          ]
        }
      ],
      "source": [
        "for i in range(1, 11):\n",
        "  run_simulation_with_results_tracking('Sipht',10*i, 'uniform', '/content/drive/My Drive/Zahra/Models/model_CyberShake_constant_10_cost.keras' )"
      ]
    },
    {
      "cell_type": "markdown",
      "metadata": {
        "id": "8h-h3V5w4NXP"
      },
      "source": [
        "## Inspiral - constant"
      ]
    },
    {
      "cell_type": "code",
      "execution_count": null,
      "metadata": {
        "colab": {
          "background_save": true,
          "base_uri": "https://localhost:8080/"
        },
        "id": "dr-AgY2X4Vh8",
        "outputId": "4dc08886-b488-40c8-b015-567c4347e7e3"
      },
      "outputs": [
        {
          "name": "stdout",
          "output_type": "stream",
          "text": [
            "Running simulation for Workflow: Inspiral, Size: 10, Distribution: constant\n",
            "Total cost for Workflow Inspiral (constant, size=10): 0.0193124217592593\n",
            "Total time for Workflow Inspiral (constant, size=10): 68.76886083333274\n",
            "Running simulation for Workflow: Inspiral, Size: 20, Distribution: constant\n",
            "Total cost for Workflow Inspiral (constant, size=20): 0.03517783032407392\n",
            "Total time for Workflow Inspiral (constant, size=20): 97.22700499999908\n",
            "Running simulation for Workflow: Inspiral, Size: 30, Distribution: constant\n",
            "Total cost for Workflow Inspiral (constant, size=30): 0.05737474652777758\n",
            "Total time for Workflow Inspiral (constant, size=30): 131.98726416666543\n",
            "Running simulation for Workflow: Inspiral, Size: 40, Distribution: constant\n",
            "Total cost for Workflow Inspiral (constant, size=40): 0.07440021666666663\n",
            "Total time for Workflow Inspiral (constant, size=40): 150.61606416666626\n",
            "Running simulation for Workflow: Inspiral, Size: 50, Distribution: constant\n",
            "Total cost for Workflow Inspiral (constant, size=50): 0.09052186597222243\n",
            "Total time for Workflow Inspiral (constant, size=50): 181.29914000000016\n",
            "Running simulation for Workflow: Inspiral, Size: 60, Distribution: constant\n",
            "Total cost for Workflow Inspiral (constant, size=60): 0.11042686342592667\n",
            "Total time for Workflow Inspiral (constant, size=60): 206.24811250000013\n",
            "Running simulation for Workflow: Inspiral, Size: 70, Distribution: constant\n",
            "Total cost for Workflow Inspiral (constant, size=70): 0.12471416180555668\n",
            "Total time for Workflow Inspiral (constant, size=70): 232.88445166666588\n",
            "Running simulation for Workflow: Inspiral, Size: 80, Distribution: constant\n",
            "Total cost for Workflow Inspiral (constant, size=80): 0.1489349395833328\n",
            "Total time for Workflow Inspiral (constant, size=80): 263.25607583333164\n",
            "Running simulation for Workflow: Inspiral, Size: 90, Distribution: constant\n",
            "Total cost for Workflow Inspiral (constant, size=90): 0.16453888217592424\n",
            "Total time for Workflow Inspiral (constant, size=90): 295.70133499999514\n",
            "Running simulation for Workflow: Inspiral, Size: 100, Distribution: constant\n",
            "Total cost for Workflow Inspiral (constant, size=100): 0.1779960497685163\n",
            "Total time for Workflow Inspiral (constant, size=100): 320.1619833333272\n"
          ]
        }
      ],
      "source": [
        "for i in range(1, 11):\n",
        "  run_simulation_with_results_tracking('Inspiral',10*i, 'constant', '/content/drive/My Drive/Zahra/Models/model_CyberShake_constant_10_cost.keras' )"
      ]
    },
    {
      "cell_type": "markdown",
      "metadata": {
        "id": "YHOfdObx4fIx"
      },
      "source": [
        "## Inspiral - uniform"
      ]
    },
    {
      "cell_type": "code",
      "execution_count": 15,
      "metadata": {
        "colab": {
          "base_uri": "https://localhost:8080/"
        },
        "id": "70ubjjbz4kR7",
        "outputId": "349dae7d-023d-4a38-e25f-c0c5f29375f1"
      },
      "outputs": [
        {
          "output_type": "stream",
          "name": "stdout",
          "text": [
            "Running simulation for Workflow: Inspiral, Size: 10, Distribution: uniform\n",
            "Total cost for Workflow Inspiral (uniform, size=10): 0.050823355092592566\n",
            "Total time for Workflow Inspiral (uniform, size=10): 207.10183416666598\n",
            "Running simulation for Workflow: Inspiral, Size: 20, Distribution: uniform\n",
            "Total cost for Workflow Inspiral (uniform, size=20): 0.1328519749999999\n",
            "Total time for Workflow Inspiral (uniform, size=20): 299.5527183333331\n",
            "Running simulation for Workflow: Inspiral, Size: 30, Distribution: uniform\n",
            "Total cost for Workflow Inspiral (uniform, size=30): 0.20616560694444555\n",
            "Total time for Workflow Inspiral (uniform, size=30): 370.74577916666624\n",
            "Running simulation for Workflow: Inspiral, Size: 40, Distribution: uniform\n",
            "Total cost for Workflow Inspiral (uniform, size=40): 0.20801623125000038\n",
            "Total time for Workflow Inspiral (uniform, size=40): 407.3264133333338\n",
            "Running simulation for Workflow: Inspiral, Size: 50, Distribution: uniform\n",
            "Total cost for Workflow Inspiral (uniform, size=50): 0.2583108925925937\n",
            "Total time for Workflow Inspiral (uniform, size=50): 448.97756666666834\n",
            "Running simulation for Workflow: Inspiral, Size: 60, Distribution: uniform\n",
            "Total cost for Workflow Inspiral (uniform, size=60): 0.45418186087962453\n",
            "Total time for Workflow Inspiral (uniform, size=60): 728.911919166667\n",
            "Running simulation for Workflow: Inspiral, Size: 70, Distribution: uniform\n",
            "Total cost for Workflow Inspiral (uniform, size=70): 0.3705941564814775\n",
            "Total time for Workflow Inspiral (uniform, size=70): 625.9150533333317\n",
            "Running simulation for Workflow: Inspiral, Size: 80, Distribution: uniform\n",
            "Total cost for Workflow Inspiral (uniform, size=80): 0.478914976388885\n",
            "Total time for Workflow Inspiral (uniform, size=80): 789.4338316666654\n",
            "Running simulation for Workflow: Inspiral, Size: 90, Distribution: uniform\n",
            "Total cost for Workflow Inspiral (uniform, size=90): 0.5021799303240743\n",
            "Total time for Workflow Inspiral (uniform, size=90): 787.7705166666693\n",
            "Running simulation for Workflow: Inspiral, Size: 100, Distribution: uniform\n",
            "Total cost for Workflow Inspiral (uniform, size=100): 0.5593530541666726\n",
            "Total time for Workflow Inspiral (uniform, size=100): 891.4427016666722\n"
          ]
        }
      ],
      "source": [
        "for i in range(1, 11):\n",
        "  run_simulation_with_results_tracking('Inspiral',10*i, 'uniform', '/content/drive/My Drive/Zahra/Models/model_CyberShake_constant_10_cost.keras' )"
      ]
    }
  ],
  "metadata": {
    "colab": {
      "provenance": [],
      "include_colab_link": true
    },
    "kernelspec": {
      "display_name": "Python 3",
      "name": "python3"
    },
    "language_info": {
      "name": "python"
    }
  },
  "nbformat": 4,
  "nbformat_minor": 0
}