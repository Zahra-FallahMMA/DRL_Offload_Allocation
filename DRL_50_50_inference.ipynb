{
  "cells": [
    {
      "cell_type": "markdown",
      "metadata": {
        "id": "view-in-github",
        "colab_type": "text"
      },
      "source": [
        "<a href=\"https://colab.research.google.com/github/Zahra-FallahMMA/DRL_Offload_Allocation/blob/main/DRL_50_50_inference.ipynb\" target=\"_parent\"><img src=\"https://colab.research.google.com/assets/colab-badge.svg\" alt=\"Open In Colab\"/></a>"
      ]
    },
    {
      "cell_type": "markdown",
      "metadata": {
        "id": "PcuUUZU1G5k4"
      },
      "source": [
        "# import Libraries"
      ]
    },
    {
      "cell_type": "code",
      "execution_count": null,
      "metadata": {
        "colab": {
          "base_uri": "https://localhost:8080/"
        },
        "id": "LIP4GlsbGwAx",
        "outputId": "0a0771e6-76e6-4071-fd72-459694af479e"
      },
      "outputs": [
        {
          "output_type": "stream",
          "name": "stdout",
          "text": [
            "Collecting simpy\n",
            "  Downloading simpy-4.1.1-py3-none-any.whl.metadata (6.1 kB)\n",
            "Downloading simpy-4.1.1-py3-none-any.whl (27 kB)\n",
            "Installing collected packages: simpy\n",
            "Successfully installed simpy-4.1.1\n"
          ]
        }
      ],
      "source": [
        "import xml.etree.ElementTree as ET\n",
        "from io import StringIO\n",
        "import os\n",
        "import re\n",
        "import numpy as np\n",
        "from collections import deque, defaultdict\n",
        "import random\n",
        "from keras.models import Sequential\n",
        "from keras.layers import Dense, Dropout\n",
        "from keras.optimizers import Adam\n",
        "from keras.models import load_model\n",
        "from itertools import product\n",
        "import tensorflow as tf\n",
        "!pip install simpy\n",
        "import simpy\n",
        "\n",
        "# Set TensorFlow logging level to suppress detailed logs\n",
        "os.environ['TF_CPP_MIN_LOG_LEVEL'] = '3'\n",
        "tf.get_logger().setLevel('ERROR')"
      ]
    },
    {
      "cell_type": "markdown",
      "metadata": {
        "id": "lCfIwrJDHK33"
      },
      "source": [
        "# Class DQNAgent"
      ]
    },
    {
      "cell_type": "code",
      "execution_count": null,
      "metadata": {
        "id": "qreTNfv_HP9X"
      },
      "outputs": [],
      "source": [
        "class DQNAgent:\n",
        "    def __init__(self, state_size, action_size, learning_rate=0.001, discount_factor=0.95, exploration_rate=1.0,\n",
        "                 exploration_decay=0.995, exploration_min=0.01, batch_size=64, memory_size=2000, model_path = None):\n",
        "        self.state_size = state_size\n",
        "        self.action_size = action_size\n",
        "        self.learning_rate = learning_rate\n",
        "        self.discount_factor = discount_factor\n",
        "        self.exploration_rate = exploration_rate\n",
        "        self.exploration_decay = exploration_decay\n",
        "        self.exploration_min = exploration_min\n",
        "        self.batch_size = batch_size\n",
        "\n",
        "        if model_path is not None:\n",
        "            self.model = load_model(model_path)\n",
        "        else:\n",
        "            self.model = self._build_model()\n",
        "\n",
        "\n",
        "    def _build_model(self):\n",
        "        model = Sequential()\n",
        "\n",
        "        # Input layer\n",
        "        model.add(Dense(128, input_dim=self.state_size, activation='relu'))\n",
        "        model.add(Dropout(0.4))  # Slightly reduced dropout to retain more information\n",
        "\n",
        "        # Hidden layers\n",
        "        model.add(Dense(128, activation='relu'))\n",
        "        model.add(Dropout(0.4))\n",
        "\n",
        "        model.add(Dense(64, activation='relu'))\n",
        "        model.add(Dropout(0.3))\n",
        "\n",
        "        # Output layer\n",
        "        model.add(Dense(self.action_size, activation='linear'))\n",
        "\n",
        "        # Compile the model with a custom learning rate scheduler\n",
        "        model.compile(optimizer=Adam(learning_rate=self.learning_rate), loss='mse')\n",
        "        return model\n",
        "\n",
        "    def choose_action(self, state):\n",
        "        if np.random.rand() <= self.exploration_rate:\n",
        "            return random.randrange(self.action_size)\n",
        "        state = np.array(state).reshape(1, -1)  # Ensure state is 2D\n",
        "        q_values = self.model.predict(state, verbose=0)\n",
        "        return np.argmax(q_values[0])\n",
        "\n",
        "    def save_model(self, path):\n",
        "        self.model.save(path)"
      ]
    },
    {
      "cell_type": "markdown",
      "metadata": {
        "id": "sc5cwMB6HUAZ"
      },
      "source": [
        "# class Task"
      ]
    },
    {
      "cell_type": "code",
      "execution_count": null,
      "metadata": {
        "id": "dWqg63i_HW5y"
      },
      "outputs": [],
      "source": [
        "class Task:\n",
        "    def __init__(self, id, instructions, workflow_id):\n",
        "        self.id = id\n",
        "        self.instructions = instructions  # Execution time or computational instructions\n",
        "        self.children = []  # List of tasks that depend on this task\n",
        "        self.parents = []  # List of tasks this task depends on\n",
        "\n",
        "        self.input_files = []   # list of (filename, size)\n",
        "        self.output_files = []  # list of (filename, size)\n",
        "\n",
        "        self.executed = False  # Status of execution\n",
        "        self.executed_on = None  # Node this task was executed on\n",
        "        self.execution_time = 0  # Time taken to execute the task\n",
        "        self.cost = 0  # Cost of executing the task\n",
        "        self.comm_delay = 0  # Communication delay in seconds\n",
        "        self.workflow_id = workflow_id  # Workflow identifier to which this task belongs\n",
        "        self.total_transfer_files_size = 0\n"
      ]
    },
    {
      "cell_type": "markdown",
      "metadata": {
        "id": "V6GeROhDHben"
      },
      "source": [
        "# Class Workflow"
      ]
    },
    {
      "cell_type": "code",
      "execution_count": null,
      "metadata": {
        "id": "l1dvEPosHyYn"
      },
      "outputs": [],
      "source": [
        "class Workflow:\n",
        "    def __init__(self, id):\n",
        "        self.id = id  # Workflow identifier\n",
        "        self.tasks = {}  # Dictionary of tasks in the workflow\n",
        "\n",
        "    def add_task(self, task_id, instructions, parent_ids=[], input_files=[], output_files=[]):\n",
        "        if task_id not in self.tasks:\n",
        "            self.tasks[task_id] = Task(task_id, instructions, self.id)\n",
        "        task = self.tasks[task_id]\n",
        "        for parent_id in parent_ids:\n",
        "            if parent_id not in self.tasks:\n",
        "                self.tasks[parent_id] = Task(parent_id, 0, self.id)\n",
        "            parent_task = self.tasks[parent_id]\n",
        "            parent_task.children.append(task)\n",
        "            task.parents.append(parent_task)\n",
        "\n",
        "        task.input_files.extend(input_files)\n",
        "        task.output_files.extend(output_files)"
      ]
    },
    {
      "cell_type": "markdown",
      "metadata": {
        "id": "sOhKq478H4_X"
      },
      "source": [
        "# class parse_dax"
      ]
    },
    {
      "cell_type": "code",
      "execution_count": null,
      "metadata": {
        "id": "92rkJc8AH3Bd"
      },
      "outputs": [],
      "source": [
        "def parse_dax(file_path, workflow_id):\n",
        "    tree = ET.parse(file_path)\n",
        "    root = tree.getroot()\n",
        "\n",
        "    workflow_id = workflow_id\n",
        "    workflow = Workflow(workflow_id)\n",
        "\n",
        "    # Pegasus DAX namespace\n",
        "    dax_ns = '{http://pegasus.isi.edu/schema/DAX}'\n",
        "\n",
        "    # Parse jobs\n",
        "    jobs = {job.attrib['id']: job for job in root.findall(f'{dax_ns}job')}\n",
        "\n",
        "    # Add jobs to workflow\n",
        "    for job_id, job_elem in jobs.items():\n",
        "        instructions = float(job_elem.attrib.get('runtime', 0))\n",
        "\n",
        "        # NEW: Gather input/output files from <uses link=\"input\" ...> or <uses link=\"output\" ...>\n",
        "        input_files = []\n",
        "        output_files = []\n",
        "        for uses_elem in job_elem.findall(f'.//{dax_ns}uses'):\n",
        "            link_type = uses_elem.attrib.get('link', '')\n",
        "            file_name = uses_elem.attrib.get('file', '')\n",
        "            file_size_str = uses_elem.attrib.get('size', '0')\n",
        "            file_size = int(file_size_str)\n",
        "\n",
        "            if link_type == 'input':\n",
        "                input_files.append((file_name, file_size))  # e.g. (\"FFI_0_2_subfx.sgt\", 262360916)\n",
        "            elif link_type == 'output':\n",
        "                output_files.append((file_name, file_size))\n",
        "\n",
        "        workflow.add_task(job_id,\n",
        "                          instructions,\n",
        "                          parent_ids=[],  # We'll handle parents in a moment,\n",
        "                          input_files=input_files,\n",
        "                          output_files=output_files)\n",
        "\n",
        "    # Parse dependencies\n",
        "    for child in root.findall(f'{dax_ns}child'):\n",
        "        child_id = child.attrib['ref']\n",
        "        parent_ids = [parent.attrib['ref'] for parent in child.findall(f'{dax_ns}parent')]\n",
        "        workflow.add_task(child_id, 0, parent_ids)  # Adds a child node with its parent nodes, setting instructions to 0 to avoid overwrite\n",
        "\n",
        "    return workflow\n",
        "\n",
        "\n",
        "def ensemble_of_workflows(name, size=10, distribution='constant', dax_path=''):\n",
        "    ws = []\n",
        "    ensemble = []\n",
        "    directory_path = dax_path  # Directory containing DAX files\n",
        "\n",
        "    # List and filter files in directory\n",
        "    files = os.listdir(directory_path)\n",
        "    filtered_files = [file for file in files if name in file]\n",
        "\n",
        "    if distribution == 'constant':\n",
        "        pattern = r'100(?!\\d)'\n",
        "        for s in filtered_files:\n",
        "            if re.search(pattern, s):\n",
        "                ensemble = [s] * size  # Replicate the matched file 'size' times\n",
        "                break\n",
        "    else:\n",
        "        if(name == 'CyberShake'):\n",
        "          if(size == 10):\n",
        "            numbers =[3 ,2, 0, 3, 4, 1, 2 ,0 ,3, 4]\n",
        "          elif(size == 20):\n",
        "            numbers = [0 ,3, 4, 0 ,0 ,0, 3, 3 ,0 ,0, 4, 4, 2, 0, 4, 2, 0, 2, 0 ,3]\n",
        "          elif(size == 30):\n",
        "            numbers =  [0, 2, 2, 0, 2, 2, 2, 1, 1, 2, 4, 2, 2, 3, 0 ,4 ,3 ,4 ,3 ,4 ,2 ,2 ,4 ,3 ,3 ,2, 3, 2, 4, 3]\n",
        "          elif(size == 40):\n",
        "            numbers = [2, 4, 1, 0, 0, 2, 0, 2, 1, 4, 0, 0, 3, 1, 0 ,2 ,1, 0, 3, 1, 1, 4, 3, 2, 0, 1, 2, 4, 2, 3 ,1, 2, 4, 2, 2, 1, 0, 2, 3, 1]\n",
        "          elif(size == 50):\n",
        "            numbers = [4, 2, 1, 3, 1, 2, 2, 0, 0, 3, 3, 2, 0, 4, 1, 2, 1, 3, 1, 2, 2, 4 ,3, 0, 2, 4, 2, 0, 3, 2 ,3 ,2, 0, 2, 4, 1, 2, 2, 0, 4, 3, 0, 2, 0, 1, 2, 3, 1, 4, 4]\n",
        "          elif(size == 60):\n",
        "            numbers =  [4, 3, 2, 4, 2, 2, 3, 4, 4, 2, 0, 1, 4, 4, 0, 0, 3, 0, 4, 3 ,4, 1, 0, 0, 4, 0, 4, 0, 3, 4 ,0 ,3, 1, 2, 2, 0, 3, 3, 3, 4, 2, 3, 1, 2, 0, 4, 3, 0, 3, 0, 2, 4, 1, 4, 4, 3, 2, 2, 2, 1]\n",
        "          elif(size == 70):\n",
        "            numbers = [3, 2, 1, 1, 4, 3, 0, 3, 2, 0, 3, 0, 4 ,2 ,1 ,4, 0, 1, 0, 1, 0, 2, 3, 3, 0, 1, 0, 3, 0, 1, 3, 4, 0, 0, 0, 2 ,1, 2 ,1, 3, 0, 4, 1, 2, 1, 4, 1, 2, 2, 4, 3, 0, 2, 0, 4, 0, 3, 1, 0, 3, 2, 1, 1, 3, 2, 3, 4, 0, 2, 3]\n",
        "          elif(size == 80):\n",
        "            numbers =[1, 0, 0, 4, 1, 3, 3, 4, 4, 3, 0, 4, 4, 2, 1, 4, 3, 1 ,0 ,1, 0, 3, 4, 4, 3, 2, 1, 2, 0, 0, 3, 2, 2, 1, 4, 2, 3, 1, 2, 4 ,0 ,2, 4, 4, 2, 0, 3, 2, 1, 2, 0, 3, 3, 2, 4, 2, 2, 3, 1, 4, 1, 1, 4, 1, 3, 2, 2, 3, 0, 2, 2, 3, 2, 4, 2, 0, 3, 0, 2, 2]\n",
        "          elif(size == 90):\n",
        "            numbers = [4, 0, 0, 0, 1, 4, 3, 0, 3, 3, 1, 1, 3, 1, 2, 0, 4, 3, 3, 1, 4, 2, 2, 1, 4, 2, 4, 4, 1, 3, 4, 1, 1, 1, 3, 0, 4, 0, 4, 0, 1, 0, 4, 1, 0, 1, 1, 2, 3, 1, 3, 1, 1, 0, 3, 2, 3, 2, 1, 4, 2, 0, 4, 0, 0, 1, 3, 2, 2, 2, 0, 4, 4, 2, 4, 4, 2, 1, 4, 3, 4, 1, 3, 3, 4, 4, 0, 0, 3, 0]\n",
        "          elif(size == 100):\n",
        "            numbers = [3, 3, 4, 2, 2, 2, 3, 4, 4, 4, 1, 3, 2, 2, 2, 1, 3, 1, 4, 0, 3, 2, 3, 3, 1, 2, 1, 1, 1, 0, 3, 2, 1, 2, 1, 0, 1, 3, 1, 2, 1, 0, 0, 1, 2, 0, 1, 1, 3, 1, 1, 0, 1, 2, 3, 1, 1, 1, 3, 0, 3, 1, 1, 3, 1, 1, 3, 4, 1, 3, 2, 2, 4, 4, 3, 2, 1, 4, 1, 2, 2, 4, 0, 1, 1, 1, 0, 1, 1, 0, 2, 3, 4, 2, 1, 1, 0, 0, 2, 2]\n",
        "\n",
        "        elif(name == 'Montage'):\n",
        "          if(size == 10):\n",
        "              numbers = [4, 5, 0, 4, 2, 0, 2, 3, 2, 4]\n",
        "          elif(size == 20):\n",
        "              numbers = [2, 0, 2, 4, 6, 5, 4, 0, 4, 0, 1, 5, 2, 0, 5, 2, 6, 4, 0, 6]\n",
        "          elif(size == 30):\n",
        "              numbers = [6, 6, 4, 0, 2, 0, 0, 4, 0, 1, 4, 5, 5, 4, 2, 4, 5, 6, 2, 1, 4, 0, 3, 1, 4, 0, 6, 5, 4, 6]\n",
        "          elif(size == 40):\n",
        "              numbers = [4, 4, 5, 0, 2, 5, 1, 1, 4, 0, 2, 1, 3, 4, 4, 0, 4, 1, 1, 0, 1, 0, 4, 3, 4, 0, 4, 4, 4, 0, 2, 1, 0, 6, 2, 5, 0, 6, 5, 0]\n",
        "          elif(size == 50):\n",
        "              numbers = [1, 1, 5, 0, 1, 2, 3, 1, 6, 3, 6, 2, 2, 4, 0, 6, 3, 6, 4, 4, 6, 1, 2, 2, 0, 5, 3, 5, 3, 2, 0, 1, 1, 4, 5, 0, 4, 0, 5, 3, 2, 0, 2, 6, 3, 0, 0, 2, 5, 5]\n",
        "          elif(size == 60):\n",
        "              numbers = [3, 6, 4, 0, 3, 0, 1, 5, 4, 5, 5, 3, 0, 2, 0, 0, 6, 5, 0, 2, 1, 6, 6, 1, 0, 0, 4, 4, 0, 3, 4, 1, 0, 3, 6, 3, 1, 1, 4, 3, 0, 1, 1, 0, 6, 6, 0, 6, 6, 4, 2, 5, 5, 1, 6, 0, 5, 5, 1, 4]\n",
        "          elif(size == 70):\n",
        "              numbers = [1, 5, 6, 3, 0, 6, 5, 6, 2, 2, 6, 0, 4, 2, 3, 6, 5, 6, 6, 2, 6, 4, 4, 1, 2, 6, 4, 6, 1, 2, 4, 2, 3, 2, 6, 3, 3, 5, 3, 6, 4, 5, 3, 2, 4, 1, 2, 3, 6, 3, 6, 6, 4, 6, 5, 0, 5, 0, 4, 0, 4, 5, 4, 3, 2, 3, 5, 5, 2, 0]\n",
        "          elif(size == 80):\n",
        "              numbers = [1, 2, 3, 2, 2, 4, 5, 0, 0, 2, 4, 4, 4, 4, 5, 5, 1, 1, 3, 3, 3, 4, 3, 3, 5, 2, 0, 4, 2, 4, 5, 6, 4, 1, 3, 2, 5, 6, 1, 0, 4, 1, 6, 5, 0, 2, 5, 1, 3, 4, 3, 0, 4, 5, 2, 0, 5, 4, 0, 1, 6, 2, 5, 5, 2, 4, 3, 2, 3, 5, 3, 1, 2, 0, 5, 2, 1, 0, 5, 6]\n",
        "          elif(size == 90):\n",
        "              numbers = [2, 4, 3, 3, 3, 5, 5, 2, 3, 2, 0, 1, 6, 0, 6, 0, 2, 1, 5, 5, 5, 2, 0, 2, 5, 5, 5, 5, 4, 0, 1, 3, 6, 3, 1, 2, 4, 2, 2, 3, 0, 4, 0, 4, 2, 5, 2, 4, 6, 3, 6, 5, 2, 3, 5, 5, 2, 5, 5, 2, 0, 0, 3, 5, 1, 2, 1, 0, 0, 4, 0, 5, 5, 4, 3, 6, 0, 1, 1, 2, 2, 4, 1, 6, 4, 6, 5, 0, 4, 2]\n",
        "          elif(size == 100):\n",
        "              numbers = [5, 2, 3, 1, 6, 5, 6, 0, 5, 6, 5, 0, 0, 6, 0, 6, 2, 4, 4, 6, 0, 5, 4, 6, 6, 5, 5, 1, 2, 5, 2, 4, 3, 3, 3, 5, 2, 4, 0, 0, 4, 0, 4, 6, 1, 5, 5, 4, 3, 2, 5, 2, 4, 6, 3, 4, 4, 3, 6, 5, 3, 0, 2, 3, 1, 0, 2, 4, 6, 6, 4, 5, 6, 6, 5, 3, 5, 0, 1, 0, 3, 1, 4, 0, 6, 3, 0, 6, 5, 5, 6, 4, 3, 4, 0, 4, 0, 6, 5, 3]\n",
        "\n",
        "        elif(name == 'Sipht'):\n",
        "          if(size == 10):\n",
        "              numbers = [1, 2, 4, 4, 1, 2, 0, 0, 2, 2]\n",
        "          elif(size == 20):\n",
        "              numbers = [3, 0, 0, 3, 1, 2, 4, 3, 4, 2, 1, 0, 3, 0, 1, 0, 3, 0, 3, 2]\n",
        "          elif(size == 30):\n",
        "              numbers = [3, 2, 0, 1, 3, 2, 2, 3, 1, 3, 1, 0, 3, 4, 0, 3, 2, 0, 2, 2, 2, 0, 1, 1, 0, 3, 0, 1, 4, 1]\n",
        "          elif(size == 40):\n",
        "              numbers = [2, 3, 0, 2, 3, 0, 4, 3, 3, 0, 1, 2, 2, 0, 3, 4, 4, 0, 0, 1, 1, 0, 4, 0, 4, 0, 3, 3, 4, 2, 4, 2, 3, 0, 4, 0, 3, 0, 4, 3]\n",
        "          elif(size == 50):\n",
        "              numbers = [2, 3, 4, 0, 2, 3, 0, 4, 3, 2, 4, 4, 0, 1, 0, 4, 3, 3, 4, 3, 4, 0, 4, 2, 0, 0, 2, 2, 1, 3, 3, 4, 4, 1, 3, 4, 0, 2, 3, 1, 1, 1, 4, 0, 4, 4, 3, 1, 2, 2]\n",
        "          elif(size == 60):\n",
        "              numbers = [2, 1, 1, 3, 2, 3, 2, 0, 2, 0, 0, 3, 2, 2, 1, 3, 4, 3, 0, 1, 1, 3, 3, 2, 4, 4, 4, 1, 1, 3, 2, 1, 0, 2, 0, 0, 3, 0, 1, 3, 0, 0, 3, 4, 3, 1, 1, 1, 4, 3, 0, 1, 2, 1, 3, 2, 2, 4, 0, 0]\n",
        "          elif(size == 70):\n",
        "              numbers = [1, 2, 1, 3, 2, 3, 3, 4, 3, 1, 2, 1, 2, 4, 4, 3, 3, 2, 0, 1, 3, 1, 1, 3, 4, 1, 1, 4, 2, 0, 2, 4, 1, 4, 0, 0, 1, 4, 0, 1, 2, 1, 2, 3, 4, 0, 2, 0, 1, 0, 0, 2, 0, 4, 4, 0, 4, 0, 1, 2, 0, 1, 0, 4, 4, 2, 0, 2, 2, 2]\n",
        "          elif(size == 80):\n",
        "              numbers = [1, 2, 1, 3, 2, 3, 3, 4, 3, 1, 2, 1, 2, 4, 4, 3, 3, 2, 0, 1, 3, 1, 1, 3, 4, 1, 1, 4, 2, 0, 2, 4, 1, 4, 0, 0, 1, 4, 0, 1, 2, 1, 2, 3, 4, 0, 2, 0, 1, 0, 0, 2, 0, 4, 4, 0, 4, 0, 1, 2, 0, 1, 0, 4, 4, 2, 0, 2, 2, 2]\n",
        "          elif(size == 90):\n",
        "              numbers = [4, 4, 4, 0, 2, 1, 1, 1, 4, 2, 0, 2, 0, 4, 3, 0, 1, 2, 2, 4, 0, 1, 4, 4, 3, 2, 1, 3, 2, 0, 0, 0, 2, 0, 1, 1, 4, 3, 0, 0, 3, 1, 4, 0, 1, 4, 1, 4, 1, 3, 3, 1, 1, 1, 4, 1, 3, 3, 1, 1, 3, 2, 3, 2, 4, 0, 1, 0, 0, 1, 3, 0, 0, 2, 1, 1, 2, 3, 4, 1, 1, 0, 4, 4, 2, 0, 0, 0, 1, 2]\n",
        "          elif(size == 100):\n",
        "              numbers = [1, 4, 3, 3, 3, 0, 2, 3, 2, 1, 1, 4, 3, 0, 0, 4, 4, 0, 3, 0, 0, 1, 1, 3, 2, 3, 2, 4, 1, 2, 2, 2, 2, 3, 1, 1, 3, 2, 4, 4, 2, 3, 0, 0, 2, 0, 1, 2, 2, 3, 3, 3, 2, 0, 4, 2, 1, 1, 3, 2, 4, 1, 3, 1, 0, 2, 4, 0, 2, 0, 0, 0, 4, 2, 4, 2, 0, 4, 4, 1, 0, 2, 0, 0, 2, 0, 2, 2, 4, 1, 4, 2, 4, 3, 0, 3, 4, 2, 1, 0]\n",
        "\n",
        "        elif(name == 'Inspiral'):\n",
        "            if(size == 10):\n",
        "              numbers = [3, 3, 0, 2, 1, 3, 2 ,3 ,0, 1]\n",
        "            elif(size == 20):\n",
        "              numbers = [0, 1, 1, 3, 2, 2, 2 ,0, 3, 0, 1, 3, 3, 2, 3, 2, 3, 2, 1, 2]\n",
        "            elif(size == 30):\n",
        "              numbers = [1, 2, 3, 1, 0, 3, 1, 1, 1, 0, 1, 0, 3, 0, 0, 1, 3, 3, 3, 2, 0, 3, 3, 1, 1, 0, 2, 3, 0, 2]\n",
        "            elif(size == 40):\n",
        "              numbers = [1, 2, 2, 3, 2, 2, 3, 0, 0, 3, 1, 2, 1, 3, 3, 0, 2, 1, 1, 3, 2, 0, 2, 2, 0, 3, 1, 3, 2, 0, 0, 1, 1, 1, 3, 0, 2, 1, 3, 3]\n",
        "            elif(size == 50):\n",
        "              numbers = [0, 3, 0, 1, 1, 2, 0, 2, 3, 3, 1, 2, 2, 1, 3, 0, 0, 1, 3, 2, 3, 2, 0, 1, 3, 1, 1, 0, 3, 0, 2, 3, 0, 3, 0, 2, 2, 3, 2, 1, 2, 2, 2, 2, 1, 2, 2, 1, 3, 0]\n",
        "            elif(size == 60):\n",
        "              numbers = [3, 0, 0, 2, 2, 1, 1, 0, 1, 3, 0, 1, 2, 2, 3, 2, 0, 3, 3, 2, 1, 1, 0, 2, 3, 3, 0, 1, 0, 1, 0, 1, 0, 1, 2, 2, 0, 2, 0, 1, 1, 0, 2, 0, 1, 2, 0, 1, 3, 2, 0, 2, 3, 1, 0, 1, 2, 3, 2, 0]\n",
        "            elif(size == 70):\n",
        "                numbers = [1, 0, 3, 1, 0, 3, 0, 3, 0, 2, 2, 2, 2, 2, 3, 1, 3, 1, 2, 2, 3, 2, 1, 1, 2, 2, 1, 2, 2, 3, 3, 3, 2, 3, 0, 2, 1, 1, 3, 0, 2, 3, 0, 2, 3, 2, 3, 3, 3, 0, 3, 1, 1, 2, 0, 2, 0, 3, 3, 1, 3, 1, 1, 3, 2, 0, 3, 3, 3, 0]\n",
        "            elif(size == 80):\n",
        "                numbers = [1, 2, 1, 0, 1, 2, 2, 2, 0, 3, 1, 0, 0, 0, 2, 1, 1, 0, 2, 0, 0, 1, 2, 1, 0, 3, 3, 2, 1, 2, 1, 3, 3, 2, 2, 2, 3, 3, 3, 1, 0, 2, 3, 1, 0, 3, 0, 0, 3, 1, 2, 2, 0, 3, 1, 1, 2, 0, 1, 0, 3, 1, 3, 2, 3, 2, 1, 2, 0, 0, 2, 1, 1, 1, 1, 3, 0, 3, 1, 2]\n",
        "            elif(size == 90):\n",
        "                numbers = [3, 2, 3, 0, 0, 3, 0, 3, 1, 0, 0, 0, 3, 1, 3, 3, 2, 2, 0, 1, 1, 1, 1, 0, 2, 1, 0, 0, 2, 0, 1, 0, 3, 2, 1, 2, 0, 2, 3, 0, 2, 2, 3, 1, 3, 1, 0, 1, 3, 2, 2, 1, 3, 2, 3, 3, 1, 1, 1, 1, 2, 3, 1, 3, 2, 1, 3, 1, 2, 3, 3, 1, 3, 0, 3, 3, 3, 1, 3, 0, 2, 1, 1, 0, 1, 2, 1, 1, 2, 0]\n",
        "            elif(size == 100):\n",
        "              numbers = [1, 3, 2, 0, 2, 0, 1, 0, 2, 1, 1, 3, 1, 2, 3, 2, 0, 1, 0, 0, 3, 0, 2, 3, 1, 1, 3, 2, 3, 1, 0, 3, 3, 0, 1, 1, 1, 0, 3, 3, 0, 2, 1, 0, 2, 3, 0, 1, 0, 2, 1, 3, 2, 3, 1, 1, 2, 0, 0, 2, 3, 0, 0, 0, 2, 2, 0, 3, 3, 0, 1, 0, 1, 2, 0, 0, 2, 1, 0, 2, 0, 1, 3, 1, 3, 3, 1, 1, 2, 3, 3, 2, 3, 1, 2, 2, 3, 0, 0, 2]\n",
        "\n",
        "        ensemble = [filtered_files[i] for i in numbers]  # Select random files based on uniform distribution\n",
        "    w_id = 0\n",
        "    for name in ensemble:\n",
        "        ws.append(parse_dax(dax_path+name,w_id))\n",
        "        w_id = w_id + 1\n",
        "\n",
        "    return ws"
      ]
    },
    {
      "cell_type": "markdown",
      "metadata": {
        "id": "u8oPYhPOIF39"
      },
      "source": [
        "# Loading dax files"
      ]
    },
    {
      "cell_type": "code",
      "execution_count": null,
      "metadata": {
        "colab": {
          "base_uri": "https://localhost:8080/"
        },
        "id": "z69MgkfSH81N",
        "outputId": "f604a844-6e60-4b37-daad-4e3173c9eef8"
      },
      "outputs": [
        {
          "output_type": "stream",
          "name": "stdout",
          "text": [
            "Mounted at /content/drive\n"
          ]
        }
      ],
      "source": [
        "from google.colab import drive\n",
        "import glob\n",
        "\n",
        "drive.mount('/content/drive')\n",
        "folder_path = '/content/drive/My Drive/Zahra/dax/'"
      ]
    },
    {
      "cell_type": "markdown",
      "metadata": {
        "id": "3x5Y4MN-IMLe"
      },
      "source": [
        "# class Device"
      ]
    },
    {
      "cell_type": "code",
      "execution_count": null,
      "metadata": {
        "id": "kK7fXmQeIPIW"
      },
      "outputs": [],
      "source": [
        "class Device:\n",
        "    def __init__(self, id, mips, cost_per_hour, env):\n",
        "        self.id = id\n",
        "        self.mips = mips\n",
        "        self.cost_per_hour = cost_per_hour\n",
        "        self.queue = deque()\n",
        "        self.runnig_queue = deque()\n",
        "        self.resource = simpy.Resource(env, capacity=1)\n",
        "\n",
        "    def add_task_to_queue(self, task):\n",
        "        self.queue.append(task)\n",
        "\n",
        "    def get_next_task(self):\n",
        "        return self.queue.popleft() if self.queue else None\n",
        "\n",
        "    def waiting_time(self):\n",
        "        waiting_time = 0\n",
        "        for t in self.queue:\n",
        "            waiting_time += t.instructions / self.mips\n",
        "        return waiting_time\n"
      ]
    },
    {
      "cell_type": "markdown",
      "metadata": {
        "id": "cUV48C7AImGY"
      },
      "source": [
        "# class FogEnv"
      ]
    },
    {
      "cell_type": "code",
      "execution_count": null,
      "metadata": {
        "id": "A8B_f_ZNIovb"
      },
      "outputs": [],
      "source": [
        "import simpy\n",
        "\n",
        "class FogEnv:\n",
        "    def __init__(self, env, iot_devices, fog_nodes, cloud_servers, workflows):\n",
        "        self.env = env\n",
        "        self.iot_devices = iot_devices\n",
        "        self.fog_nodes = fog_nodes\n",
        "        self.cloud_servers = cloud_servers\n",
        "        self.cost = 0\n",
        "        self.completed_workflows = 0\n",
        "        self.workflows = workflows\n",
        "        self.total_delay = 0\n",
        "\n",
        "        # NEW: Track file origins\n",
        "        self.file_origins = {}  # { file_name: device_id }\n",
        "\n",
        "        # Example bandwidth table (Mb/s)\n",
        "        self.bandwidth_matrix = {\n",
        "            ('iot', 'iot'): 2000,\n",
        "            ('iot', 'fog'): 500,\n",
        "            ('iot', 'cloud'): 500,\n",
        "            ('fog', 'iot'): 500,\n",
        "            ('fog', 'fog'): 4000,\n",
        "            ('fog', 'cloud'): 1000,\n",
        "            ('cloud', 'iot'): 500,\n",
        "            ('cloud', 'fog'): 1000,\n",
        "            ('cloud', 'cloud'): 1000\n",
        "        }\n",
        "\n",
        "    def assign_task(self, task, device):\n",
        "        with device.resource.request() as req:\n",
        "            yield req\n",
        "\n",
        "            # 1) Transfer each input file if needed\n",
        "            for file_name, file_size_bytes in task.input_files:\n",
        "                self.handle_file_transfer(task, file_name, file_size_bytes, device)\n",
        "                task.total_transfer_files_size += file_size_bytes\n",
        "\n",
        "            # 2) Execute the task on this device\n",
        "            execution_time = task.instructions / device.mips\n",
        "            self.total_delay += execution_time\n",
        "            task.execution_time = execution_time\n",
        "            yield self.env.timeout(execution_time)\n",
        "\n",
        "            # 3) Update cost\n",
        "            self.cost += (execution_time * device.cost_per_hour)\n",
        "            task.executed = True\n",
        "            task.executed_on = device.id\n",
        "            task.execution_time = execution_time\n",
        "\n",
        "            # 4) Mark output files as originating from this device\n",
        "            for out_file, _sz in task.output_files:\n",
        "                self.file_origins[out_file] = device.id\n",
        "\n",
        "            # 5) Check if this workflow is now complete\n",
        "            wf = next(w for w in self.workflows if w.id == task.workflow_id)\n",
        "            self.check_workflow_completion(wf)\n",
        "            device.queue.popleft()\n",
        "\n",
        "    # NEW: Function to handle transfer\n",
        "    def handle_file_transfer(self,task, file_name, file_size_bytes, destination_device):\n",
        "        # If we don't know the file origin, assume it's \"local\" or from some default place\n",
        "        if file_name not in self.file_origins:\n",
        "            return  # no transfer needed\n",
        "\n",
        "        source_dev_id = self.file_origins[file_name]\n",
        "        if source_dev_id == destination_device.id:\n",
        "            return  # already local\n",
        "\n",
        "        # Get device types for bandwidth lookup\n",
        "        source_dev = self.get_device_by_id(source_dev_id)\n",
        "        if source_dev is None:\n",
        "            return  # fallback: no known device\n",
        "\n",
        "        source_type = source_dev.dev_type\n",
        "        dest_type = destination_device.dev_type\n",
        "\n",
        "        # bandwidth_matrix gives us Mb/s. Convert bytes -> megabits\n",
        "        # 1 byte = 8 bits, so:\n",
        "        file_megabits = file_size_bytes * 8 / 1e6\n",
        "\n",
        "        # Look up or fallback\n",
        "        band_mbps = self.bandwidth_matrix.get((source_type, dest_type), 1000.0)\n",
        "\n",
        "        # Transfer time (seconds)\n",
        "        transfer_time = file_megabits / band_mbps\n",
        "\n",
        "        # Optional: add base communication latency\n",
        "        comm_latency = 0.01  # 10 ms, for example\n",
        "        total_delay = comm_latency + transfer_time\n",
        "        self.total_delay += total_delay\n",
        "        task.comm_delay = total_delay\n",
        "\n",
        "        # Wait out the transfer in simulation time\n",
        "        yield self.env.timeout(total_delay)\n",
        "\n",
        "    def get_state(self, task, agent_type):\n",
        "      if agent_type == 0: # time\n",
        "        return [self.cost] + [d.waiting_time() for d in self.iot_devices + self.fog_nodes + self.cloud_servers] + [task.instructions, task.total_transfer_files_size]\n",
        "      if agent_type == 1: # cost\n",
        "        return [self.cost] + [d.waiting_time() for d in self.iot_devices + self.fog_nodes + self.cloud_servers] + [task.instructions, task.cost]\n",
        "\n",
        "    def get_device_by_id(self, device_id):\n",
        "        for device in self.iot_devices + self.fog_nodes + self.cloud_servers:\n",
        "            if device.id == device_id:\n",
        "                return device\n",
        "        return None\n",
        "\n",
        "    def check_workflow_completion(self, workflow):\n",
        "        # Check if all tasks in the workflow are executed\n",
        "        if all(task.executed for task in workflow.tasks.values()):\n",
        "            self.completed_workflows += 1  # Increment completed workflows counter\n",
        "            # print(f\"Workflow {workflow.id} is completed! Total completed workflows: {self.completed_workflows}\")\n",
        "\n",
        "\n",
        "\n",
        "\n",
        "\n",
        "def process_workflow(env, workflow, fog_env, agent, agent_type):\n",
        "      while(True):\n",
        "        if all([task.executed for task in workflow.tasks.values()]):\n",
        "          break\n",
        "        for task in workflow.tasks.values():\n",
        "            if task.executed:\n",
        "              continue\n",
        "            if all([parent.executed for parent in task.parents]) or task.parents == []:\n",
        "                state = np.array(fog_env.get_state(task, agent_type)).reshape(1, -1)\n",
        "                action = agent.choose_action(state)\n",
        "                devices = fog_env.iot_devices + fog_env.fog_nodes + fog_env.cloud_servers\n",
        "                device = devices[action]\n",
        "                device.add_task_to_queue(task)\n",
        "                task.executed_on = device.id\n",
        "                yield env.process(fog_env.assign_task(task, device))\n"
      ]
    },
    {
      "cell_type": "markdown",
      "metadata": {
        "id": "Swj5rrsAJZV8"
      },
      "source": [
        "# class NewSim\n",
        "\n"
      ]
    },
    {
      "cell_type": "code",
      "execution_count": null,
      "metadata": {
        "id": "SB2sfq22JcBF"
      },
      "outputs": [],
      "source": [
        "class  NewSim:\n",
        "    def __init__(self, num_iot, num_fog, num_server, learning_rate=0.001, discount_factor=0.95,\n",
        "                 exploration_rate=1.0, exploration_decay=0.995, exploration_min=0.01, batch_size=64, memory_size=2000, model_path=None):\n",
        "        self.num_iot = num_iot\n",
        "        self.num_fog = num_fog\n",
        "        self.num_server = num_server\n",
        "        self.num_totla_dev = num_iot + num_fog + num_server\n",
        "        self.learning_rate = learning_rate\n",
        "        self.discount_factor = discount_factor\n",
        "        self.exploration_rate = exploration_rate\n",
        "        self.exploration_decay = exploration_decay\n",
        "        self.exploration_min = exploration_min\n",
        "        self.batch_size = batch_size\n",
        "        self.memory_size = memory_size\n",
        "        self.model_path = model_path\n",
        "        self.env = simpy.Environment()\n",
        "        self.reset()\n",
        "        self.run()\n",
        "\n",
        "    def reset(self):\n",
        "        self.iot_devices = [Device(f'iot_{i}', 500, 0, self.env) for i in range(self.num_iot)]\n",
        "        self.fog_devices = [Device(f'fog_{i}', 4000, 1/3600, self.env) for i in range(self.num_fog)]\n",
        "        self.server_devices = [Device(f'server_{i}', 6000, 8/3600, self.env) for i in range(self.num_server)]\n",
        "        self.agent_cost = DQNAgent(state_size=3+self.num_totla_dev, action_size=self.num_totla_dev, learning_rate=self.learning_rate, discount_factor=self.discount_factor,\n",
        "                                  exploration_rate=self.exploration_rate, exploration_decay=self.exploration_decay,\n",
        "                                  exploration_min=self.exploration_min, batch_size=self.batch_size, memory_size=self.memory_size,\n",
        "                                   model_path = '/content/drive/My Drive/Zahra/Models/model_CyberShake_constant_10_cost.keras')\n",
        "        self.agent_time = DQNAgent(state_size=3+self.num_totla_dev, action_size=self.num_totla_dev, learning_rate=self.learning_rate, discount_factor=self.discount_factor,\n",
        "                                  exploration_rate=self.exploration_rate, exploration_decay=self.exploration_decay,\n",
        "                                  exploration_min=self.exploration_min, batch_size=self.batch_size, memory_size=self.memory_size,\n",
        "                                   model_path = '/content/drive/My Drive/Zahra/Models/model_CyberShake_constant_10_delay.keras')\n",
        "\n",
        "        self.workflows = ensemble_of_workflows(name = 'CyberShake', size=100, distribution = 'constant', dax_path=\"/content/drive/My Drive/Zahra/dax/\")\n",
        "    def run(self):\n",
        "        self.fog_env = FogEnv(self.env, self.iot_devices, self.fog_devices, self.server_devices,self.workflows)\n",
        "        for workflow in self.workflows:\n",
        "          random_choice = random.choice([0, 1])\n",
        "          if random_choice == 0:\n",
        "            self.agent = self.agent_time\n",
        "            agent_type = 0\n",
        "          else:\n",
        "            self.agent = self.agent_cost\n",
        "            agent_type = 1\n",
        "          self.env.process(process_workflow(self.env, workflow, self.fog_env, self.agent, agent_type))\n",
        "\n",
        "        self.env.run()  # Run simulation for a time period\n"
      ]
    },
    {
      "cell_type": "markdown",
      "metadata": {
        "id": "8m16rQswH07A"
      },
      "source": [
        "# Data Collection\n"
      ]
    },
    {
      "cell_type": "markdown",
      "metadata": {
        "id": "pRiUawjwavRO"
      },
      "source": [
        "## The Config of Workflows"
      ]
    },
    {
      "cell_type": "code",
      "execution_count": null,
      "metadata": {
        "id": "pi6ASMtxau1Y"
      },
      "outputs": [],
      "source": [
        "# Workflow configurations with specific sizes\n",
        "workflow_configs = {\n",
        "        'CyberShake': [30, 50, 100, 1000],\n",
        "        'Montage': [20, 40, 60, 80, 100, 200, 300],\n",
        "        'Inspiral': [30, 50, 100, 1000],\n",
        "        'Sipht': [29, 58, 100, 968]\n",
        "    }\n",
        "workflow_distributions = ['constant', 'uniform']"
      ]
    },
    {
      "cell_type": "code",
      "execution_count": null,
      "metadata": {
        "id": "BrXkI2OeLjOO"
      },
      "outputs": [],
      "source": [
        "def run_simulation_with_results_tracking(workflow_name, workflow_size, workflow_distribution, model_path):\n",
        "    learning_rate = 0.001\n",
        "    discount_factor = 0.99\n",
        "    exploration_rate = 0.5\n",
        "    exploration_decay = 0.995\n",
        "    exploration_min = 0.05\n",
        "\n",
        "    dax_path = \"/content/drive/My Drive/Zahra/dax/\"\n",
        "\n",
        "    print(f\"Running simulation for Workflow: {workflow_name}, Size: {workflow_size}, Distribution: {workflow_distribution}\")\n",
        "\n",
        "    # Set up the simulation with the current parameters\n",
        "    simulation = NewSim(\n",
        "        num_iot=10,\n",
        "        num_fog=8,\n",
        "        num_server=5,\n",
        "        learning_rate=learning_rate,\n",
        "        discount_factor=discount_factor,\n",
        "        exploration_rate=exploration_rate,\n",
        "        exploration_decay=exploration_decay,\n",
        "        exploration_min=exploration_min,\n",
        "        model_path = model_path\n",
        "    )\n",
        "\n",
        "    # Update the workflow parameters\n",
        "    simulation.workflows = ensemble_of_workflows(\n",
        "        name=workflow_name,\n",
        "        size=workflow_size,\n",
        "        distribution=workflow_distribution,\n",
        "        dax_path=dax_path\n",
        "    )\n",
        "\n",
        "    # Run the simulation\n",
        "    simulation.run()\n",
        "\n",
        "    # Print results for current run\n",
        "    print(f\"Total cost for Workflow {workflow_name} ({workflow_distribution}, size={workflow_size}): {simulation.fog_env.cost}\")\n",
        "    print(f\"Total time for Workflow {workflow_name} ({workflow_distribution}, size={workflow_size}): {simulation.env.now}\")\n",
        "\n",
        "\n"
      ]
    },
    {
      "cell_type": "markdown",
      "metadata": {
        "id": "lLU8FKZT2elj"
      },
      "source": [
        "# Results"
      ]
    },
    {
      "cell_type": "markdown",
      "metadata": {
        "id": "_XeITaLMw79l"
      },
      "source": [
        "## Cybershake - constant"
      ]
    },
    {
      "cell_type": "code",
      "execution_count": null,
      "metadata": {
        "colab": {
          "background_save": true,
          "base_uri": "https://localhost:8080/"
        },
        "id": "D6NHXFqyw2Oz",
        "outputId": "18c28eed-0d96-4d1b-e119-b6b582be5c30"
      },
      "outputs": [
        {
          "name": "stdout",
          "output_type": "stream",
          "text": [
            "Running simulation for Workflow: CyberShake, Size: 10, Distribution: constant\n",
            "Total cost for Workflow CyberShake (constant, size=10): 0.00506925717592593\n",
            "Total time for Workflow CyberShake (constant, size=10): 24.674052499999995\n",
            "Running simulation for Workflow: CyberShake, Size: 20, Distribution: constant\n",
            "Total cost for Workflow CyberShake (constant, size=20): 0.010441411805555582\n",
            "Total time for Workflow CyberShake (constant, size=20): 30.426765000000007\n",
            "Running simulation for Workflow: CyberShake, Size: 30, Distribution: constant\n",
            "Total cost for Workflow CyberShake (constant, size=30): 0.015708329629629647\n",
            "Total time for Workflow CyberShake (constant, size=30): 28.020648333333245\n",
            "Running simulation for Workflow: CyberShake, Size: 40, Distribution: constant\n",
            "Total cost for Workflow CyberShake (constant, size=40): 0.022816150925925944\n",
            "Total time for Workflow CyberShake (constant, size=40): 32.064585000000015\n",
            "Running simulation for Workflow: CyberShake, Size: 50, Distribution: constant\n",
            "Total cost for Workflow CyberShake (constant, size=50): 0.02623206967592594\n",
            "Total time for Workflow CyberShake (constant, size=50): 32.73568833333311\n",
            "Running simulation for Workflow: CyberShake, Size: 60, Distribution: constant\n",
            "Total cost for Workflow CyberShake (constant, size=60): 0.03314118402777741\n",
            "Total time for Workflow CyberShake (constant, size=60): 33.15773583333306\n",
            "Running simulation for Workflow: CyberShake, Size: 70, Distribution: constant\n",
            "Total cost for Workflow CyberShake (constant, size=70): 0.03369103726851806\n",
            "Total time for Workflow CyberShake (constant, size=70): 40.01790416666642\n",
            "Running simulation for Workflow: CyberShake, Size: 80, Distribution: constant\n",
            "Total cost for Workflow CyberShake (constant, size=80): 0.04387820972222116\n",
            "Total time for Workflow CyberShake (constant, size=80): 38.45124416666631\n",
            "Running simulation for Workflow: CyberShake, Size: 90, Distribution: constant\n",
            "Total cost for Workflow CyberShake (constant, size=90): 0.04921313819444307\n",
            "Total time for Workflow CyberShake (constant, size=90): 39.04711083333286\n",
            "Running simulation for Workflow: CyberShake, Size: 100, Distribution: constant\n",
            "Total cost for Workflow CyberShake (constant, size=100): 0.056476536805553916\n",
            "Total time for Workflow CyberShake (constant, size=100): 40.29314749999989\n"
          ]
        }
      ],
      "source": [
        "for i in range(1, 11):\n",
        "  run_simulation_with_results_tracking('CyberShake',10*i, 'constant', '/content/drive/My Drive/Zahra/Models/model_CyberShake_constant_10_delay.keras' )"
      ]
    },
    {
      "cell_type": "markdown",
      "metadata": {
        "id": "gR0TdNcs1qHQ"
      },
      "source": [
        "## Cybershake - uniform"
      ]
    },
    {
      "cell_type": "code",
      "execution_count": null,
      "metadata": {
        "colab": {
          "base_uri": "https://localhost:8080/"
        },
        "id": "wDrLPm5E2BMz",
        "outputId": "1504ff0c-3539-4ed8-c9d3-66603836724b"
      },
      "outputs": [
        {
          "output_type": "stream",
          "name": "stdout",
          "text": [
            "Running simulation for Workflow: CyberShake, Size: 10, Distribution: uniform\n",
            "Total cost for Workflow CyberShake (uniform, size=10): 0.006273129629629637\n",
            "Total time for Workflow CyberShake (uniform, size=10): 37.73317499999997\n",
            "Running simulation for Workflow: CyberShake, Size: 20, Distribution: uniform\n",
            "Total cost for Workflow CyberShake (uniform, size=20): 0.008659177083333334\n",
            "Total time for Workflow CyberShake (uniform, size=20): 27.622733333333294\n",
            "Running simulation for Workflow: CyberShake, Size: 30, Distribution: uniform\n",
            "Total cost for Workflow CyberShake (uniform, size=30): 0.019728697685185183\n",
            "Total time for Workflow CyberShake (uniform, size=30): 39.64156083333331\n",
            "Running simulation for Workflow: CyberShake, Size: 40, Distribution: uniform\n",
            "Total cost for Workflow CyberShake (uniform, size=40): 0.05047482615740808\n",
            "Total time for Workflow CyberShake (uniform, size=40): 50.832059999999956\n",
            "Running simulation for Workflow: CyberShake, Size: 50, Distribution: uniform\n",
            "Total cost for Workflow CyberShake (uniform, size=50): 0.05113125555555619\n",
            "Total time for Workflow CyberShake (uniform, size=50): 48.499274999999976\n",
            "Running simulation for Workflow: CyberShake, Size: 60, Distribution: uniform\n",
            "Total cost for Workflow CyberShake (uniform, size=60): 0.03548135509259272\n",
            "Total time for Workflow CyberShake (uniform, size=60): 51.835478333333015\n",
            "Running simulation for Workflow: CyberShake, Size: 70, Distribution: uniform\n",
            "Total cost for Workflow CyberShake (uniform, size=70): 0.0783933719907399\n",
            "Total time for Workflow CyberShake (uniform, size=70): 62.42406249999965\n",
            "Running simulation for Workflow: CyberShake, Size: 80, Distribution: uniform\n",
            "Total cost for Workflow CyberShake (uniform, size=80): 0.059254491898148354\n",
            "Total time for Workflow CyberShake (uniform, size=80): 66.43339166666685\n",
            "Running simulation for Workflow: CyberShake, Size: 90, Distribution: uniform\n",
            "Total cost for Workflow CyberShake (uniform, size=90): 0.10246553657407208\n",
            "Total time for Workflow CyberShake (uniform, size=90): 69.59256333333364\n",
            "Running simulation for Workflow: CyberShake, Size: 100, Distribution: uniform\n",
            "Total cost for Workflow CyberShake (uniform, size=100): 0.14973632754629596\n",
            "Total time for Workflow CyberShake (uniform, size=100): 93.00900416666803\n"
          ]
        }
      ],
      "source": [
        "for i in range(1, 11):\n",
        "  run_simulation_with_results_tracking('CyberShake',10*i, 'uniform', '/content/drive/My Drive/Zahra/Models/model_CyberShake_constant_10_delay.keras' )"
      ]
    },
    {
      "cell_type": "markdown",
      "metadata": {
        "id": "xmy3_T952Yuk"
      },
      "source": [
        "## Montage - constant"
      ]
    },
    {
      "cell_type": "code",
      "execution_count": null,
      "metadata": {
        "colab": {
          "base_uri": "https://localhost:8080/"
        },
        "id": "h1i-P0kL2pjV",
        "outputId": "f96d6a12-5436-4352-e30b-b83fc9bad883"
      },
      "outputs": [
        {
          "output_type": "stream",
          "name": "stdout",
          "text": [
            "Running simulation for Workflow: Montage, Size: 10, Distribution: constant\n",
            "Total cost for Workflow Montage (constant, size=10): 0.0019322053240740668\n",
            "Total time for Workflow Montage (constant, size=10): 22.34759583333335\n",
            "Running simulation for Workflow: Montage, Size: 20, Distribution: constant\n",
            "Total cost for Workflow Montage (constant, size=20): 0.0027773759259259183\n",
            "Total time for Workflow Montage (constant, size=20): 23.4724449999999\n",
            "Running simulation for Workflow: Montage, Size: 30, Distribution: constant\n",
            "Total cost for Workflow Montage (constant, size=30): 0.006469468055555535\n",
            "Total time for Workflow Montage (constant, size=30): 24.819767499999767\n",
            "Running simulation for Workflow: Montage, Size: 40, Distribution: constant\n",
            "Total cost for Workflow Montage (constant, size=40): 0.00734580115740738\n",
            "Total time for Workflow Montage (constant, size=40): 24.365219999999816\n",
            "Running simulation for Workflow: Montage, Size: 50, Distribution: constant\n",
            "Total cost for Workflow Montage (constant, size=50): 0.008985661342592636\n",
            "Total time for Workflow Montage (constant, size=50): 29.714655833333044\n",
            "Running simulation for Workflow: Montage, Size: 60, Distribution: constant\n",
            "Total cost for Workflow Montage (constant, size=60): 0.011153754629629798\n",
            "Total time for Workflow Montage (constant, size=60): 25.314544166666494\n",
            "Running simulation for Workflow: Montage, Size: 70, Distribution: constant\n",
            "Total cost for Workflow Montage (constant, size=70): 0.011676213194444632\n",
            "Total time for Workflow Montage (constant, size=70): 28.886477499999625\n",
            "Running simulation for Workflow: Montage, Size: 80, Distribution: constant\n",
            "Total cost for Workflow Montage (constant, size=80): 0.013499161111111381\n",
            "Total time for Workflow Montage (constant, size=80): 28.009171666666287\n",
            "Running simulation for Workflow: Montage, Size: 90, Distribution: constant\n",
            "Total cost for Workflow Montage (constant, size=90): 0.016007933333333616\n",
            "Total time for Workflow Montage (constant, size=90): 24.71613999999966\n",
            "Running simulation for Workflow: Montage, Size: 100, Distribution: constant\n"
          ]
        }
      ],
      "source": [
        "for i in range(1, 11):\n",
        "  run_simulation_with_results_tracking('Montage',10*i, 'constant', '/content/drive/My Drive/Zahra/Models/model_CyberShake_constant_10_delay.keras' )"
      ]
    },
    {
      "cell_type": "markdown",
      "metadata": {
        "id": "Lpvpbfmr2_9M"
      },
      "source": [
        "## Montage - uniform"
      ]
    },
    {
      "cell_type": "code",
      "execution_count": null,
      "metadata": {
        "id": "5j7GJQun3GTh",
        "colab": {
          "base_uri": "https://localhost:8080/"
        },
        "outputId": "6b001221-fdc8-4d91-838f-5743a779e855"
      },
      "outputs": [
        {
          "output_type": "stream",
          "name": "stdout",
          "text": [
            "Running simulation for Workflow: Montage, Size: 10, Distribution: uniform\n",
            "Total cost for Workflow Montage (uniform, size=10): 0.0018711493055555517\n",
            "Total time for Workflow Montage (uniform, size=10): 27.20863166666667\n",
            "Running simulation for Workflow: Montage, Size: 20, Distribution: uniform\n",
            "Total cost for Workflow Montage (uniform, size=20): 0.0030387590277777834\n",
            "Total time for Workflow Montage (uniform, size=20): 25.093457499999936\n",
            "Running simulation for Workflow: Montage, Size: 30, Distribution: uniform\n",
            "Total cost for Workflow Montage (uniform, size=30): 0.0049748888888889\n",
            "Total time for Workflow Montage (uniform, size=30): 22.564304999999944\n",
            "Running simulation for Workflow: Montage, Size: 40, Distribution: uniform\n",
            "Total cost for Workflow Montage (uniform, size=40): 0.007895696064814843\n",
            "Total time for Workflow Montage (uniform, size=40): 26.013587500000085\n",
            "Running simulation for Workflow: Montage, Size: 50, Distribution: uniform\n",
            "Total cost for Workflow Montage (uniform, size=50): 0.011791355555555669\n",
            "Total time for Workflow Montage (uniform, size=50): 29.036991666666587\n",
            "Running simulation for Workflow: Montage, Size: 60, Distribution: uniform\n",
            "Total cost for Workflow Montage (uniform, size=60): 0.012495890740740888\n",
            "Total time for Workflow Montage (uniform, size=60): 28.623548333333257\n",
            "Running simulation for Workflow: Montage, Size: 70, Distribution: uniform\n",
            "Total cost for Workflow Montage (uniform, size=70): 0.014771062500000164\n",
            "Total time for Workflow Montage (uniform, size=70): 26.517522499999856\n",
            "Running simulation for Workflow: Montage, Size: 80, Distribution: uniform\n",
            "Total cost for Workflow Montage (uniform, size=80): 0.017419877546296602\n",
            "Total time for Workflow Montage (uniform, size=80): 29.92626333333316\n",
            "Running simulation for Workflow: Montage, Size: 90, Distribution: uniform\n",
            "Total cost for Workflow Montage (uniform, size=90): 0.019625177546296398\n",
            "Total time for Workflow Montage (uniform, size=90): 31.766935833333168\n",
            "Running simulation for Workflow: Montage, Size: 100, Distribution: uniform\n",
            "Total cost for Workflow Montage (uniform, size=100): 0.02311669837962959\n",
            "Total time for Workflow Montage (uniform, size=100): 29.002392499999818\n"
          ]
        }
      ],
      "source": [
        "for i in range(1, 11):\n",
        "  run_simulation_with_results_tracking('Montage',10*i, 'uniform', '/content/drive/My Drive/Zahra/Models/model_CyberShake_constant_10_delay.keras' )"
      ]
    },
    {
      "cell_type": "markdown",
      "metadata": {
        "id": "WWpstixI3WNq"
      },
      "source": [
        "## Sipht - constant"
      ]
    },
    {
      "cell_type": "code",
      "execution_count": null,
      "metadata": {
        "id": "AngfK6hh3bOO",
        "colab": {
          "base_uri": "https://localhost:8080/"
        },
        "outputId": "439e026f-407d-4695-9110-077a9c0fc131"
      },
      "outputs": [
        {
          "output_type": "stream",
          "name": "stdout",
          "text": [
            "Running simulation for Workflow: Sipht, Size: 10, Distribution: constant\n",
            "Total cost for Workflow Sipht (constant, size=10): 0.023190648689814807\n",
            "Total time for Workflow Sipht (constant, size=10): 50.858140333333274\n",
            "Running simulation for Workflow: Sipht, Size: 20, Distribution: constant\n",
            "Total cost for Workflow Sipht (constant, size=20): 0.06189323294444449\n",
            "Total time for Workflow Sipht (constant, size=20): 66.44438964999996\n",
            "Running simulation for Workflow: Sipht, Size: 30, Distribution: constant\n",
            "Total cost for Workflow Sipht (constant, size=30): 0.08177522246527752\n",
            "Total time for Workflow Sipht (constant, size=30): 75.06083713333338\n",
            "Running simulation for Workflow: Sipht, Size: 40, Distribution: constant\n",
            "Total cost for Workflow Sipht (constant, size=40): 0.11535494299999934\n",
            "Total time for Workflow Sipht (constant, size=40): 91.59331945833328\n",
            "Running simulation for Workflow: Sipht, Size: 50, Distribution: constant\n",
            "Total cost for Workflow Sipht (constant, size=50): 0.1385005337870356\n",
            "Total time for Workflow Sipht (constant, size=50): 108.52119315000039\n",
            "Running simulation for Workflow: Sipht, Size: 60, Distribution: constant\n",
            "Total cost for Workflow Sipht (constant, size=60): 0.17184833794212875\n",
            "Total time for Workflow Sipht (constant, size=60): 104.0405940166671\n",
            "Running simulation for Workflow: Sipht, Size: 70, Distribution: constant\n",
            "Total cost for Workflow Sipht (constant, size=70): 0.19362285688657394\n",
            "Total time for Workflow Sipht (constant, size=70): 121.04465058333379\n",
            "Running simulation for Workflow: Sipht, Size: 80, Distribution: constant\n",
            "Total cost for Workflow Sipht (constant, size=80): 0.23275914132638983\n",
            "Total time for Workflow Sipht (constant, size=80): 125.88124705833347\n",
            "Running simulation for Workflow: Sipht, Size: 90, Distribution: constant\n",
            "Total cost for Workflow Sipht (constant, size=90): 0.26373427905787\n",
            "Total time for Workflow Sipht (constant, size=90): 141.10423001666678\n",
            "Running simulation for Workflow: Sipht, Size: 100, Distribution: constant\n",
            "Total cost for Workflow Sipht (constant, size=100): 0.2790302543194433\n",
            "Total time for Workflow Sipht (constant, size=100): 166.12343687499893\n"
          ]
        }
      ],
      "source": [
        "for i in range(1, 11):\n",
        "  run_simulation_with_results_tracking('Sipht',10*i, 'constant', '/content/drive/My Drive/Zahra/Models/model_CyberShake_constant_10_delay.keras' )"
      ]
    },
    {
      "cell_type": "markdown",
      "metadata": {
        "id": "D81dg-wV3rJ3"
      },
      "source": [
        "## Sipht - uniform"
      ]
    },
    {
      "cell_type": "code",
      "execution_count": null,
      "metadata": {
        "id": "77roJqmI3vhj",
        "colab": {
          "base_uri": "https://localhost:8080/"
        },
        "outputId": "740cd269-1b46-4677-b3be-b47438b8ae09"
      },
      "outputs": [
        {
          "output_type": "stream",
          "name": "stdout",
          "text": [
            "Running simulation for Workflow: Sipht, Size: 10, Distribution: uniform\n",
            "Total cost for Workflow Sipht (uniform, size=10): 0.08393818771759262\n",
            "Total time for Workflow Sipht (uniform, size=10): 179.37797788333333\n",
            "Running simulation for Workflow: Sipht, Size: 20, Distribution: uniform\n",
            "Total cost for Workflow Sipht (uniform, size=20): 0.12490473492592581\n",
            "Total time for Workflow Sipht (uniform, size=20): 175.89590633333344\n",
            "Running simulation for Workflow: Sipht, Size: 30, Distribution: uniform\n",
            "Total cost for Workflow Sipht (uniform, size=30): 0.25516340538194315\n",
            "Total time for Workflow Sipht (uniform, size=30): 273.12346165833316\n",
            "Running simulation for Workflow: Sipht, Size: 40, Distribution: uniform\n",
            "Total cost for Workflow Sipht (uniform, size=40): 0.18402511484953632\n",
            "Total time for Workflow Sipht (uniform, size=40): 199.75536053333337\n",
            "Running simulation for Workflow: Sipht, Size: 50, Distribution: uniform\n",
            "Total cost for Workflow Sipht (uniform, size=50): 0.3273259390254643\n",
            "Total time for Workflow Sipht (uniform, size=50): 267.54371281666613\n",
            "Running simulation for Workflow: Sipht, Size: 60, Distribution: uniform\n",
            "Total cost for Workflow Sipht (uniform, size=60): 0.48948899337732016\n",
            "Total time for Workflow Sipht (uniform, size=60): 350.1329820333326\n",
            "Running simulation for Workflow: Sipht, Size: 70, Distribution: uniform\n",
            "Total cost for Workflow Sipht (uniform, size=70): 0.48194829850000737\n",
            "Total time for Workflow Sipht (uniform, size=70): 404.88846215833127\n",
            "Running simulation for Workflow: Sipht, Size: 80, Distribution: uniform\n",
            "Total cost for Workflow Sipht (uniform, size=80): 0.6439981318888844\n",
            "Total time for Workflow Sipht (uniform, size=80): 372.99931049999924\n",
            "Running simulation for Workflow: Sipht, Size: 90, Distribution: uniform\n",
            "Total cost for Workflow Sipht (uniform, size=90): 0.7995047166597102\n",
            "Total time for Workflow Sipht (uniform, size=90): 471.63181456666484\n",
            "Running simulation for Workflow: Sipht, Size: 100, Distribution: uniform\n",
            "Total cost for Workflow Sipht (uniform, size=100): 0.6094819140671293\n",
            "Total time for Workflow Sipht (uniform, size=100): 418.95739794166616\n"
          ]
        }
      ],
      "source": [
        "for i in range(1, 11):\n",
        "  run_simulation_with_results_tracking('Sipht',10*i, 'uniform', '/content/drive/My Drive/Zahra/Models/model_CyberShake_constant_10_delay.keras' )"
      ]
    },
    {
      "cell_type": "markdown",
      "metadata": {
        "id": "8h-h3V5w4NXP"
      },
      "source": [
        "## Inspiral - constant"
      ]
    },
    {
      "cell_type": "code",
      "execution_count": null,
      "metadata": {
        "id": "dr-AgY2X4Vh8",
        "colab": {
          "base_uri": "https://localhost:8080/"
        },
        "outputId": "37a2be18-dac4-4595-bfd8-92469e4b0cc0"
      },
      "outputs": [
        {
          "output_type": "stream",
          "name": "stdout",
          "text": [
            "Running simulation for Workflow: Inspiral, Size: 10, Distribution: constant\n",
            "Total cost for Workflow Inspiral (constant, size=10): 0.03684660879629626\n",
            "Total time for Workflow Inspiral (constant, size=10): 45.92778333333333\n",
            "Running simulation for Workflow: Inspiral, Size: 20, Distribution: constant\n",
            "Total cost for Workflow Inspiral (constant, size=20): 0.05975067361111116\n",
            "Total time for Workflow Inspiral (constant, size=20): 62.849254166666896\n",
            "Running simulation for Workflow: Inspiral, Size: 30, Distribution: constant\n",
            "Total cost for Workflow Inspiral (constant, size=30): 0.09341611203703719\n",
            "Total time for Workflow Inspiral (constant, size=30): 73.56720083333336\n",
            "Running simulation for Workflow: Inspiral, Size: 40, Distribution: constant\n",
            "Total cost for Workflow Inspiral (constant, size=40): 0.1495038118055555\n",
            "Total time for Workflow Inspiral (constant, size=40): 78.17455833333325\n",
            "Running simulation for Workflow: Inspiral, Size: 50, Distribution: constant\n",
            "Total cost for Workflow Inspiral (constant, size=50): 0.1833861756944442\n",
            "Total time for Workflow Inspiral (constant, size=50): 86.46541999999984\n",
            "Running simulation for Workflow: Inspiral, Size: 60, Distribution: constant\n",
            "Total cost for Workflow Inspiral (constant, size=60): 0.1704162034722193\n",
            "Total time for Workflow Inspiral (constant, size=60): 144.07505166666647\n",
            "Running simulation for Workflow: Inspiral, Size: 70, Distribution: constant\n",
            "Total cost for Workflow Inspiral (constant, size=70): 0.2327540236111095\n",
            "Total time for Workflow Inspiral (constant, size=70): 133.59111999999956\n",
            "Running simulation for Workflow: Inspiral, Size: 80, Distribution: constant\n",
            "Total cost for Workflow Inspiral (constant, size=80): 0.26545236990740945\n",
            "Total time for Workflow Inspiral (constant, size=80): 143.44284749999932\n",
            "Running simulation for Workflow: Inspiral, Size: 90, Distribution: constant\n",
            "Total cost for Workflow Inspiral (constant, size=90): 0.29955222731481834\n",
            "Total time for Workflow Inspiral (constant, size=90): 161.55128916666663\n",
            "Running simulation for Workflow: Inspiral, Size: 100, Distribution: constant\n",
            "Total cost for Workflow Inspiral (constant, size=100): 0.3279199615740784\n",
            "Total time for Workflow Inspiral (constant, size=100): 184.7005433333332\n"
          ]
        }
      ],
      "source": [
        "for i in range(1, 11):\n",
        "  run_simulation_with_results_tracking('Inspiral',10*i, 'constant', '/content/drive/My Drive/Zahra/Models/model_CyberShake_constant_10_delay.keras' )"
      ]
    },
    {
      "cell_type": "markdown",
      "metadata": {
        "id": "YHOfdObx4fIx"
      },
      "source": [
        "## Inspiral - uniform"
      ]
    },
    {
      "cell_type": "code",
      "execution_count": null,
      "metadata": {
        "id": "70ubjjbz4kR7",
        "colab": {
          "base_uri": "https://localhost:8080/"
        },
        "outputId": "1f202958-90c6-487c-eaa1-059c0969c14a"
      },
      "outputs": [
        {
          "output_type": "stream",
          "name": "stdout",
          "text": [
            "Running simulation for Workflow: Inspiral, Size: 10, Distribution: uniform\n",
            "Total cost for Workflow Inspiral (uniform, size=10): 0.1256660523148149\n",
            "Total time for Workflow Inspiral (uniform, size=10): 189.7435258333332\n",
            "Running simulation for Workflow: Inspiral, Size: 20, Distribution: uniform\n",
            "Total cost for Workflow Inspiral (uniform, size=20): 0.1645139307870369\n",
            "Total time for Workflow Inspiral (uniform, size=20): 202.5206449999998\n",
            "Running simulation for Workflow: Inspiral, Size: 30, Distribution: uniform\n",
            "Total cost for Workflow Inspiral (uniform, size=30): 0.3729172643518507\n",
            "Total time for Workflow Inspiral (uniform, size=30): 250.48951083333301\n",
            "Running simulation for Workflow: Inspiral, Size: 40, Distribution: uniform\n",
            "Total cost for Workflow Inspiral (uniform, size=40): 0.32502560509259126\n",
            "Total time for Workflow Inspiral (uniform, size=40): 286.95450833333325\n",
            "Running simulation for Workflow: Inspiral, Size: 50, Distribution: uniform\n",
            "Total cost for Workflow Inspiral (uniform, size=50): 0.41895098055555446\n",
            "Total time for Workflow Inspiral (uniform, size=50): 329.87418500000024\n",
            "Running simulation for Workflow: Inspiral, Size: 60, Distribution: uniform\n",
            "Total cost for Workflow Inspiral (uniform, size=60): 0.7282645509259332\n",
            "Total time for Workflow Inspiral (uniform, size=60): 415.74448500000085\n",
            "Running simulation for Workflow: Inspiral, Size: 70, Distribution: uniform\n",
            "Total cost for Workflow Inspiral (uniform, size=70): 0.7113829250000061\n",
            "Total time for Workflow Inspiral (uniform, size=70): 322.5168925000006\n",
            "Running simulation for Workflow: Inspiral, Size: 80, Distribution: uniform\n",
            "Total cost for Workflow Inspiral (uniform, size=80): 0.8586207418981573\n",
            "Total time for Workflow Inspiral (uniform, size=80): 401.49322500000153\n",
            "Running simulation for Workflow: Inspiral, Size: 90, Distribution: uniform\n",
            "Total cost for Workflow Inspiral (uniform, size=90): 0.741561159490744\n",
            "Total time for Workflow Inspiral (uniform, size=90): 503.18328166666885\n",
            "Running simulation for Workflow: Inspiral, Size: 100, Distribution: uniform\n",
            "Total cost for Workflow Inspiral (uniform, size=100): 1.201093787962949\n",
            "Total time for Workflow Inspiral (uniform, size=100): 568.7129958333305\n"
          ]
        }
      ],
      "source": [
        "for i in range(1, 11):\n",
        "  run_simulation_with_results_tracking('Inspiral',10*i, 'uniform', '/content/drive/My Drive/Zahra/Models/model_CyberShake_constant_10_delay.keras' )"
      ]
    }
  ],
  "metadata": {
    "colab": {
      "provenance": [],
      "include_colab_link": true
    },
    "kernelspec": {
      "display_name": "Python 3",
      "name": "python3"
    },
    "language_info": {
      "name": "python"
    }
  },
  "nbformat": 4,
  "nbformat_minor": 0
}